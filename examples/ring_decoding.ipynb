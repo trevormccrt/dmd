{
 "cells": [
  {
   "cell_type": "markdown",
   "source": [
    "First, let's embed a ring in 3D."
   ],
   "metadata": {
    "collapsed": false
   }
  },
  {
   "cell_type": "code",
   "execution_count": 26,
   "outputs": [],
   "source": [
    "import os\n",
    "import sys\n",
    "import matplotlib.pyplot as plt\n",
    "import multiprocessing as mp\n",
    "import numpy as np\n",
    "from scipy import integrate\n",
    "import torch\n",
    "\n",
    "sys.path.append(os.path.join(os.getenv(\"HOME\"), \"RNN_Manifold/\"))\n",
    "from manifold_encoder_decoder import s1_direct_product_decoder, s1_direct_product_generator, geometry_util"
   ],
   "metadata": {
    "collapsed": false
   }
  },
  {
   "cell_type": "code",
   "execution_count": 2,
   "outputs": [],
   "source": [
    "device = torch.device('cuda' if torch.cuda.is_available() else 'cpu')\n"
   ],
   "metadata": {
    "collapsed": false
   }
  },
  {
   "cell_type": "code",
   "execution_count": 5,
   "outputs": [
    {
     "name": "stdout",
     "output_type": "stream",
     "text": [
      "iteration: 0, decoding loss: 1.0029677152633667, distance cost: 0.012535778805613518\n",
      "iteration: 1, decoding loss: 0.46725520491600037, distance cost: 0.029965534806251526\n",
      "iteration: 2, decoding loss: 0.32855257391929626, distance cost: 0.048808760941028595\n",
      "iteration: 3, decoding loss: 0.2557581663131714, distance cost: 0.05987952649593353\n",
      "iteration: 4, decoding loss: 0.2409341186285019, distance cost: 0.06121320649981499\n",
      "iteration: 5, decoding loss: 0.22502756118774414, distance cost: 0.05803830176591873\n",
      "iteration: 6, decoding loss: 0.1516445279121399, distance cost: 0.03405259922146797\n",
      "iteration: 7, decoding loss: 0.07211702316999435, distance cost: 0.012037016451358795\n",
      "iteration: 8, decoding loss: 0.024089254438877106, distance cost: 0.0017043849220499396\n",
      "iteration: 218, decoding loss: 0.010074108839035034, distance cost: 0.01388339139521122\n",
      "iteration: 221, decoding loss: 0.010324286296963692, distance cost: 0.0129084512591362\n",
      "iteration: 222, decoding loss: 0.009788015857338905, distance cost: 0.012228618375957012\n",
      "iteration: 223, decoding loss: 0.008852084167301655, distance cost: 0.011071658693253994\n",
      "iteration: 593, decoding loss: 0.007409967016428709, distance cost: 0.012415514327585697\n",
      "iteration: 595, decoding loss: 0.0069068786688148975, distance cost: 0.012414827942848206\n",
      "iteration: 596, decoding loss: 0.006874753162264824, distance cost: 0.012296054512262344\n",
      "iteration: 597, decoding loss: 0.0066208261996507645, distance cost: 0.012549052946269512\n",
      "iteration: 601, decoding loss: 0.006094579119235277, distance cost: 0.011861097998917103\n",
      "iteration: 604, decoding loss: 0.005905831698328257, distance cost: 0.011173487640917301\n",
      "iteration: 605, decoding loss: 0.005174260586500168, distance cost: 0.011103091761469841\n",
      "iteration: 607, decoding loss: 0.005050086881965399, distance cost: 0.0106023158878088\n",
      "iteration: 608, decoding loss: 0.004784122575074434, distance cost: 0.009903332218527794\n",
      "iteration: 611, decoding loss: 0.004639128688722849, distance cost: 0.00956033356487751\n",
      "iteration: 613, decoding loss: 0.004574163351207972, distance cost: 0.008656383492052555\n",
      "iteration: 617, decoding loss: 0.004060940816998482, distance cost: 0.009150467813014984\n",
      "iteration: 620, decoding loss: 0.003809142392128706, distance cost: 0.008767549879848957\n",
      "iteration: 621, decoding loss: 0.0037193666212260723, distance cost: 0.008186323568224907\n",
      "iteration: 624, decoding loss: 0.0034748392645269632, distance cost: 0.008282674476504326\n",
      "iteration: 627, decoding loss: 0.0033671585842967033, distance cost: 0.007665954064577818\n",
      "iteration: 630, decoding loss: 0.0035223886370658875, distance cost: 0.0074401916936039925\n",
      "iteration: 631, decoding loss: 0.0031623549293726683, distance cost: 0.007476726081222296\n",
      "iteration: 632, decoding loss: 0.003299124538898468, distance cost: 0.007250279188156128\n",
      "iteration: 633, decoding loss: 0.003234844421967864, distance cost: 0.007240451406687498\n",
      "iteration: 637, decoding loss: 0.003165953326970339, distance cost: 0.006947446148842573\n",
      "iteration: 853, decoding loss: 0.005199761595577002, distance cost: 0.0047678654082119465\n",
      "iteration: 858, decoding loss: 0.00466497428715229, distance cost: 0.00473373057320714\n",
      "iteration: 860, decoding loss: 0.0048601580783724785, distance cost: 0.004525034222751856\n",
      "iteration: 861, decoding loss: 0.004274412989616394, distance cost: 0.004397363867610693\n",
      "iteration: 862, decoding loss: 0.004632481839507818, distance cost: 0.004032908007502556\n",
      "iteration: 864, decoding loss: 0.004091103095561266, distance cost: 0.003973344806581736\n",
      "iteration: 866, decoding loss: 0.004051653668284416, distance cost: 0.003747764742001891\n",
      "iteration: 870, decoding loss: 0.00372551241889596, distance cost: 0.0037091663107275963\n",
      "iteration: 871, decoding loss: 0.0037900751922279596, distance cost: 0.00325854797847569\n",
      "iteration: 876, decoding loss: 0.0033537186682224274, distance cost: 0.0032175881788134575\n",
      "iteration: 877, decoding loss: 0.0034195154439657927, distance cost: 0.0030914261005818844\n",
      "iteration: 881, decoding loss: 0.0030616605654358864, distance cost: 0.003074836451560259\n",
      "iteration: 883, decoding loss: 0.003122390480712056, distance cost: 0.002947606146335602\n",
      "iteration: 884, decoding loss: 0.002727301325649023, distance cost: 0.003277693409472704\n",
      "iteration: 885, decoding loss: 0.0030396166257560253, distance cost: 0.002700971206650138\n",
      "iteration: 886, decoding loss: 0.002799476496875286, distance cost: 0.0027748518623411655\n",
      "iteration: 889, decoding loss: 0.002612787764519453, distance cost: 0.002894139848649502\n",
      "iteration: 891, decoding loss: 0.0025948002003133297, distance cost: 0.0025792184751480818\n",
      "iteration: 894, decoding loss: 0.002491290681064129, distance cost: 0.0026241110172122717\n",
      "iteration: 899, decoding loss: 0.0024705487303435802, distance cost: 0.0022693707142025232\n",
      "iteration: 904, decoding loss: 0.002087835455313325, distance cost: 0.0021373163908720016\n",
      "iteration: 908, decoding loss: 0.0019616701174527407, distance cost: 0.0020403116941452026\n",
      "iteration: 920, decoding loss: 0.0017495315987616777, distance cost: 0.0022339955903589725\n",
      "iteration: 922, decoding loss: 0.0016860065516084433, distance cost: 0.002221595263108611\n",
      "iteration: 930, decoding loss: 0.001515458687208593, distance cost: 0.002245538402348757\n",
      "iteration: 1282, decoding loss: 0.001350593869574368, distance cost: 0.002323407679796219\n",
      "iteration: 1288, decoding loss: 0.0012697454076260328, distance cost: 0.002249002456665039\n",
      "iteration: 1294, decoding loss: 0.0011758687905967236, distance cost: 0.0021944157779216766\n",
      "iteration: 1301, decoding loss: 0.0011950194602832198, distance cost: 0.002150783082470298\n",
      "iteration: 1304, decoding loss: 0.0012077204883098602, distance cost: 0.0020809536799788475\n",
      "iteration: 1320, decoding loss: 0.0011509254109114408, distance cost: 0.001886609592474997\n",
      "iteration: 1772, decoding loss: 0.0010576586937531829, distance cost: 0.0019530454883351922\n",
      "iteration: 1776, decoding loss: 0.0009884481551125646, distance cost: 0.0019448867533355951\n",
      "iteration: 1781, decoding loss: 0.0009568555979058146, distance cost: 0.0018868452170863748\n",
      "iteration: 1785, decoding loss: 0.0009635943570174277, distance cost: 0.0018437594408169389\n",
      "iteration: 1805, decoding loss: 0.0009587527019903064, distance cost: 0.0018484621541574597\n",
      "iteration: 1807, decoding loss: 0.0009938253788277507, distance cost: 0.0017518780659884214\n",
      "iteration: 1808, decoding loss: 0.0009186643874272704, distance cost: 0.0017818217165768147\n",
      "iteration: 1811, decoding loss: 0.0008996176184155047, distance cost: 0.0016888263635337353\n",
      "iteration: 1821, decoding loss: 0.0009607123793102801, distance cost: 0.0015813661739230156\n",
      "iteration: 1824, decoding loss: 0.0008414627518504858, distance cost: 0.0016666818410158157\n",
      "iteration: 1836, decoding loss: 0.0008442094549536705, distance cost: 0.001645746873691678\n",
      "iteration: 1848, decoding loss: 0.000861738168168813, distance cost: 0.0016018471214920282\n",
      "iteration: 1850, decoding loss: 0.0008427411667071283, distance cost: 0.0015112615656107664\n",
      "iteration: 2323, decoding loss: 0.0010067166294902563, distance cost: 0.0012939778389409184\n",
      "iteration: 2391, decoding loss: 0.0009714985499158502, distance cost: 0.0012892335653305054\n",
      "iteration: 2394, decoding loss: 0.0009587060776539147, distance cost: 0.0012852135114371777\n",
      "iteration: 2398, decoding loss: 0.0009237350313924253, distance cost: 0.0012510624947026372\n",
      "iteration: 2641, decoding loss: 0.0008978167315945029, distance cost: 0.0012714420445263386\n",
      "iteration: 2665, decoding loss: 0.000886571709997952, distance cost: 0.001227122382260859\n",
      "iteration: 2686, decoding loss: 0.0008232849068008363, distance cost: 0.0012352311750873923\n",
      "iteration: 2705, decoding loss: 0.0008832755265757442, distance cost: 0.0011701621115207672\n",
      "iteration: 2718, decoding loss: 0.0008184124017134309, distance cost: 0.001232527894899249\n",
      "iteration: 2730, decoding loss: 0.000854313897434622, distance cost: 0.0011763249058276415\n",
      "iteration: 2736, decoding loss: 0.0008592199883423746, distance cost: 0.0011695113498717546\n",
      "iteration: 2746, decoding loss: 0.0008231567335315049, distance cost: 0.0011825176188722253\n",
      "iteration: 2747, decoding loss: 0.0007955500041134655, distance cost: 0.0011488422751426697\n",
      "iteration: 2749, decoding loss: 0.0008112180512398481, distance cost: 0.001121619250625372\n",
      "iteration: 2765, decoding loss: 0.0007537018391303718, distance cost: 0.0011439478257670999\n",
      "iteration: 2775, decoding loss: 0.0007082317024469376, distance cost: 0.0010835012653842568\n",
      "iteration: 2798, decoding loss: 0.0006897461717016995, distance cost: 0.0010552762541919947\n",
      "iteration: 2806, decoding loss: 0.0007122327806428075, distance cost: 0.0009931371314451098\n",
      "iteration: 2821, decoding loss: 0.0006466001505032182, distance cost: 0.0009713211329653859\n",
      "iteration: 2835, decoding loss: 0.000621549494098872, distance cost: 0.000979771837592125\n",
      "iteration: 2840, decoding loss: 0.000620529695879668, distance cost: 0.0009524896158836782\n",
      "iteration: 2874, decoding loss: 0.0005753373843617737, distance cost: 0.0009604883380234241\n",
      "iteration: 2898, decoding loss: 0.000578221573960036, distance cost: 0.0009081489406526089\n",
      "iteration: 2903, decoding loss: 0.0005681957118213177, distance cost: 0.0008890985627658665\n",
      "iteration: 2912, decoding loss: 0.0005798253114335239, distance cost: 0.000867591705173254\n",
      "iteration: 2968, decoding loss: 0.0005238011362962425, distance cost: 0.000897432619240135\n",
      "iteration: 2979, decoding loss: 0.0005326899117790163, distance cost: 0.0008773196022957563\n"
     ]
    }
   ],
   "source": [
    "encoder, decoder = s1_direct_product_generator.train(1, 3, device, n_training_iterations=3000)\n",
    "\n",
    "angles = np.arange(start=0, stop=2 * np.pi, step=0.01)\n",
    "with torch.no_grad():\n",
    "    points = geometry_util.torch_angles_to_ring(torch.tensor(angles, dtype=torch.get_default_dtype()).to(device))\n",
    "    points = torch.unsqueeze(points, -2)\n",
    "    test_embedding = encoder(points)\n",
    "test_embedding = test_embedding.cpu().numpy()\n"
   ],
   "metadata": {
    "collapsed": false
   }
  },
  {
   "cell_type": "markdown",
   "source": [
    "The shape it generates should be pretty much random, as there is nothing in the loss function we use that encourages a specific shape"
   ],
   "metadata": {
    "collapsed": false
   }
  },
  {
   "cell_type": "code",
   "execution_count": 6,
   "outputs": [
    {
     "data": {
      "text/plain": "<mpl_toolkits.mplot3d.art3d.Path3DCollection at 0x7fcdf0057f10>"
     },
     "execution_count": 6,
     "metadata": {},
     "output_type": "execute_result"
    }
   ],
   "source": [
    "%matplotlib tk\n",
    "proj_fig = plt.figure()\n",
    "proj_axs = proj_fig.add_subplot(projection=\"3d\")\n",
    "proj_axs.scatter(test_embedding[:, 0], test_embedding[:, 1], test_embedding[:, 2], cmap=\"hsv\", c=angles)\n"
   ],
   "metadata": {
    "collapsed": false
   }
  },
  {
   "cell_type": "markdown",
   "source": [
    "Now let's generate a higher dimensional ring"
   ],
   "metadata": {
    "collapsed": false
   }
  },
  {
   "cell_type": "code",
   "execution_count": 14,
   "outputs": [
    {
     "name": "stderr",
     "output_type": "stream",
     "text": [
      "/home/trevor/brainvenv/lib/python3.8/site-packages/torch/nn/modules/lazy.py:180: UserWarning: Lazy modules are a new feature under heavy development so changes to the API or functionality can happen at any moment.\n",
      "  warnings.warn('Lazy modules are a new feature under heavy development '\n"
     ]
    },
    {
     "name": "stdout",
     "output_type": "stream",
     "text": [
      "iteration: 0, decoding loss: 0.9035608172416687, distance cost: 0.0013434101128950715\n",
      "iteration: 2, decoding loss: 0.4368201792240143, distance cost: 0.07030236721038818\n",
      "iteration: 3, decoding loss: 0.3822386860847473, distance cost: 0.0942377895116806\n",
      "iteration: 4, decoding loss: 0.3277147114276886, distance cost: 0.1043408140540123\n",
      "iteration: 5, decoding loss: 0.2594831585884094, distance cost: 0.09171884506940842\n",
      "iteration: 6, decoding loss: 0.23614588379859924, distance cost: 0.09805473685264587\n",
      "iteration: 7, decoding loss: 0.20286163687705994, distance cost: 0.07957272976636887\n",
      "iteration: 8, decoding loss: 0.20193909108638763, distance cost: 0.07176761329174042\n",
      "iteration: 9, decoding loss: 0.2107909470796585, distance cost: 0.04377899691462517\n",
      "iteration: 15, decoding loss: 0.21100710332393646, distance cost: 0.04342377185821533\n",
      "iteration: 16, decoding loss: 0.19615282118320465, distance cost: 0.05008523538708687\n",
      "iteration: 17, decoding loss: 0.18462644517421722, distance cost: 0.04972509294748306\n",
      "iteration: 35, decoding loss: 0.1770138293504715, distance cost: 0.04876047372817993\n",
      "iteration: 36, decoding loss: 0.14105325937271118, distance cost: 0.042143456637859344\n",
      "iteration: 37, decoding loss: 0.13142864406108856, distance cost: 0.049800485372543335\n",
      "iteration: 64, decoding loss: 0.13786481320858002, distance cost: 0.04275882989168167\n",
      "iteration: 65, decoding loss: 0.11495018750429153, distance cost: 0.04726541042327881\n",
      "iteration: 66, decoding loss: 0.09244845807552338, distance cost: 0.05355631560087204\n",
      "iteration: 68, decoding loss: 0.07658100128173828, distance cost: 0.06361570954322815\n",
      "iteration: 132, decoding loss: 0.10201738774776459, distance cost: 0.03388209268450737\n",
      "iteration: 133, decoding loss: 0.09698187559843063, distance cost: 0.03302384167909622\n",
      "iteration: 134, decoding loss: 0.09744730591773987, distance cost: 0.03035525046288967\n",
      "iteration: 135, decoding loss: 0.08396920561790466, distance cost: 0.029418371617794037\n",
      "iteration: 137, decoding loss: 0.07882009446620941, distance cost: 0.02799835428595543\n",
      "iteration: 138, decoding loss: 0.07774702459573746, distance cost: 0.024448439478874207\n",
      "iteration: 139, decoding loss: 0.06510208547115326, distance cost: 0.02581852488219738\n",
      "iteration: 140, decoding loss: 0.06756015121936798, distance cost: 0.0223793163895607\n",
      "iteration: 141, decoding loss: 0.06368664652109146, distance cost: 0.021499015390872955\n",
      "iteration: 142, decoding loss: 0.057013094425201416, distance cost: 0.0198237132281065\n",
      "iteration: 144, decoding loss: 0.05666254088282585, distance cost: 0.017827492207288742\n",
      "iteration: 145, decoding loss: 0.051434267312288284, distance cost: 0.01786210387945175\n",
      "iteration: 146, decoding loss: 0.047611135989427567, distance cost: 0.015558851882815361\n",
      "iteration: 148, decoding loss: 0.04353836923837662, distance cost: 0.013811009004712105\n",
      "iteration: 151, decoding loss: 0.04250580817461014, distance cost: 0.0141813475638628\n",
      "iteration: 152, decoding loss: 0.04258660972118378, distance cost: 0.012753705494105816\n",
      "iteration: 153, decoding loss: 0.04020226374268532, distance cost: 0.01328250765800476\n",
      "iteration: 154, decoding loss: 0.03891848772764206, distance cost: 0.01141786016523838\n",
      "iteration: 155, decoding loss: 0.03799043595790863, distance cost: 0.011942917481064796\n",
      "iteration: 156, decoding loss: 0.03678428381681442, distance cost: 0.010990109294652939\n",
      "iteration: 157, decoding loss: 0.035264886915683746, distance cost: 0.011492747813463211\n",
      "iteration: 159, decoding loss: 0.03575050085783005, distance cost: 0.010585121810436249\n",
      "iteration: 166, decoding loss: 0.032982632517814636, distance cost: 0.01296678464859724\n",
      "iteration: 170, decoding loss: 0.03246230259537697, distance cost: 0.013094819150865078\n",
      "iteration: 361, decoding loss: 0.02209986187517643, distance cost: 0.022801540791988373\n",
      "iteration: 369, decoding loss: 0.020458148792386055, distance cost: 0.023447448387742043\n",
      "iteration: 371, decoding loss: 0.02197239175438881, distance cost: 0.020340651273727417\n",
      "iteration: 373, decoding loss: 0.01970738358795643, distance cost: 0.01902737095952034\n",
      "iteration: 378, decoding loss: 0.019025925546884537, distance cost: 0.019669504836201668\n",
      "iteration: 379, decoding loss: 0.016935573890805244, distance cost: 0.020185798406600952\n",
      "iteration: 381, decoding loss: 0.016635779291391373, distance cost: 0.01999717392027378\n",
      "iteration: 382, decoding loss: 0.01591547019779682, distance cost: 0.019216444343328476\n",
      "iteration: 383, decoding loss: 0.016343239694833755, distance cost: 0.018627900630235672\n",
      "iteration: 386, decoding loss: 0.015256209298968315, distance cost: 0.01775858923792839\n",
      "iteration: 387, decoding loss: 0.014296269044280052, distance cost: 0.018382467329502106\n",
      "iteration: 391, decoding loss: 0.013393203727900982, distance cost: 0.018139587715268135\n",
      "iteration: 393, decoding loss: 0.013334481045603752, distance cost: 0.017523907124996185\n",
      "iteration: 396, decoding loss: 0.012833095155656338, distance cost: 0.017199816182255745\n",
      "iteration: 401, decoding loss: 0.011845461092889309, distance cost: 0.015296711586415768\n",
      "iteration: 403, decoding loss: 0.011093608103692532, distance cost: 0.01570632867515087\n",
      "iteration: 410, decoding loss: 0.012188772670924664, distance cost: 0.014495677314698696\n",
      "iteration: 413, decoding loss: 0.010969078168272972, distance cost: 0.015320882201194763\n",
      "iteration: 414, decoding loss: 0.01174126286059618, distance cost: 0.013430035673081875\n",
      "iteration: 428, decoding loss: 0.010898000560700893, distance cost: 0.014258123934268951\n",
      "iteration: 436, decoding loss: 0.011647133156657219, distance cost: 0.012960653752088547\n",
      "iteration: 442, decoding loss: 0.010469024069607258, distance cost: 0.014011009596288204\n",
      "iteration: 447, decoding loss: 0.010916103608906269, distance cost: 0.012932240031659603\n",
      "iteration: 456, decoding loss: 0.011172083206474781, distance cost: 0.012587599456310272\n",
      "iteration: 458, decoding loss: 0.010311956517398357, distance cost: 0.013058556243777275\n",
      "iteration: 469, decoding loss: 0.010883086360991001, distance cost: 0.011648419313132763\n",
      "iteration: 504, decoding loss: 0.009765052236616611, distance cost: 0.01251935213804245\n",
      "iteration: 508, decoding loss: 0.00964363943785429, distance cost: 0.01201004907488823\n",
      "iteration: 513, decoding loss: 0.009445982985198498, distance cost: 0.011822416447103024\n",
      "iteration: 514, decoding loss: 0.009258461184799671, distance cost: 0.010910853743553162\n",
      "iteration: 529, decoding loss: 0.008862946182489395, distance cost: 0.010934427380561829\n",
      "iteration: 531, decoding loss: 0.0085825240239501, distance cost: 0.010944688692688942\n",
      "iteration: 532, decoding loss: 0.008843358606100082, distance cost: 0.010431141592562199\n",
      "iteration: 533, decoding loss: 0.00846518762409687, distance cost: 0.010402202606201172\n",
      "iteration: 534, decoding loss: 0.008080130442976952, distance cost: 0.009909768588840961\n",
      "iteration: 535, decoding loss: 0.00816344190388918, distance cost: 0.009757339023053646\n",
      "iteration: 540, decoding loss: 0.007380470167845488, distance cost: 0.010481945239007473\n",
      "iteration: 542, decoding loss: 0.007454842794686556, distance cost: 0.009997627697885036\n",
      "iteration: 543, decoding loss: 0.007550527807325125, distance cost: 0.00855503510683775\n",
      "iteration: 545, decoding loss: 0.006883047521114349, distance cost: 0.008773579262197018\n",
      "iteration: 551, decoding loss: 0.0064391205087304115, distance cost: 0.008781622163951397\n",
      "iteration: 552, decoding loss: 0.006500620860606432, distance cost: 0.008303901180624962\n",
      "iteration: 553, decoding loss: 0.006314855068922043, distance cost: 0.007863312028348446\n",
      "iteration: 555, decoding loss: 0.005934890825301409, distance cost: 0.007551193702965975\n",
      "iteration: 559, decoding loss: 0.005838687531650066, distance cost: 0.007594578433781862\n",
      "iteration: 560, decoding loss: 0.00550475437194109, distance cost: 0.007824164815247059\n",
      "iteration: 561, decoding loss: 0.0057136681862175465, distance cost: 0.0073831039480865\n",
      "iteration: 564, decoding loss: 0.005476517602801323, distance cost: 0.006915081758052111\n",
      "iteration: 565, decoding loss: 0.005309394095093012, distance cost: 0.006659013219177723\n",
      "iteration: 566, decoding loss: 0.005270563531666994, distance cost: 0.00627928925678134\n",
      "iteration: 568, decoding loss: 0.004923743195831776, distance cost: 0.006080144084990025\n",
      "iteration: 573, decoding loss: 0.004671900998800993, distance cost: 0.006112832576036453\n",
      "iteration: 575, decoding loss: 0.004883048124611378, distance cost: 0.005259979050606489\n",
      "iteration: 577, decoding loss: 0.004624924622476101, distance cost: 0.005102320574223995\n",
      "iteration: 578, decoding loss: 0.004444087389856577, distance cost: 0.005040680058300495\n",
      "iteration: 581, decoding loss: 0.004481338895857334, distance cost: 0.004414508119225502\n",
      "iteration: 587, decoding loss: 0.0042344918474555016, distance cost: 0.004535863175988197\n",
      "iteration: 588, decoding loss: 0.004145683255046606, distance cost: 0.004374532960355282\n",
      "iteration: 590, decoding loss: 0.004382522311061621, distance cost: 0.004048272501677275\n",
      "iteration: 593, decoding loss: 0.003974712919443846, distance cost: 0.003735541133210063\n",
      "iteration: 597, decoding loss: 0.003848060267046094, distance cost: 0.0038150183390825987\n",
      "iteration: 599, decoding loss: 0.004065581597387791, distance cost: 0.0035414283629506826\n",
      "iteration: 600, decoding loss: 0.0035252429079264402, distance cost: 0.003431196790188551\n",
      "iteration: 605, decoding loss: 0.0036259826738387346, distance cost: 0.003236925695091486\n",
      "iteration: 607, decoding loss: 0.0035354008432477713, distance cost: 0.0031860163435339928\n",
      "iteration: 613, decoding loss: 0.0034148681443184614, distance cost: 0.0032636295072734356\n",
      "iteration: 616, decoding loss: 0.0034743589349091053, distance cost: 0.003183038905262947\n",
      "iteration: 620, decoding loss: 0.0033886206801980734, distance cost: 0.003211969742551446\n",
      "iteration: 622, decoding loss: 0.0033391616307199, distance cost: 0.003033342072740197\n",
      "iteration: 802, decoding loss: 0.0024636138696223497, distance cost: 0.003758176462724805\n",
      "iteration: 964, decoding loss: 0.0028952034190297127, distance cost: 0.0032630099449306726\n",
      "iteration: 966, decoding loss: 0.002907778834924102, distance cost: 0.003228766145184636\n",
      "iteration: 967, decoding loss: 0.0029491507448256016, distance cost: 0.003174976445734501\n",
      "iteration: 970, decoding loss: 0.0029659669380635023, distance cost: 0.002914245706051588\n",
      "iteration: 972, decoding loss: 0.0026715488638728857, distance cost: 0.003056085202842951\n",
      "iteration: 975, decoding loss: 0.002704635728150606, distance cost: 0.0027609688695520163\n",
      "iteration: 976, decoding loss: 0.002833304228261113, distance cost: 0.0026233531534671783\n",
      "iteration: 977, decoding loss: 0.002531434642150998, distance cost: 0.002903017681092024\n",
      "iteration: 979, decoding loss: 0.002669580513611436, distance cost: 0.0024869004264473915\n",
      "iteration: 982, decoding loss: 0.0024916543625295162, distance cost: 0.002440444193780422\n",
      "iteration: 985, decoding loss: 0.002359353704378009, distance cost: 0.0025434456765651703\n",
      "iteration: 987, decoding loss: 0.002286807633936405, distance cost: 0.0025145031977444887\n",
      "iteration: 992, decoding loss: 0.0020968415774405003, distance cost: 0.002428544219583273\n",
      "iteration: 998, decoding loss: 0.002214457606896758, distance cost: 0.002294082660228014\n",
      "iteration: 1002, decoding loss: 0.002091118134558201, distance cost: 0.0022657939698547125\n",
      "iteration: 1005, decoding loss: 0.002115334151312709, distance cost: 0.002193198772147298\n",
      "iteration: 1007, decoding loss: 0.00199714838527143, distance cost: 0.002287333132699132\n",
      "iteration: 1009, decoding loss: 0.0019353301031515002, distance cost: 0.0021154924761503935\n",
      "iteration: 1012, decoding loss: 0.0018800962716341019, distance cost: 0.0021396351512521505\n",
      "iteration: 1014, decoding loss: 0.0017611798830330372, distance cost: 0.0021542960312217474\n",
      "iteration: 1017, decoding loss: 0.0017790064448490739, distance cost: 0.001942667062394321\n",
      "iteration: 1024, decoding loss: 0.0016746106557548046, distance cost: 0.002030240138992667\n",
      "iteration: 1025, decoding loss: 0.0016883251955732703, distance cost: 0.001975857885554433\n",
      "iteration: 1027, decoding loss: 0.0016923482762649655, distance cost: 0.001918588299304247\n",
      "iteration: 1029, decoding loss: 0.0017210949445143342, distance cost: 0.001883487799204886\n",
      "iteration: 1030, decoding loss: 0.0016469061374664307, distance cost: 0.0019082380458712578\n",
      "iteration: 1035, decoding loss: 0.0016886251978576183, distance cost: 0.0017879672814160585\n",
      "iteration: 1287, decoding loss: 0.0016872001579031348, distance cost: 0.001780837425030768\n",
      "iteration: 1288, decoding loss: 0.0014881179668009281, distance cost: 0.0016617885557934642\n",
      "iteration: 1307, decoding loss: 0.0014914521016180515, distance cost: 0.0015798085369169712\n",
      "iteration: 1313, decoding loss: 0.0015284486580640078, distance cost: 0.0014610298676416278\n",
      "iteration: 1319, decoding loss: 0.0015038970159366727, distance cost: 0.0013055336894467473\n",
      "iteration: 1339, decoding loss: 0.0014364768285304308, distance cost: 0.0013113509630784392\n",
      "iteration: 1340, decoding loss: 0.0015351033071056008, distance cost: 0.0011423338437452912\n",
      "iteration: 1344, decoding loss: 0.001552798436023295, distance cost: 0.0011241325410082936\n",
      "iteration: 1351, decoding loss: 0.0015395297668874264, distance cost: 0.0011261232430115342\n",
      "iteration: 1357, decoding loss: 0.0015712049789726734, distance cost: 0.0010666438611224294\n",
      "iteration: 1364, decoding loss: 0.0015023843152448535, distance cost: 0.001075293868780136\n",
      "iteration: 1720, decoding loss: 0.0009121868060901761, distance cost: 0.0016397732542827725\n",
      "iteration: 1721, decoding loss: 0.0009269095025956631, distance cost: 0.0014675541315227747\n",
      "iteration: 1729, decoding loss: 0.0008845031843520701, distance cost: 0.001492281211540103\n",
      "iteration: 1731, decoding loss: 0.0008502257405780256, distance cost: 0.001522850594483316\n",
      "iteration: 1732, decoding loss: 0.0008174781105481088, distance cost: 0.0015042634913697839\n",
      "iteration: 1738, decoding loss: 0.0008250321261584759, distance cost: 0.0014947226736694574\n",
      "iteration: 1739, decoding loss: 0.0007806472713127732, distance cost: 0.0014261780306696892\n",
      "iteration: 1741, decoding loss: 0.0008045032154768705, distance cost: 0.0013763931347057223\n",
      "iteration: 1744, decoding loss: 0.0007716433610767126, distance cost: 0.0013789890799671412\n",
      "iteration: 1745, decoding loss: 0.0007681166171096265, distance cost: 0.0013028032844886184\n",
      "iteration: 1747, decoding loss: 0.0007955910987220705, distance cost: 0.0012647276744246483\n",
      "iteration: 1751, decoding loss: 0.0007549665169790387, distance cost: 0.0012488592183217406\n",
      "iteration: 1752, decoding loss: 0.0007477031322196126, distance cost: 0.0012484793551266193\n",
      "iteration: 1755, decoding loss: 0.0007478482439182699, distance cost: 0.0011796077014878392\n",
      "iteration: 1758, decoding loss: 0.0006875356193631887, distance cost: 0.001175158773548901\n",
      "iteration: 1762, decoding loss: 0.0007156365318223834, distance cost: 0.0011260455939918756\n",
      "iteration: 1767, decoding loss: 0.0006564143695868552, distance cost: 0.001107292715460062\n",
      "iteration: 1772, decoding loss: 0.0007009985856711864, distance cost: 0.0009893685346469283\n",
      "iteration: 1774, decoding loss: 0.0006470493972301483, distance cost: 0.0010261655552312732\n",
      "iteration: 1780, decoding loss: 0.0006907435017637908, distance cost: 0.0009539084858261049\n",
      "iteration: 1784, decoding loss: 0.0006381923449225724, distance cost: 0.0009664225508458912\n",
      "iteration: 1800, decoding loss: 0.0006383233121596277, distance cost: 0.000885891611687839\n",
      "iteration: 1841, decoding loss: 0.0007722701411694288, distance cost: 0.0006843783776275814\n",
      "iteration: 2226, decoding loss: 0.0006738472147844732, distance cost: 0.0007649456383660436\n",
      "iteration: 2567, decoding loss: 0.0005344916717149317, distance cost: 0.0008600683650001884\n",
      "iteration: 2586, decoding loss: 0.0005282986094243824, distance cost: 0.000826012110337615\n"
     ]
    }
   ],
   "source": [
    "encoder, decoder = s1_direct_product_generator.train(1, 24, device, n_training_iterations=3000)\n",
    "\n",
    "angles = np.arange(start=0, stop=2 * np.pi, step=0.01)\n",
    "with torch.no_grad():\n",
    "    points = geometry_util.torch_angles_to_ring(torch.tensor(angles, dtype=torch.get_default_dtype()).to(device))\n",
    "    points = torch.unsqueeze(points, -2)\n",
    "    high_d_generated_ring_data = encoder(points)\n",
    "high_d_generated_ring_data = high_d_generated_ring_data.cpu().numpy()\n"
   ],
   "metadata": {
    "collapsed": false
   }
  },
  {
   "cell_type": "markdown",
   "source": [
    "And then decode it"
   ],
   "metadata": {
    "collapsed": false
   }
  },
  {
   "cell_type": "code",
   "execution_count": 15,
   "outputs": [],
   "source": [
    "high_d_generated_ring_data = high_d_generated_ring_data/np.mean(np.abs(high_d_generated_ring_data))"
   ],
   "metadata": {
    "collapsed": false
   }
  },
  {
   "cell_type": "code",
   "execution_count": 16,
   "outputs": [
    {
     "name": "stdout",
     "output_type": "stream",
     "text": [
      "iteration: 0, decoding loss: 1.3473424911499023, distance cost: 0.0025158163625746965, order reduction: 0.02226358652114868\n",
      "iteration: 2, decoding loss: 0.6211466193199158, distance cost: 0.07954542338848114, order reduction: 0.11151224374771118\n",
      "iteration: 3, decoding loss: 0.47959259152412415, distance cost: 0.08081848174333572, order reduction: 0.007583215367048979\n",
      "iteration: 4, decoding loss: 0.2579832375049591, distance cost: 0.04504375904798508, order reduction: 0.0038131182081997395\n",
      "iteration: 5, decoding loss: 0.1957704722881317, distance cost: 0.011400366201996803, order reduction: 0.03850746899843216\n",
      "iteration: 6, decoding loss: 0.11464424431324005, distance cost: 0.0041203624568879604, order reduction: 0.02568143419921398\n",
      "iteration: 7, decoding loss: 0.10900125652551651, distance cost: 0.005413959734141827, order reduction: 0.03888633847236633\n",
      "iteration: 9, decoding loss: 0.10455015301704407, distance cost: 0.020257607102394104, order reduction: 0.00534908939152956\n",
      "iteration: 10, decoding loss: 0.09130433201789856, distance cost: 0.037705592811107635, order reduction: 0.0272148996591568\n",
      "iteration: 11, decoding loss: 0.06070805341005325, distance cost: 0.032078664749860764, order reduction: 0.0024001169949769974\n",
      "iteration: 15, decoding loss: 0.056780699640512466, distance cost: 0.01799074187874794, order reduction: 0.0337749607861042\n",
      "iteration: 16, decoding loss: 0.04524208977818489, distance cost: 0.02004898712038994, order reduction: 0.0024748097639530897\n",
      "iteration: 17, decoding loss: 0.034458745270967484, distance cost: 0.02116536535322666, order reduction: 0.11466079950332642\n",
      "iteration: 18, decoding loss: 0.027971701696515083, distance cost: 0.02522978000342846, order reduction: 0.03847576677799225\n",
      "iteration: 22, decoding loss: 0.026736551895737648, distance cost: 0.020833820104599, order reduction: 0.03942015394568443\n",
      "iteration: 23, decoding loss: 0.018305160105228424, distance cost: 0.01649473048746586, order reduction: 0.02713845483958721\n",
      "iteration: 24, decoding loss: 0.015503295697271824, distance cost: 0.01399451494216919, order reduction: 0.004129416774958372\n",
      "iteration: 29, decoding loss: 0.011001243256032467, distance cost: 0.012672405689954758, order reduction: 0.09626758098602295\n",
      "iteration: 30, decoding loss: 0.009892057627439499, distance cost: 0.011587142013013363, order reduction: 0.060744233429431915\n",
      "iteration: 33, decoding loss: 0.010486212559044361, distance cost: 0.009069633670151234, order reduction: 0.022144515067338943\n",
      "iteration: 34, decoding loss: 0.007362104952335358, distance cost: 0.009822630323469639, order reduction: 0.003747557755559683\n",
      "iteration: 35, decoding loss: 0.00547871133312583, distance cost: 0.010099485516548157, order reduction: 0.0046760342083871365\n",
      "iteration: 40, decoding loss: 0.004258689936250448, distance cost: 0.007793825585395098, order reduction: 0.01603635773062706\n",
      "iteration: 41, decoding loss: 0.003533103968948126, distance cost: 0.007698568981140852, order reduction: 0.03961792588233948\n",
      "iteration: 45, decoding loss: 0.0033750145230442286, distance cost: 0.005630619823932648, order reduction: 0.03912465274333954\n",
      "iteration: 46, decoding loss: 0.0028036555740982294, distance cost: 0.0043135774321854115, order reduction: 0.07565575838088989\n",
      "iteration: 47, decoding loss: 0.0028951766435056925, distance cost: 0.004334671888500452, order reduction: 0.003151813056319952\n",
      "iteration: 52, decoding loss: 0.0020018257200717926, distance cost: 0.0024575188290327787, order reduction: 0.06316519528627396\n",
      "iteration: 53, decoding loss: 0.002031751675531268, distance cost: 0.002455989131703973, order reduction: 0.0032104558777064085\n",
      "iteration: 56, decoding loss: 0.0017538770334795117, distance cost: 0.0021546673960983753, order reduction: 0.0033476422540843487\n",
      "iteration: 60, decoding loss: 0.0016243438003584743, distance cost: 0.0016951130237430334, order reduction: 0.0038694171234965324\n",
      "iteration: 63, decoding loss: 0.0010348577052354813, distance cost: 0.001684284768998623, order reduction: 0.04269997030496597\n",
      "iteration: 67, decoding loss: 0.0009616619790904224, distance cost: 0.0015882161678746343, order reduction: 0.004946171306073666\n",
      "iteration: 79, decoding loss: 0.0006835741805844009, distance cost: 0.0011569128837436438, order reduction: 0.0034457894507795572\n",
      "iteration: 81, decoding loss: 0.0006551124388352036, distance cost: 0.0012407719623297453, order reduction: 0.003615735098719597\n",
      "iteration: 87, decoding loss: 0.0005776917678304017, distance cost: 0.0011826932895928621, order reduction: 0.00324373715557158\n",
      "iteration: 91, decoding loss: 0.0005597256240434945, distance cost: 0.0011216906132176518, order reduction: 0.003336590016260743\n",
      "iteration: 99, decoding loss: 0.00046502501936629415, distance cost: 0.0009826903697103262, order reduction: 0.003367661964148283\n",
      "iteration: 108, decoding loss: 0.0004400114994496107, distance cost: 0.0008091229246929288, order reduction: 0.004306587390601635\n",
      "iteration: 110, decoding loss: 0.0004355889104772359, distance cost: 0.0007847025408409536, order reduction: 0.003456565085798502\n",
      "iteration: 112, decoding loss: 0.00041451083961874247, distance cost: 0.0008266253862529993, order reduction: 0.0034125838428735733\n",
      "iteration: 116, decoding loss: 0.00040692873881198466, distance cost: 0.0006607426912523806, order reduction: 0.0039061761926859617\n",
      "iteration: 125, decoding loss: 0.00035459641367197037, distance cost: 0.0005886915023438632, order reduction: 0.003862484125420451\n",
      "iteration: 133, decoding loss: 0.00036201690090820193, distance cost: 0.0005390376318246126, order reduction: 0.003311092033982277\n",
      "iteration: 140, decoding loss: 0.0003452817036304623, distance cost: 0.0005051733460277319, order reduction: 0.004444524180144072\n",
      "iteration: 143, decoding loss: 0.0003198819176759571, distance cost: 0.00042672123527154326, order reduction: 0.0037069341633468866\n",
      "iteration: 156, decoding loss: 0.00029035075567662716, distance cost: 0.00039470172487199306, order reduction: 0.0037842572201043367\n",
      "iteration: 160, decoding loss: 0.0002887282462324947, distance cost: 0.00041523465188220143, order reduction: 0.0035102569963783026\n",
      "iteration: 164, decoding loss: 0.00028249280876480043, distance cost: 0.0003249312285333872, order reduction: 0.003417163621634245\n",
      "iteration: 184, decoding loss: 0.0002632296527735889, distance cost: 0.0002605807385407388, order reduction: 0.0038793617859482765\n",
      "iteration: 193, decoding loss: 0.0002524106530472636, distance cost: 0.00023293617414310575, order reduction: 0.004366803448647261\n",
      "iteration: 201, decoding loss: 0.0002478040405549109, distance cost: 0.00022883049678057432, order reduction: 0.003927646204829216\n",
      "iteration: 209, decoding loss: 0.00024623863282613456, distance cost: 0.00020138447871431708, order reduction: 0.003477646503597498\n",
      "iteration: 212, decoding loss: 0.00023636120022274554, distance cost: 0.00021112643298693, order reduction: 0.00398979289457202\n",
      "iteration: 215, decoding loss: 0.00023446304840035737, distance cost: 0.0001993664918700233, order reduction: 0.003909198567271233\n",
      "iteration: 238, decoding loss: 0.0002328864356968552, distance cost: 0.00015530134260188788, order reduction: 0.004102722276002169\n",
      "iteration: 243, decoding loss: 0.00022485443332698196, distance cost: 0.00016075170424301177, order reduction: 0.004386948887258768\n",
      "iteration: 246, decoding loss: 0.00023031208547763526, distance cost: 0.00015129086386878043, order reduction: 0.003828588640317321\n",
      "iteration: 267, decoding loss: 0.000224049566895701, distance cost: 0.00013165232667233795, order reduction: 0.0036435590591281652\n",
      "iteration: 291, decoding loss: 0.000211467151530087, distance cost: 0.0001002084682113491, order reduction: 0.0045756446197628975\n",
      "iteration: 296, decoding loss: 0.00021479705173987895, distance cost: 9.14284901227802e-05, order reduction: 0.0043083843775093555\n",
      "iteration: 337, decoding loss: 0.00021381954138632864, distance cost: 7.587798609165475e-05, order reduction: 0.003885769983753562\n",
      "iteration: 351, decoding loss: 0.00020028313156217337, distance cost: 7.357625872828066e-05, order reduction: 0.004034979734569788\n",
      "iteration: 416, decoding loss: 0.0001972918544197455, distance cost: 4.4972268369747326e-05, order reduction: 0.004594765137881041\n",
      "iteration: 420, decoding loss: 0.00020349983242340386, distance cost: 4.363105108495802e-05, order reduction: 0.003941931761801243\n",
      "iteration: 422, decoding loss: 0.00019197013170924038, distance cost: 4.2365791159681976e-05, order reduction: 0.0038841264322400093\n",
      "iteration: 424, decoding loss: 0.00018288461433257908, distance cost: 4.319729850976728e-05, order reduction: 0.004729792941361666\n",
      "iteration: 591, decoding loss: 0.00017773977015167475, distance cost: 2.5506284146104008e-05, order reduction: 0.005004214588552713\n",
      "iteration: 592, decoding loss: 0.00017359749472234398, distance cost: 2.3362590582109988e-05, order reduction: 0.0047454130835831165\n",
      "iteration: 611, decoding loss: 0.00016904910444281995, distance cost: 2.6448251446709037e-05, order reduction: 0.004765804391354322\n",
      "iteration: 708, decoding loss: 0.00015988115046638995, distance cost: 2.2560083380085416e-05, order reduction: 0.004570117220282555\n",
      "iteration: 942, decoding loss: 0.00014798782649450004, distance cost: 1.839838114392478e-05, order reduction: 0.005261451471596956\n",
      "iteration: 949, decoding loss: 0.00014162172737997025, distance cost: 1.7964077414944768e-05, order reduction: 0.00488025788217783\n",
      "iteration: 951, decoding loss: 0.00014351352001540363, distance cost: 1.9170047380612232e-05, order reduction: 0.004218590445816517\n",
      "iteration: 980, decoding loss: 0.00013736478285863996, distance cost: 1.6883082935237326e-05, order reduction: 0.004837887827306986\n",
      "iteration: 999, decoding loss: 0.0001383013150189072, distance cost: 1.566561149957124e-05, order reduction: 0.00461200624704361\n",
      "iteration: 1134, decoding loss: 0.00013213740021456033, distance cost: 1.9803042960120365e-05, order reduction: 0.004853061866015196\n",
      "iteration: 1141, decoding loss: 0.00012472270464058965, distance cost: 1.7550368283991702e-05, order reduction: 0.005237257573753595\n",
      "iteration: 1143, decoding loss: 0.00011983560398221016, distance cost: 1.9036990124732256e-05, order reduction: 0.005596796981990337\n",
      "iteration: 1165, decoding loss: 0.00012987834634259343, distance cost: 1.697405423328746e-05, order reduction: 0.004201505798846483\n",
      "iteration: 1189, decoding loss: 0.0001258553529623896, distance cost: 1.660624548094347e-05, order reduction: 0.00459629762917757\n",
      "iteration: 1459, decoding loss: 0.00011844780237879604, distance cost: 1.3718748959945515e-05, order reduction: 0.005285964347422123\n",
      "iteration: 1461, decoding loss: 0.00011733647988876328, distance cost: 1.5289702787413262e-05, order reduction: 0.004982407670468092\n",
      "iteration: 1464, decoding loss: 0.00011338478361722082, distance cost: 1.3498675798473414e-05, order reduction: 0.005190855357795954\n",
      "iteration: 1467, decoding loss: 0.00010080711945192888, distance cost: 1.2503473953984212e-05, order reduction: 0.0050370171666145325\n",
      "iteration: 1876, decoding loss: 9.760315151652321e-05, distance cost: 9.01919247553451e-06, order reduction: 0.0053915889002382755\n"
     ]
    }
   ],
   "source": [
    "encoder, decoder = s1_direct_product_decoder.train(data=high_d_generated_ring_data, manifold_dim=1, device=device,\n",
    "                                                   n_training_iterations=3000, decoder_weight=10, order_red_weight=0.1)\n"
   ],
   "metadata": {
    "collapsed": false
   }
  },
  {
   "cell_type": "code",
   "execution_count": 17,
   "outputs": [],
   "source": [
    "with torch.no_grad():\n",
    "    decoded_points, decoded_angles = decoder(torch.tensor(high_d_generated_ring_data, dtype=torch.get_default_dtype()).to(device))\n",
    "\n",
    "predicted_phases = torch.squeeze(decoded_angles).cpu().numpy()"
   ],
   "metadata": {
    "collapsed": false
   }
  },
  {
   "cell_type": "code",
   "execution_count": 18,
   "outputs": [],
   "source": [
    "def reference_phases(phases):\n",
    "    phases_refd = phases - phases[0]\n",
    "    phases_refd = np.arctan2(np.sin(phases_refd), np.cos(phases_refd))\n",
    "    return phases_refd * np.sign(phases_refd[1])"
   ],
   "metadata": {
    "collapsed": false
   }
  },
  {
   "cell_type": "code",
   "execution_count": 22,
   "outputs": [],
   "source": [
    "def compare_to_ground_truth(predicted_phases, ground_truth_phases, plot_ax):\n",
    "    refd_test_phases = reference_phases(predicted_phases)\n",
    "    refd_true_phases = reference_phases(ground_truth_phases)\n",
    "    line = np.arange(start=-np.pi, stop=np.pi, step=0.01)\n",
    "    plot_ax.scatter(refd_true_phases, refd_test_phases)\n",
    "    plot_ax.plot(line, line, color=\"black\", linestyle=\"--\", label=\"y=x\")\n",
    "    plot_ax.set_xlabel(\"True Phase\")\n",
    "    plot_ax.set_ylabel(\"Found Phase\")\n",
    "    return refd_test_phases, refd_true_phases\n"
   ],
   "metadata": {
    "collapsed": false
   }
  },
  {
   "cell_type": "code",
   "execution_count": 23,
   "outputs": [
    {
     "data": {
      "text/plain": "<Figure size 640x480 with 1 Axes>",
      "image/png": "[encoded data removed]"
     },
     "metadata": {},
     "output_type": "display_data"
    }
   ],
   "source": [
    "%matplotlib inline\n",
    "fig, ax = plt.subplots()\n",
    "refd_predicted_phases, refd_true_phases = compare_to_ground_truth(predicted_phases, angles, ax)\n"
   ],
   "metadata": {
    "collapsed": false
   }
  },
  {
   "cell_type": "markdown",
   "source": [
    "Now let's do a harder problem. Let's decode noisy data generated by a dynamic system. First, the dynamics. We will use a typical ring attractor model,"
   ],
   "metadata": {
    "collapsed": false
   }
  },
  {
   "cell_type": "code",
   "execution_count": 28,
   "outputs": [],
   "source": [
    "def conv_circ(signal, ker):\n",
    "    return np.fft.ifft(np.einsum(\"ij, j -> ij\", np.fft.fft(signal, axis=1), np.fft.fft(ker)), axis=1)\n",
    "\n",
    "\n",
    "def cosine_kernel(w_0, w_1, N):\n",
    "    step = 2/(N)\n",
    "    grid = np.arange(start=0, stop=2, step=step) * np.pi\n",
    "    weights = -w_0 + w_1 * np.cos(grid)\n",
    "    return weights\n",
    "\n",
    "\n",
    "def ring_attractor_dynamics(state, kernel, bias_vec, nonlin_fn):\n",
    "    if len(np.shape(state)) == 1:\n",
    "        state = np.expand_dims(state, -1)\n",
    "    state = np.transpose(state)\n",
    "    return np.transpose(-state + nonlin_fn(conv_circ(state, kernel) + bias_vec))\n",
    "\n",
    "\n",
    "def sigmoid(x):\n",
    "    return np.exp(x)/(np.exp(x) + 1)"
   ],
   "metadata": {
    "collapsed": false
   }
  },
  {
   "cell_type": "markdown",
   "source": [
    "Generate some samples of equalibrium states. We will generate around 50, to make things interesting."
   ],
   "metadata": {
    "collapsed": false
   }
  },
  {
   "cell_type": "code",
   "execution_count": 31,
   "outputs": [
    {
     "name": "stderr",
     "output_type": "stream",
     "text": [
      "/tmp/ipykernel_161331/1478060612.py:4: DeprecationWarning: `np.complex` is a deprecated alias for the builtin `complex`. To silence this warning, use `complex` by itself. Doing this will not modify any behavior and is safe. If you specifically wanted the numpy scalar type, use `np.complex128` here.\n",
      "Deprecated in NumPy 1.20; for more details and guidance: https://numpy.org/devdocs/release/1.20.0-notes.html#deprecations\n",
      "  init_conds = np.random.uniform(-1, 1, (n_samples, N)).astype(np.complex)\n"
     ]
    }
   ],
   "source": [
    "N = 2 ** 7\n",
    "n_samples = 50\n",
    "\n",
    "init_conds = np.random.uniform(-1, 1, (n_samples, N)).astype(np.complex)\n",
    "\n",
    "w_0 = 1\n",
    "w_1 = 1\n",
    "kernel = cosine_kernel(w_0, w_1, N)\n",
    "\n",
    "\n",
    "def run_equilibriation(init_conds):\n",
    "    soln = integrate.solve_ivp(lambda _, y: ring_attractor_dynamics(y, kernel, np.zeros(N), sigmoid),\n",
    "                               [0, 20], init_conds, vectorized=True)\n",
    "    return soln.y[:, -1]\n",
    "\n",
    "\n",
    "p = mp.Pool()\n",
    "solns = np.array(p.map(run_equilibriation, init_conds))\n",
    "p.close()\n",
    "p.join()"
   ],
   "metadata": {
    "collapsed": false
   }
  },
  {
   "cell_type": "markdown",
   "source": [
    "Add some noise"
   ],
   "metadata": {
    "collapsed": false
   }
  },
  {
   "cell_type": "code",
   "execution_count": 36,
   "outputs": [],
   "source": [
    "ring_attractor_data = np.real(solns/np.mean(np.abs(solns)))\n",
    "noisy_ring_attractor_data = ring_attractor_data + np.random.normal(0, np.max(ring_attractor_data)/15, np.shape(ring_attractor_data))"
   ],
   "metadata": {
    "collapsed": false
   }
  },
  {
   "cell_type": "markdown",
   "source": [
    "Note down the ground truth phases"
   ],
   "metadata": {
    "collapsed": false
   }
  },
  {
   "cell_type": "code",
   "execution_count": 37,
   "outputs": [],
   "source": [
    "true_ring_att_phases = (np.argmax(ring_attractor_data, axis=1)/N) * 2 * np.pi"
   ],
   "metadata": {
    "collapsed": false
   }
  },
  {
   "cell_type": "code",
   "execution_count": 39,
   "outputs": [
    {
     "data": {
      "text/plain": "Text(0, 0.5, 'Datapoint')"
     },
     "execution_count": 39,
     "metadata": {},
     "output_type": "execute_result"
    },
    {
     "data": {
      "text/plain": "<Figure size 640x480 with 1 Axes>",
      "image/png": "[encoded data removed]"
     },
     "metadata": {},
     "output_type": "display_data"
    }
   ],
   "source": [
    "fig, ax = plt.subplots()\n",
    "ax.imshow(noisy_ring_attractor_data, aspect=\"auto\")\n",
    "ax.set_title(\"Raw activation data\")\n",
    "ax.set_xlabel(\"Neuron Index\")\n",
    "ax.set_ylabel(\"Datapoint\")\n"
   ],
   "metadata": {
    "collapsed": false
   }
  },
  {
   "cell_type": "markdown",
   "source": [
    "Now decode"
   ],
   "metadata": {
    "collapsed": false
   }
  },
  {
   "cell_type": "code",
   "execution_count": 40,
   "outputs": [
    {
     "name": "stderr",
     "output_type": "stream",
     "text": [
      "/home/trevor/brainvenv/lib/python3.8/site-packages/torch/nn/modules/lazy.py:180: UserWarning: Lazy modules are a new feature under heavy development so changes to the API or functionality can happen at any moment.\n",
      "  warnings.warn('Lazy modules are a new feature under heavy development '\n"
     ]
    },
    {
     "name": "stdout",
     "output_type": "stream",
     "text": [
      "iteration: 0, decoding loss: 4.3064188957214355, distance cost: 0.00239120633341372, order reduction: 0.0046319011598825455\n",
      "iteration: 1, decoding loss: 3.6360256671905518, distance cost: 0.026919331401586533, order reduction: 0.0029443278908729553\n",
      "iteration: 2, decoding loss: 3.0046772956848145, distance cost: 0.054366517812013626, order reduction: 0.0020011153537780046\n",
      "iteration: 3, decoding loss: 2.7926719188690186, distance cost: 0.0350860096514225, order reduction: 0.005224388558417559\n",
      "iteration: 4, decoding loss: 2.4392101764678955, distance cost: 0.013131939806044102, order reduction: 0.0031211392488330603\n",
      "iteration: 5, decoding loss: 2.168358087539673, distance cost: 0.004803050309419632, order reduction: 0.003068084130063653\n",
      "iteration: 6, decoding loss: 1.9558584690093994, distance cost: 0.0025720468256622553, order reduction: 0.002774423686787486\n",
      "iteration: 7, decoding loss: 1.8122347593307495, distance cost: 0.006753856781870127, order reduction: 0.0028929749969393015\n",
      "iteration: 8, decoding loss: 1.7027958631515503, distance cost: 0.011564083397388458, order reduction: 0.0026598579715937376\n",
      "iteration: 9, decoding loss: 1.5824626684188843, distance cost: 0.009067840874195099, order reduction: 0.0027111107483506203\n",
      "iteration: 10, decoding loss: 1.4730538129806519, distance cost: 0.00646565156057477, order reduction: 0.0033911128994077444\n",
      "iteration: 11, decoding loss: 1.361268162727356, distance cost: 0.005070110317319632, order reduction: 0.003515407210215926\n",
      "iteration: 12, decoding loss: 1.256434440612793, distance cost: 0.006909583229571581, order reduction: 0.004342006053775549\n",
      "iteration: 13, decoding loss: 1.145967721939087, distance cost: 0.008779237978160381, order reduction: 0.004263162612915039\n",
      "iteration: 14, decoding loss: 1.0509018898010254, distance cost: 0.009259060025215149, order reduction: 0.005265278276056051\n",
      "iteration: 15, decoding loss: 0.9501190781593323, distance cost: 0.00829615443944931, order reduction: 0.005796986632049084\n",
      "iteration: 16, decoding loss: 0.8520164489746094, distance cost: 0.0072504496201872826, order reduction: 0.007042067125439644\n",
      "iteration: 17, decoding loss: 0.7750769257545471, distance cost: 0.006195233669131994, order reduction: 0.007494610734283924\n",
      "iteration: 18, decoding loss: 0.6896917223930359, distance cost: 0.004505452234297991, order reduction: 0.0077565014362335205\n",
      "iteration: 19, decoding loss: 0.623810350894928, distance cost: 0.004065569955855608, order reduction: 0.007898486219346523\n",
      "iteration: 20, decoding loss: 0.5752966403961182, distance cost: 0.003308327170088887, order reduction: 0.008915191516280174\n",
      "iteration: 21, decoding loss: 0.5236092209815979, distance cost: 0.002295261947438121, order reduction: 0.008194112218916416\n",
      "iteration: 22, decoding loss: 0.47782018780708313, distance cost: 0.001994337420910597, order reduction: 0.008984548039734364\n",
      "iteration: 23, decoding loss: 0.43625009059906006, distance cost: 0.0022193538025021553, order reduction: 0.008077946491539478\n",
      "iteration: 24, decoding loss: 0.40319526195526123, distance cost: 0.002094860654324293, order reduction: 0.009552661329507828\n",
      "iteration: 25, decoding loss: 0.37829044461250305, distance cost: 0.0018179317703470588, order reduction: 0.010086177848279476\n",
      "iteration: 26, decoding loss: 0.3516094386577606, distance cost: 0.0014038897352293134, order reduction: 0.010193916037678719\n",
      "iteration: 27, decoding loss: 0.32755422592163086, distance cost: 0.001436802209354937, order reduction: 0.009996430017054081\n",
      "iteration: 28, decoding loss: 0.2981478273868561, distance cost: 0.0011086994782090187, order reduction: 0.010763769969344139\n",
      "iteration: 29, decoding loss: 0.28089991211891174, distance cost: 0.001170168980024755, order reduction: 0.012063196860253811\n",
      "iteration: 30, decoding loss: 0.26262542605400085, distance cost: 0.0010715360986068845, order reduction: 0.012543538585305214\n",
      "iteration: 31, decoding loss: 0.24393503367900848, distance cost: 0.00103014858905226, order reduction: 0.01204308494925499\n",
      "iteration: 32, decoding loss: 0.22747616469860077, distance cost: 0.0009462757734581828, order reduction: 0.01244624424725771\n",
      "iteration: 33, decoding loss: 0.21365217864513397, distance cost: 0.001134174526669085, order reduction: 0.012592869810760021\n",
      "iteration: 34, decoding loss: 0.20379458367824554, distance cost: 0.0010004491778090596, order reduction: 0.013787916861474514\n",
      "iteration: 35, decoding loss: 0.19507914781570435, distance cost: 0.0009778791572898626, order reduction: 0.01352282427251339\n",
      "iteration: 36, decoding loss: 0.18218328058719635, distance cost: 0.001108693890273571, order reduction: 0.014731504954397678\n",
      "iteration: 37, decoding loss: 0.17521986365318298, distance cost: 0.0010849746176972985, order reduction: 0.014423408545553684\n",
      "iteration: 38, decoding loss: 0.1676003485918045, distance cost: 0.000933780858758837, order reduction: 0.01433930080384016\n",
      "iteration: 39, decoding loss: 0.1627318561077118, distance cost: 0.0010137655772268772, order reduction: 0.01449673343449831\n",
      "iteration: 40, decoding loss: 0.1589161604642868, distance cost: 0.0010133596369996667, order reduction: 0.015569811686873436\n",
      "iteration: 41, decoding loss: 0.15183399617671967, distance cost: 0.0010427174856886268, order reduction: 0.016302958130836487\n",
      "iteration: 42, decoding loss: 0.14974555373191833, distance cost: 0.0009283779072575271, order reduction: 0.016417954117059708\n",
      "iteration: 43, decoding loss: 0.14306308329105377, distance cost: 0.0009083010372705758, order reduction: 0.014609215781092644\n",
      "iteration: 44, decoding loss: 0.13978031277656555, distance cost: 0.00100155477412045, order reduction: 0.015979114919900894\n",
      "iteration: 45, decoding loss: 0.1367902010679245, distance cost: 0.0009181431378237903, order reduction: 0.01733839325606823\n",
      "iteration: 46, decoding loss: 0.13390637934207916, distance cost: 0.000834090169519186, order reduction: 0.016236180439591408\n",
      "iteration: 47, decoding loss: 0.13104359805583954, distance cost: 0.0009186704410240054, order reduction: 0.015729177743196487\n",
      "iteration: 48, decoding loss: 0.12843424081802368, distance cost: 0.0008685836801305413, order reduction: 0.016013771295547485\n",
      "iteration: 49, decoding loss: 0.12496695667505264, distance cost: 0.0008208543295040727, order reduction: 0.01608847826719284\n",
      "iteration: 50, decoding loss: 0.12324001640081406, distance cost: 0.0008443763945251703, order reduction: 0.015735646709799767\n",
      "iteration: 51, decoding loss: 0.1211225613951683, distance cost: 0.0007680808193981647, order reduction: 0.015800129622220993\n",
      "iteration: 52, decoding loss: 0.12000443041324615, distance cost: 0.000760892522521317, order reduction: 0.016075514256954193\n",
      "iteration: 53, decoding loss: 0.11762591451406479, distance cost: 0.0007175125647336245, order reduction: 0.017535366117954254\n",
      "iteration: 54, decoding loss: 0.1157558336853981, distance cost: 0.0008094513905234635, order reduction: 0.017940832301974297\n",
      "iteration: 55, decoding loss: 0.11400075256824493, distance cost: 0.0008193668909370899, order reduction: 0.018589485436677933\n",
      "iteration: 56, decoding loss: 0.11326829344034195, distance cost: 0.0007888927939347923, order reduction: 0.016223983839154243\n",
      "iteration: 57, decoding loss: 0.11141667515039444, distance cost: 0.000732248357962817, order reduction: 0.017117448151111603\n",
      "iteration: 58, decoding loss: 0.1101679801940918, distance cost: 0.0006219420465640724, order reduction: 0.01654954068362713\n",
      "iteration: 59, decoding loss: 0.10910309106111526, distance cost: 0.0005739874904975295, order reduction: 0.018073132261633873\n",
      "iteration: 60, decoding loss: 0.10802992433309555, distance cost: 0.0005360774812288582, order reduction: 0.01833575963973999\n",
      "iteration: 61, decoding loss: 0.10682684928178787, distance cost: 0.0005879675736650825, order reduction: 0.01788467913866043\n",
      "iteration: 62, decoding loss: 0.10675378888845444, distance cost: 0.0005801311926916242, order reduction: 0.018445279449224472\n",
      "iteration: 63, decoding loss: 0.10581400245428085, distance cost: 0.0005520614213310182, order reduction: 0.016783354803919792\n",
      "iteration: 64, decoding loss: 0.10482724756002426, distance cost: 0.0006144008366391063, order reduction: 0.01893928274512291\n",
      "iteration: 65, decoding loss: 0.10327552258968353, distance cost: 0.0005687081138603389, order reduction: 0.02000338025391102\n",
      "iteration: 66, decoding loss: 0.10259652882814407, distance cost: 0.0005683738272637129, order reduction: 0.01832086220383644\n",
      "iteration: 68, decoding loss: 0.10160524398088455, distance cost: 0.0006288769654929638, order reduction: 0.018810711801052094\n",
      "iteration: 71, decoding loss: 0.10018453001976013, distance cost: 0.0005546528263948858, order reduction: 0.018886202946305275\n",
      "iteration: 73, decoding loss: 0.10000424832105637, distance cost: 0.0005415288032963872, order reduction: 0.018269287422299385\n",
      "iteration: 74, decoding loss: 0.0984802171587944, distance cost: 0.0004885655362159014, order reduction: 0.019120747223496437\n",
      "iteration: 75, decoding loss: 0.09733156114816666, distance cost: 0.0005291781271807849, order reduction: 0.019194791093468666\n",
      "iteration: 76, decoding loss: 0.09724724292755127, distance cost: 0.0005432795733213425, order reduction: 0.021530909463763237\n",
      "iteration: 79, decoding loss: 0.0955188199877739, distance cost: 0.0005325359525159001, order reduction: 0.02081596851348877\n",
      "iteration: 81, decoding loss: 0.09466422349214554, distance cost: 0.0006118090241216123, order reduction: 0.01989615336060524\n",
      "iteration: 84, decoding loss: 0.09429419785737991, distance cost: 0.0005458749947138131, order reduction: 0.020202793180942535\n",
      "iteration: 86, decoding loss: 0.0939827635884285, distance cost: 0.0005597156705334783, order reduction: 0.01897277869284153\n",
      "iteration: 88, decoding loss: 0.0929042249917984, distance cost: 0.0005562120350077748, order reduction: 0.023876236751675606\n",
      "iteration: 89, decoding loss: 0.09291936457157135, distance cost: 0.0005377423949539661, order reduction: 0.021172387525439262\n",
      "iteration: 90, decoding loss: 0.092888742685318, distance cost: 0.0005530173657462001, order reduction: 0.02145697921514511\n",
      "iteration: 91, decoding loss: 0.09217439591884613, distance cost: 0.0005750260897912085, order reduction: 0.019720572978258133\n",
      "iteration: 92, decoding loss: 0.09173069894313812, distance cost: 0.0004986563581041992, order reduction: 0.020814010873436928\n",
      "iteration: 94, decoding loss: 0.09134700149297714, distance cost: 0.0005192156531848013, order reduction: 0.020403558388352394\n",
      "iteration: 96, decoding loss: 0.09079324454069138, distance cost: 0.0005747925606556237, order reduction: 0.022528911009430885\n",
      "iteration: 98, decoding loss: 0.09000818431377411, distance cost: 0.0004988376167602837, order reduction: 0.022730909287929535\n",
      "iteration: 99, decoding loss: 0.08976579457521439, distance cost: 0.00047926476690918207, order reduction: 0.02354748174548149\n",
      "iteration: 101, decoding loss: 0.08935054391622543, distance cost: 0.0005125566967763007, order reduction: 0.020685171708464622\n",
      "iteration: 103, decoding loss: 0.08859574049711227, distance cost: 0.0005589857464656234, order reduction: 0.022017423063516617\n",
      "iteration: 104, decoding loss: 0.08853599429130554, distance cost: 0.0005620235460810363, order reduction: 0.022787807509303093\n",
      "iteration: 117, decoding loss: 0.08753243833780289, distance cost: 0.001077507622539997, order reduction: 0.02435353957116604\n",
      "iteration: 121, decoding loss: 0.08643579483032227, distance cost: 0.0011489909375086427, order reduction: 0.0239360760897398\n",
      "iteration: 124, decoding loss: 0.08534175157546997, distance cost: 0.0011405942495912313, order reduction: 0.025194117799401283\n",
      "iteration: 126, decoding loss: 0.08510760962963104, distance cost: 0.0010593656916171312, order reduction: 0.024882817640900612\n",
      "iteration: 129, decoding loss: 0.0843953862786293, distance cost: 0.001256501884199679, order reduction: 0.023536505177617073\n",
      "iteration: 132, decoding loss: 0.08384590595960617, distance cost: 0.001081592869013548, order reduction: 0.024060525000095367\n",
      "iteration: 134, decoding loss: 0.08352430909872055, distance cost: 0.0011762493522837758, order reduction: 0.02420908771455288\n",
      "iteration: 135, decoding loss: 0.08245834708213806, distance cost: 0.001236633164808154, order reduction: 0.024500630795955658\n",
      "iteration: 136, decoding loss: 0.08245862275362015, distance cost: 0.001079328591004014, order reduction: 0.025027303025126457\n",
      "iteration: 137, decoding loss: 0.08136610686779022, distance cost: 0.0011218717554584146, order reduction: 0.029967954382300377\n",
      "iteration: 140, decoding loss: 0.08119887113571167, distance cost: 0.0010969358263537288, order reduction: 0.027613623067736626\n",
      "iteration: 142, decoding loss: 0.0804605558514595, distance cost: 0.0009302395046688616, order reduction: 0.02707594260573387\n",
      "iteration: 144, decoding loss: 0.08030301332473755, distance cost: 0.0009327210136689246, order reduction: 0.026510003954172134\n",
      "iteration: 145, decoding loss: 0.08023648709058762, distance cost: 0.0008845014963299036, order reduction: 0.02873828448355198\n",
      "iteration: 149, decoding loss: 0.07971065491437912, distance cost: 0.0009231776348315179, order reduction: 0.02867566980421543\n",
      "iteration: 150, decoding loss: 0.07794521003961563, distance cost: 0.0008905708673410118, order reduction: 0.028420746326446533\n",
      "iteration: 152, decoding loss: 0.07793231308460236, distance cost: 0.000861684384290129, order reduction: 0.028150435537099838\n",
      "iteration: 154, decoding loss: 0.07758758217096329, distance cost: 0.0007685513701289892, order reduction: 0.027850473299622536\n",
      "iteration: 156, decoding loss: 0.07691096514463425, distance cost: 0.0008537571993656456, order reduction: 0.028502248227596283\n",
      "iteration: 163, decoding loss: 0.07580579072237015, distance cost: 0.0009112791158258915, order reduction: 0.0322481133043766\n",
      "iteration: 166, decoding loss: 0.07559793442487717, distance cost: 0.0008822641684673727, order reduction: 0.030560754239559174\n",
      "iteration: 168, decoding loss: 0.07406467199325562, distance cost: 0.0008709134417586029, order reduction: 0.03332531452178955\n",
      "iteration: 174, decoding loss: 0.07330742478370667, distance cost: 0.0007807405781932175, order reduction: 0.032481033354997635\n",
      "iteration: 176, decoding loss: 0.07201611995697021, distance cost: 0.0008301837951876223, order reduction: 0.03181261196732521\n",
      "iteration: 185, decoding loss: 0.07144723832607269, distance cost: 0.0008458088268525898, order reduction: 0.036224331706762314\n",
      "iteration: 186, decoding loss: 0.07141322642564774, distance cost: 0.0008105950546450913, order reduction: 0.03496500477194786\n",
      "iteration: 187, decoding loss: 0.07105050981044769, distance cost: 0.000871125259436667, order reduction: 0.03459101915359497\n",
      "iteration: 189, decoding loss: 0.07017084211111069, distance cost: 0.0009152055718004704, order reduction: 0.03550925478339195\n",
      "iteration: 202, decoding loss: 0.06957747042179108, distance cost: 0.001007437938824296, order reduction: 0.037081338465213776\n",
      "iteration: 205, decoding loss: 0.06915374845266342, distance cost: 0.0010171937756240368, order reduction: 0.04084482789039612\n",
      "iteration: 207, decoding loss: 0.06873588263988495, distance cost: 0.0010396690340712667, order reduction: 0.03749888390302658\n",
      "iteration: 209, decoding loss: 0.0679669976234436, distance cost: 0.0010546216508373618, order reduction: 0.03616569936275482\n",
      "iteration: 210, decoding loss: 0.06751693785190582, distance cost: 0.0010967181297019124, order reduction: 0.041402995586395264\n",
      "iteration: 212, decoding loss: 0.06639514118432999, distance cost: 0.0011480965185910463, order reduction: 0.04052426293492317\n",
      "iteration: 214, decoding loss: 0.0660783126950264, distance cost: 0.0011663890909403563, order reduction: 0.0412980392575264\n",
      "iteration: 218, decoding loss: 0.06461071968078613, distance cost: 0.001083581242710352, order reduction: 0.0408681184053421\n",
      "iteration: 221, decoding loss: 0.06352242827415466, distance cost: 0.0012164763174951077, order reduction: 0.04396301880478859\n",
      "iteration: 224, decoding loss: 0.06354235857725143, distance cost: 0.0012172877322882414, order reduction: 0.04184487834572792\n",
      "iteration: 225, decoding loss: 0.06299339234828949, distance cost: 0.0012335109058767557, order reduction: 0.041935913264751434\n",
      "iteration: 227, decoding loss: 0.06265027821063995, distance cost: 0.0013394573470577598, order reduction: 0.04505793750286102\n",
      "iteration: 230, decoding loss: 0.06259606033563614, distance cost: 0.0012551354011520743, order reduction: 0.0473477728664875\n",
      "iteration: 232, decoding loss: 0.06109891086816788, distance cost: 0.001284699304960668, order reduction: 0.04619794338941574\n",
      "iteration: 247, decoding loss: 0.058931995183229446, distance cost: 0.0013514769962057471, order reduction: 0.04447302594780922\n",
      "iteration: 314, decoding loss: 0.05770249664783478, distance cost: 0.0037197137717157602, order reduction: 0.06266281008720398\n",
      "iteration: 317, decoding loss: 0.05683085694909096, distance cost: 0.0037139456253498793, order reduction: 0.0635935589671135\n",
      "iteration: 318, decoding loss: 0.05666749179363251, distance cost: 0.0033874602522701025, order reduction: 0.06330030411481857\n",
      "iteration: 319, decoding loss: 0.05607285723090172, distance cost: 0.0030071893706917763, order reduction: 0.06667853891849518\n",
      "iteration: 321, decoding loss: 0.055268239229917526, distance cost: 0.0032332842238247395, order reduction: 0.0625440701842308\n",
      "iteration: 365, decoding loss: 0.054533664137125015, distance cost: 0.0024839506950229406, order reduction: 0.06813286244869232\n",
      "iteration: 366, decoding loss: 0.05390864983201027, distance cost: 0.0024189194664359093, order reduction: 0.06933490186929703\n",
      "iteration: 368, decoding loss: 0.0525839626789093, distance cost: 0.0025002690963447094, order reduction: 0.07378973066806793\n",
      "iteration: 370, decoding loss: 0.05193736031651497, distance cost: 0.0027616415172815323, order reduction: 0.06796684861183167\n",
      "iteration: 372, decoding loss: 0.051742374897003174, distance cost: 0.002415507799014449, order reduction: 0.07428782433271408\n",
      "iteration: 375, decoding loss: 0.05063110217452049, distance cost: 0.0024790011812001467, order reduction: 0.07394374161958694\n",
      "iteration: 377, decoding loss: 0.049940697848796844, distance cost: 0.002640377962961793, order reduction: 0.07792964577674866\n",
      "iteration: 379, decoding loss: 0.04954598471522331, distance cost: 0.002595116151496768, order reduction: 0.07478258013725281\n",
      "iteration: 387, decoding loss: 0.04848765954375267, distance cost: 0.002454094821587205, order reduction: 0.07627660781145096\n",
      "iteration: 389, decoding loss: 0.04772323742508888, distance cost: 0.002672462956979871, order reduction: 0.08285306394100189\n",
      "iteration: 393, decoding loss: 0.04761434346437454, distance cost: 0.0027421070262789726, order reduction: 0.08245488256216049\n",
      "iteration: 395, decoding loss: 0.04708923399448395, distance cost: 0.002381973434239626, order reduction: 0.08586713671684265\n",
      "iteration: 404, decoding loss: 0.0470375157892704, distance cost: 0.0027542749885469675, order reduction: 0.08270590752363205\n",
      "iteration: 405, decoding loss: 0.04692135006189346, distance cost: 0.002690026303753257, order reduction: 0.09398870170116425\n",
      "iteration: 407, decoding loss: 0.045463595539331436, distance cost: 0.002694609109312296, order reduction: 0.08459657430648804\n",
      "iteration: 412, decoding loss: 0.044757090508937836, distance cost: 0.002675849013030529, order reduction: 0.08572585880756378\n",
      "iteration: 427, decoding loss: 0.04443790763616562, distance cost: 0.0029660407453775406, order reduction: 0.08964171260595322\n",
      "iteration: 429, decoding loss: 0.04359229654073715, distance cost: 0.003072633408010006, order reduction: 0.09174228459596634\n",
      "iteration: 434, decoding loss: 0.04353678226470947, distance cost: 0.003234218107536435, order reduction: 0.09203928709030151\n",
      "iteration: 435, decoding loss: 0.04346311837434769, distance cost: 0.0029717974830418825, order reduction: 0.09384584426879883\n",
      "iteration: 436, decoding loss: 0.042748913168907166, distance cost: 0.003223804524168372, order reduction: 0.09460019320249557\n",
      "iteration: 439, decoding loss: 0.04213402420282364, distance cost: 0.0028573027811944485, order reduction: 0.09711737185716629\n",
      "iteration: 445, decoding loss: 0.040799569338560104, distance cost: 0.003024535020813346, order reduction: 0.09482195973396301\n",
      "iteration: 454, decoding loss: 0.0406486913561821, distance cost: 0.0029329024255275726, order reduction: 0.0940009132027626\n",
      "iteration: 459, decoding loss: 0.04001430794596672, distance cost: 0.0034068452659994364, order reduction: 0.09273294359445572\n",
      "iteration: 463, decoding loss: 0.039602130651474, distance cost: 0.0035876871552318335, order reduction: 0.10027113556861877\n",
      "iteration: 469, decoding loss: 0.039271943271160126, distance cost: 0.003405515570193529, order reduction: 0.09900535643100739\n",
      "iteration: 474, decoding loss: 0.03892401233315468, distance cost: 0.003607163205742836, order reduction: 0.1077181026339531\n",
      "iteration: 481, decoding loss: 0.03740460053086281, distance cost: 0.00370806991122663, order reduction: 0.0985255166888237\n",
      "iteration: 487, decoding loss: 0.03696274384856224, distance cost: 0.003724041162058711, order reduction: 0.10940370708703995\n",
      "iteration: 492, decoding loss: 0.036817390471696854, distance cost: 0.003616542322561145, order reduction: 0.11009428650140762\n",
      "iteration: 516, decoding loss: 0.03628974407911301, distance cost: 0.0046182363294065, order reduction: 0.11614294350147247\n",
      "iteration: 517, decoding loss: 0.03434770926833153, distance cost: 0.004784855525940657, order reduction: 0.12650743126869202\n",
      "iteration: 519, decoding loss: 0.03434310480952263, distance cost: 0.00451940530911088, order reduction: 0.11913184076547623\n",
      "iteration: 520, decoding loss: 0.0340438112616539, distance cost: 0.004724112804979086, order reduction: 0.12571004033088684\n",
      "iteration: 521, decoding loss: 0.03369191288948059, distance cost: 0.004538647830486298, order reduction: 0.12274542450904846\n",
      "iteration: 530, decoding loss: 0.032406195998191833, distance cost: 0.004298477899283171, order reduction: 0.11841049790382385\n",
      "iteration: 531, decoding loss: 0.031583648175001144, distance cost: 0.004273655358701944, order reduction: 0.11417308449745178\n",
      "iteration: 536, decoding loss: 0.030964748933911324, distance cost: 0.00442511634901166, order reduction: 0.12199929356575012\n",
      "iteration: 547, decoding loss: 0.03047432005405426, distance cost: 0.004677706863731146, order reduction: 0.12645307183265686\n",
      "iteration: 549, decoding loss: 0.029548760503530502, distance cost: 0.004593913909047842, order reduction: 0.13034074008464813\n",
      "iteration: 551, decoding loss: 0.029551085084676743, distance cost: 0.004566841758787632, order reduction: 0.12645582854747772\n",
      "iteration: 555, decoding loss: 0.02893376722931862, distance cost: 0.0051673720590770245, order reduction: 0.13302260637283325\n",
      "iteration: 559, decoding loss: 0.027503186836838722, distance cost: 0.00437906663864851, order reduction: 0.12474175542593002\n",
      "iteration: 564, decoding loss: 0.027067502960562706, distance cost: 0.004463515244424343, order reduction: 0.13826261460781097\n",
      "iteration: 566, decoding loss: 0.026748299598693848, distance cost: 0.004666156135499477, order reduction: 0.14583951234817505\n",
      "iteration: 568, decoding loss: 0.026788217946887016, distance cost: 0.004901673179119825, order reduction: 0.1344442218542099\n",
      "iteration: 572, decoding loss: 0.02640269137918949, distance cost: 0.004612270276993513, order reduction: 0.1363012194633484\n",
      "iteration: 575, decoding loss: 0.0259665809571743, distance cost: 0.004276556428521872, order reduction: 0.1341758817434311\n",
      "iteration: 577, decoding loss: 0.025057444348931313, distance cost: 0.004185951314866543, order reduction: 0.1404247134923935\n",
      "iteration: 588, decoding loss: 0.024269824847579002, distance cost: 0.004646693356335163, order reduction: 0.15310508012771606\n",
      "iteration: 591, decoding loss: 0.022896891459822655, distance cost: 0.004545805510133505, order reduction: 0.137294203042984\n",
      "iteration: 611, decoding loss: 0.022689873352646828, distance cost: 0.004769873805344105, order reduction: 0.155150905251503\n",
      "iteration: 612, decoding loss: 0.022673310711979866, distance cost: 0.004790362436324358, order reduction: 0.15137670934200287\n",
      "iteration: 620, decoding loss: 0.022141728550195694, distance cost: 0.004679526202380657, order reduction: 0.1547887921333313\n",
      "iteration: 626, decoding loss: 0.02190171368420124, distance cost: 0.004866498988121748, order reduction: 0.16450059413909912\n",
      "iteration: 629, decoding loss: 0.01979922316968441, distance cost: 0.004763112403452396, order reduction: 0.16664008796215057\n",
      "iteration: 802, decoding loss: 0.01957353949546814, distance cost: 0.005161296110600233, order reduction: 0.17085306346416473\n",
      "iteration: 813, decoding loss: 0.019192656502127647, distance cost: 0.0048734876327216625, order reduction: 0.1744271218776703\n",
      "iteration: 816, decoding loss: 0.018493013456463814, distance cost: 0.005253212992101908, order reduction: 0.17707599699497223\n",
      "iteration: 836, decoding loss: 0.017973240464925766, distance cost: 0.004680982790887356, order reduction: 0.1827545315027237\n",
      "iteration: 838, decoding loss: 0.01717706024646759, distance cost: 0.005447627045214176, order reduction: 0.18726609647274017\n",
      "iteration: 841, decoding loss: 0.016687020659446716, distance cost: 0.005057068075984716, order reduction: 0.19086964428424835\n",
      "iteration: 842, decoding loss: 0.01642683520913124, distance cost: 0.005169839598238468, order reduction: 0.1900138407945633\n",
      "iteration: 848, decoding loss: 0.016178589314222336, distance cost: 0.005041967611759901, order reduction: 0.18150797486305237\n",
      "iteration: 854, decoding loss: 0.015166022814810276, distance cost: 0.005467440001666546, order reduction: 0.18162678182125092\n",
      "iteration: 866, decoding loss: 0.01493216771632433, distance cost: 0.0059644728899002075, order reduction: 0.19437409937381744\n",
      "iteration: 869, decoding loss: 0.014173522591590881, distance cost: 0.005506736692041159, order reduction: 0.19719795882701874\n",
      "iteration: 979, decoding loss: 0.013677113689482212, distance cost: 0.006703063379973173, order reduction: 0.20069193840026855\n",
      "iteration: 981, decoding loss: 0.013628695160150528, distance cost: 0.006752988323569298, order reduction: 0.19012269377708435\n",
      "iteration: 985, decoding loss: 0.013374874368309975, distance cost: 0.006255744025111198, order reduction: 0.20261701941490173\n",
      "iteration: 987, decoding loss: 0.012881389819085598, distance cost: 0.006627771537750959, order reduction: 0.18350672721862793\n",
      "iteration: 990, decoding loss: 0.0123197752982378, distance cost: 0.006502828560769558, order reduction: 0.19819959998130798\n",
      "iteration: 1000, decoding loss: 0.012190861627459526, distance cost: 0.007100751623511314, order reduction: 0.1995343416929245\n",
      "iteration: 1005, decoding loss: 0.011861617676913738, distance cost: 0.006820604670792818, order reduction: 0.20176801085472107\n",
      "iteration: 1006, decoding loss: 0.010857909917831421, distance cost: 0.006878547836095095, order reduction: 0.20038633048534393\n",
      "iteration: 1022, decoding loss: 0.010302837006747723, distance cost: 0.00711857108399272, order reduction: 0.2040499448776245\n",
      "iteration: 1024, decoding loss: 0.010341178625822067, distance cost: 0.006937120575457811, order reduction: 0.1891814023256302\n",
      "iteration: 1026, decoding loss: 0.009748237207531929, distance cost: 0.006026729010045528, order reduction: 0.21472176909446716\n",
      "iteration: 1028, decoding loss: 0.00955489743500948, distance cost: 0.006495875772088766, order reduction: 0.1971597671508789\n",
      "iteration: 1036, decoding loss: 0.009080409072339535, distance cost: 0.007403254043310881, order reduction: 0.20348615944385529\n",
      "iteration: 1042, decoding loss: 0.008507153019309044, distance cost: 0.00739022484049201, order reduction: 0.21239295601844788\n",
      "iteration: 1048, decoding loss: 0.00856771320104599, distance cost: 0.006237109657377005, order reduction: 0.214271679520607\n",
      "iteration: 1055, decoding loss: 0.00842264760285616, distance cost: 0.007108697667717934, order reduction: 0.21075861155986786\n",
      "iteration: 1057, decoding loss: 0.008102680556476116, distance cost: 0.007275683339685202, order reduction: 0.22586248815059662\n",
      "iteration: 1061, decoding loss: 0.008109807968139648, distance cost: 0.007317679934203625, order reduction: 0.20522540807724\n",
      "iteration: 1072, decoding loss: 0.007447237614542246, distance cost: 0.006554185878485441, order reduction: 0.21649833023548126\n",
      "iteration: 1079, decoding loss: 0.007005156017839909, distance cost: 0.00704982690513134, order reduction: 0.19853372871875763\n",
      "iteration: 1082, decoding loss: 0.006554580293595791, distance cost: 0.007582591846585274, order reduction: 0.21269993484020233\n",
      "iteration: 1101, decoding loss: 0.006308084353804588, distance cost: 0.007161382120102644, order reduction: 0.22065015137195587\n",
      "iteration: 1106, decoding loss: 0.0062481374479830265, distance cost: 0.0073796953074634075, order reduction: 0.21946319937705994\n",
      "iteration: 1108, decoding loss: 0.0060166954062879086, distance cost: 0.007035741116851568, order reduction: 0.22811917960643768\n",
      "iteration: 1114, decoding loss: 0.0058209579437971115, distance cost: 0.007252656389027834, order reduction: 0.22139433026313782\n",
      "iteration: 1128, decoding loss: 0.005676238797605038, distance cost: 0.006968508940190077, order reduction: 0.2299088090658188\n",
      "iteration: 1130, decoding loss: 0.005369213409721851, distance cost: 0.007185460068285465, order reduction: 0.24005843698978424\n",
      "iteration: 1132, decoding loss: 0.00524448836222291, distance cost: 0.007047620136290789, order reduction: 0.23064789175987244\n",
      "iteration: 1140, decoding loss: 0.004769514314830303, distance cost: 0.006324146408587694, order reduction: 0.22720755636692047\n",
      "iteration: 1149, decoding loss: 0.004488041158765554, distance cost: 0.0076427520252764225, order reduction: 0.23412208259105682\n",
      "iteration: 1157, decoding loss: 0.004639906343072653, distance cost: 0.006980482488870621, order reduction: 0.21123182773590088\n",
      "iteration: 1164, decoding loss: 0.004074378404766321, distance cost: 0.00755359185859561, order reduction: 0.23822391033172607\n",
      "iteration: 1183, decoding loss: 0.003957438748329878, distance cost: 0.007182433269917965, order reduction: 0.24376559257507324\n",
      "iteration: 1186, decoding loss: 0.004195964429527521, distance cost: 0.006794251035898924, order reduction: 0.2193591296672821\n",
      "iteration: 1196, decoding loss: 0.0035359985195100307, distance cost: 0.007638486102223396, order reduction: 0.24996095895767212\n",
      "iteration: 1197, decoding loss: 0.0035269868094474077, distance cost: 0.007507808972150087, order reduction: 0.23689725995063782\n",
      "iteration: 1221, decoding loss: 0.0036614504642784595, distance cost: 0.006930568255484104, order reduction: 0.21720612049102783\n",
      "iteration: 1222, decoding loss: 0.003213551128283143, distance cost: 0.007580369710922241, order reduction: 0.24239479005336761\n",
      "iteration: 1235, decoding loss: 0.003153756260871887, distance cost: 0.007528643123805523, order reduction: 0.2430497258901596\n",
      "iteration: 1239, decoding loss: 0.0029395991005003452, distance cost: 0.007853059098124504, order reduction: 0.2435125708580017\n",
      "iteration: 1246, decoding loss: 0.0029262022580951452, distance cost: 0.007745277602225542, order reduction: 0.23734284937381744\n",
      "iteration: 1255, decoding loss: 0.0028581139631569386, distance cost: 0.0077692074701189995, order reduction: 0.23014041781425476\n",
      "iteration: 1257, decoding loss: 0.002538158092647791, distance cost: 0.00723694171756506, order reduction: 0.22583474218845367\n",
      "iteration: 1268, decoding loss: 0.002197791123762727, distance cost: 0.0077766114845871925, order reduction: 0.242653489112854\n",
      "iteration: 1292, decoding loss: 0.002090336987748742, distance cost: 0.007209632080048323, order reduction: 0.24574685096740723\n",
      "iteration: 1293, decoding loss: 0.002014464931562543, distance cost: 0.007653205189853907, order reduction: 0.24779054522514343\n",
      "iteration: 1305, decoding loss: 0.0022041683550924063, distance cost: 0.006998409982770681, order reduction: 0.23454587161540985\n",
      "iteration: 1308, decoding loss: 0.0018148530507460237, distance cost: 0.008267635479569435, order reduction: 0.23706644773483276\n",
      "iteration: 1324, decoding loss: 0.001549533917568624, distance cost: 0.007901002652943134, order reduction: 0.25612184405326843\n",
      "iteration: 1330, decoding loss: 0.0016359359724447131, distance cost: 0.007631658110767603, order reduction: 0.24608486890792847\n",
      "iteration: 1335, decoding loss: 0.0016625479329377413, distance cost: 0.007759629748761654, order reduction: 0.23267695307731628\n",
      "iteration: 1349, decoding loss: 0.001420525717549026, distance cost: 0.007658231072127819, order reduction: 0.22536678612232208\n",
      "iteration: 1383, decoding loss: 0.0011599183781072497, distance cost: 0.008091947995126247, order reduction: 0.2416067272424698\n",
      "iteration: 1385, decoding loss: 0.001094758277758956, distance cost: 0.00750506017357111, order reduction: 0.24129071831703186\n",
      "iteration: 1412, decoding loss: 0.0009116067085415125, distance cost: 0.008345103822648525, order reduction: 0.24958178400993347\n",
      "iteration: 1427, decoding loss: 0.0008976295357570052, distance cost: 0.007700420916080475, order reduction: 0.24930064380168915\n",
      "iteration: 1442, decoding loss: 0.00080794160021469, distance cost: 0.008176482282578945, order reduction: 0.24070587754249573\n",
      "iteration: 1459, decoding loss: 0.0007475890452042222, distance cost: 0.007343596778810024, order reduction: 0.25115886330604553\n",
      "iteration: 1469, decoding loss: 0.0006719608791172504, distance cost: 0.007697609718888998, order reduction: 0.25362327694892883\n",
      "iteration: 1475, decoding loss: 0.0006213458837009966, distance cost: 0.008127025328576565, order reduction: 0.2415313571691513\n",
      "iteration: 1509, decoding loss: 0.0006038074498064816, distance cost: 0.007230632472783327, order reduction: 0.24971091747283936\n",
      "iteration: 1512, decoding loss: 0.000551283941604197, distance cost: 0.007554639130830765, order reduction: 0.2420845925807953\n",
      "iteration: 1574, decoding loss: 0.00037167512346059084, distance cost: 0.007766942959278822, order reduction: 0.25716257095336914\n",
      "iteration: 1577, decoding loss: 0.00037418201100081205, distance cost: 0.007027539890259504, order reduction: 0.26327240467071533\n",
      "iteration: 1579, decoding loss: 0.00042702810605987906, distance cost: 0.007313390262424946, order reduction: 0.24079978466033936\n",
      "iteration: 1668, decoding loss: 0.00028242988628335297, distance cost: 0.007389693520963192, order reduction: 0.2488379180431366\n",
      "iteration: 1723, decoding loss: 0.000232359190704301, distance cost: 0.007060567382723093, order reduction: 0.2476770132780075\n",
      "iteration: 1778, decoding loss: 0.00019602653628680855, distance cost: 0.007198468782007694, order reduction: 0.2482423484325409\n",
      "iteration: 1813, decoding loss: 0.00016888216487132013, distance cost: 0.006190543062984943, order reduction: 0.2574523687362671\n",
      "iteration: 1875, decoding loss: 0.00015292428724933416, distance cost: 0.006955268792808056, order reduction: 0.2476167380809784\n",
      "iteration: 1910, decoding loss: 0.00014441707753576338, distance cost: 0.006509335711598396, order reduction: 0.24296210706233978\n"
     ]
    }
   ],
   "source": [
    "encoder, decoder = s1_direct_product_decoder.train(data=noisy_ring_attractor_data, manifold_dim=1, device=device,\n",
    "                                                   n_training_iterations=3000, decoder_weight=10, order_red_weight=0.1)\n"
   ],
   "metadata": {
    "collapsed": false
   }
  },
  {
   "cell_type": "code",
   "execution_count": 41,
   "outputs": [],
   "source": [
    "with torch.no_grad():\n",
    "    decoded_points, decoded_angles = decoder(torch.tensor(noisy_ring_attractor_data, dtype=torch.get_default_dtype()).to(device))\n",
    "\n",
    "ring_att_predicted_phases = torch.squeeze(decoded_angles).cpu().numpy()"
   ],
   "metadata": {
    "collapsed": false
   }
  },
  {
   "cell_type": "code",
   "execution_count": 42,
   "outputs": [
    {
     "data": {
      "text/plain": "<Figure size 640x480 with 1 Axes>",
      "image/png": "[encoded data removed]"
     },
     "metadata": {},
     "output_type": "display_data"
    }
   ],
   "source": [
    "%matplotlib inline\n",
    "fig, ax = plt.subplots()\n",
    "refd_ring_att_predicted_phases, refd_ring_att_true_phases = compare_to_ground_truth(ring_att_predicted_phases, true_ring_att_phases, ax)\n"
   ],
   "metadata": {
    "collapsed": false
   }
  }
 ],
 "metadata": {
  "kernelspec": {
   "display_name": "Python 3",
   "language": "python",
   "name": "python3"
  },
  "language_info": {
   "codemirror_mode": {
    "name": "ipython",
    "version": 2
   },
   "file_extension": ".py",
   "mimetype": "text/x-python",
   "name": "python",
   "nbconvert_exporter": "python",
   "pygments_lexer": "ipython2",
   "version": "2.7.6"
  }
 },
 "nbformat": 4,
 "nbformat_minor": 0
}
