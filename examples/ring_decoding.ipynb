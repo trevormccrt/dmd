{
 "cells": [
  {
   "cell_type": "markdown",
   "source": [
    "First, let's embed a ring in 3D."
   ],
   "metadata": {
    "collapsed": false
   }
  },
  {
   "cell_type": "code",
   "execution_count": 1,
   "outputs": [],
   "source": [
    "import os\n",
    "import sys\n",
    "import matplotlib.pyplot as plt\n",
    "import multiprocessing as mp\n",
    "import numpy as np\n",
    "from scipy import integrate\n",
    "import torch\n",
    "\n",
    "sys.path.append(os.path.join(os.getenv(\"HOME\"), \"RNN_Manifold/\"))\n",
    "import decode_1d, generate_1d, geometry_util"
   ],
   "metadata": {
    "collapsed": false
   }
  },
  {
   "cell_type": "code",
   "execution_count": 37,
   "outputs": [
    {
     "name": "stdout",
     "output_type": "stream",
     "text": [
      "using device cuda\n"
     ]
    }
   ],
   "source": [
    "device = torch.device('cuda' if torch.cuda.is_available() else 'cpu')\n",
    "print(\"using device {}\".format(device))"
   ],
   "metadata": {
    "collapsed": false
   }
  },
  {
   "cell_type": "code",
   "execution_count": 4,
   "outputs": [
    {
     "name": "stderr",
     "output_type": "stream",
     "text": [
      "/home/trevor/brainvenv/lib/python3.8/site-packages/torch/nn/modules/lazy.py:180: UserWarning: Lazy modules are a new feature under heavy development so changes to the API or functionality can happen at any moment.\n",
      "  warnings.warn('Lazy modules are a new feature under heavy development '\n"
     ]
    },
    {
     "name": "stdout",
     "output_type": "stream",
     "text": [
      "iteration: 0, decoding loss: 1.53909432888031, distance cost: 0.020777085795998573\n",
      "iteration: 1, decoding loss: 0.818290650844574, distance cost: 0.007772920187562704\n",
      "iteration: 2, decoding loss: 0.548988401889801, distance cost: 0.01433581579476595\n",
      "iteration: 4, decoding loss: 0.5274782776832581, distance cost: 0.02510092593729496\n",
      "iteration: 5, decoding loss: 0.4580356776714325, distance cost: 0.024429166689515114\n",
      "iteration: 6, decoding loss: 0.3427305221557617, distance cost: 0.01902458630502224\n",
      "iteration: 7, decoding loss: 0.2207796424627304, distance cost: 0.013974564149975777\n",
      "iteration: 8, decoding loss: 0.18889805674552917, distance cost: 0.014169275760650635\n",
      "iteration: 382, decoding loss: 0.178477942943573, distance cost: 0.02437676303088665\n",
      "iteration: 384, decoding loss: 0.1768181174993515, distance cost: 0.025822512805461884\n",
      "iteration: 386, decoding loss: 0.17330701649188995, distance cost: 0.02404422126710415\n",
      "iteration: 394, decoding loss: 0.1745137870311737, distance cost: 0.02257288247346878\n",
      "iteration: 396, decoding loss: 0.1643710881471634, distance cost: 0.02371271885931492\n",
      "iteration: 399, decoding loss: 0.16720730066299438, distance cost: 0.020069226622581482\n",
      "iteration: 403, decoding loss: 0.16433264315128326, distance cost: 0.021182013675570488\n",
      "iteration: 404, decoding loss: 0.16220781207084656, distance cost: 0.021790266036987305\n",
      "iteration: 405, decoding loss: 0.1614839881658554, distance cost: 0.0198507197201252\n",
      "iteration: 408, decoding loss: 0.15828043222427368, distance cost: 0.02106957696378231\n",
      "iteration: 409, decoding loss: 0.1522635817527771, distance cost: 0.019345110282301903\n",
      "iteration: 410, decoding loss: 0.14867664873600006, distance cost: 0.020966708660125732\n",
      "iteration: 413, decoding loss: 0.1481507271528244, distance cost: 0.01878674328327179\n",
      "iteration: 416, decoding loss: 0.14516091346740723, distance cost: 0.01958180032670498\n",
      "iteration: 418, decoding loss: 0.141749769449234, distance cost: 0.019689975306391716\n",
      "iteration: 419, decoding loss: 0.13997782766819, distance cost: 0.02023468166589737\n",
      "iteration: 425, decoding loss: 0.13984526693820953, distance cost: 0.01937316171824932\n",
      "iteration: 426, decoding loss: 0.13536889851093292, distance cost: 0.020540781319141388\n",
      "iteration: 427, decoding loss: 0.13471578061580658, distance cost: 0.019741753116250038\n",
      "iteration: 430, decoding loss: 0.13549160957336426, distance cost: 0.017419757321476936\n",
      "iteration: 432, decoding loss: 0.13261793553829193, distance cost: 0.019754135981202126\n",
      "iteration: 438, decoding loss: 0.13193634152412415, distance cost: 0.017742367461323738\n",
      "iteration: 443, decoding loss: 0.1291346698999405, distance cost: 0.01954471319913864\n",
      "iteration: 446, decoding loss: 0.12399272620677948, distance cost: 0.019693629816174507\n",
      "iteration: 478, decoding loss: 0.12065073102712631, distance cost: 0.018939804285764694\n",
      "iteration: 479, decoding loss: 0.11667623370885849, distance cost: 0.0201581958681345\n",
      "iteration: 482, decoding loss: 0.11428665369749069, distance cost: 0.020693445578217506\n",
      "iteration: 486, decoding loss: 0.10828907042741776, distance cost: 0.02373759262263775\n",
      "iteration: 487, decoding loss: 0.10502003878355026, distance cost: 0.019735222682356834\n",
      "iteration: 494, decoding loss: 0.10234133154153824, distance cost: 0.02188522182404995\n",
      "iteration: 495, decoding loss: 0.10090406984090805, distance cost: 0.02053643949329853\n",
      "iteration: 497, decoding loss: 0.09670654684305191, distance cost: 0.019959524273872375\n",
      "iteration: 511, decoding loss: 0.09525318443775177, distance cost: 0.019369052723050117\n",
      "iteration: 520, decoding loss: 0.09559363126754761, distance cost: 0.017387107014656067\n",
      "iteration: 521, decoding loss: 0.09493754059076309, distance cost: 0.017255354672670364\n",
      "iteration: 526, decoding loss: 0.08867277950048447, distance cost: 0.01769341342151165\n",
      "iteration: 527, decoding loss: 0.08853539079427719, distance cost: 0.01689321920275688\n",
      "iteration: 532, decoding loss: 0.08856073766946793, distance cost: 0.016606053337454796\n",
      "iteration: 534, decoding loss: 0.08592535555362701, distance cost: 0.017901023849844933\n",
      "iteration: 536, decoding loss: 0.08600743114948273, distance cost: 0.01681344583630562\n",
      "iteration: 538, decoding loss: 0.08312325179576874, distance cost: 0.01584596186876297\n",
      "iteration: 540, decoding loss: 0.07979903370141983, distance cost: 0.0159798264503479\n",
      "iteration: 545, decoding loss: 0.07781248539686203, distance cost: 0.016758503392338753\n",
      "iteration: 558, decoding loss: 0.08152518421411514, distance cost: 0.01304187998175621\n",
      "iteration: 560, decoding loss: 0.07928939908742905, distance cost: 0.013814636506140232\n",
      "iteration: 561, decoding loss: 0.07719811052083969, distance cost: 0.012965443544089794\n",
      "iteration: 564, decoding loss: 0.0731264054775238, distance cost: 0.013126254081726074\n",
      "iteration: 567, decoding loss: 0.06977935135364532, distance cost: 0.014021409675478935\n",
      "iteration: 627, decoding loss: 0.06899901479482651, distance cost: 0.012391370721161366\n",
      "iteration: 628, decoding loss: 0.06714734435081482, distance cost: 0.01124557200819254\n",
      "iteration: 630, decoding loss: 0.06286438554525375, distance cost: 0.013156614266335964\n",
      "iteration: 634, decoding loss: 0.06083988770842552, distance cost: 0.011882754974067211\n",
      "iteration: 637, decoding loss: 0.05913493409752846, distance cost: 0.012033226899802685\n",
      "iteration: 638, decoding loss: 0.05798158422112465, distance cost: 0.012659354135394096\n",
      "iteration: 639, decoding loss: 0.056775450706481934, distance cost: 0.01337457075715065\n",
      "iteration: 641, decoding loss: 0.05459192022681236, distance cost: 0.013078666292130947\n",
      "iteration: 708, decoding loss: 0.05583543702960014, distance cost: 0.010068647563457489\n",
      "iteration: 714, decoding loss: 0.055105872452259064, distance cost: 0.009602785110473633\n",
      "iteration: 717, decoding loss: 0.052447643131017685, distance cost: 0.009519871324300766\n",
      "iteration: 720, decoding loss: 0.050951480865478516, distance cost: 0.010332589969038963\n",
      "iteration: 722, decoding loss: 0.04933150112628937, distance cost: 0.010157424956560135\n",
      "iteration: 723, decoding loss: 0.04718152806162834, distance cost: 0.010086092166602612\n",
      "iteration: 726, decoding loss: 0.04712842404842377, distance cost: 0.00958316307514906\n",
      "iteration: 728, decoding loss: 0.045977070927619934, distance cost: 0.009875502437353134\n",
      "iteration: 730, decoding loss: 0.04509677365422249, distance cost: 0.010088291950523853\n",
      "iteration: 731, decoding loss: 0.04313630238175392, distance cost: 0.009620347991585732\n",
      "iteration: 735, decoding loss: 0.04202102869749069, distance cost: 0.009364176541566849\n",
      "iteration: 737, decoding loss: 0.04038719832897186, distance cost: 0.01067680399864912\n",
      "iteration: 738, decoding loss: 0.04007883742451668, distance cost: 0.009711864404380322\n",
      "iteration: 739, decoding loss: 0.039015673100948334, distance cost: 0.009919395670294762\n",
      "iteration: 742, decoding loss: 0.03901074454188347, distance cost: 0.0095836715772748\n",
      "iteration: 745, decoding loss: 0.038842156529426575, distance cost: 0.00939193181693554\n",
      "iteration: 746, decoding loss: 0.038385022431612015, distance cost: 0.009580218233168125\n",
      "iteration: 748, decoding loss: 0.036912959069013596, distance cost: 0.009236378595232964\n",
      "iteration: 752, decoding loss: 0.0363231897354126, distance cost: 0.009610234759747982\n",
      "iteration: 878, decoding loss: 0.03894616290926933, distance cost: 0.0068351225927472115\n",
      "iteration: 879, decoding loss: 0.03856533393263817, distance cost: 0.006823468487709761\n",
      "iteration: 881, decoding loss: 0.038353413343429565, distance cost: 0.0066183628514409065\n",
      "iteration: 888, decoding loss: 0.038829464465379715, distance cost: 0.005778277292847633\n",
      "iteration: 914, decoding loss: 0.03788145259022713, distance cost: 0.0052239298820495605\n",
      "iteration: 927, decoding loss: 0.03716685250401497, distance cost: 0.00483227102085948\n",
      "iteration: 997, decoding loss: 0.03795550391077995, distance cost: 0.0037671695463359356\n",
      "iteration: 1002, decoding loss: 0.03699023649096489, distance cost: 0.0035002597142010927\n",
      "iteration: 1003, decoding loss: 0.035138100385665894, distance cost: 0.0034533871803432703\n",
      "iteration: 1117, decoding loss: 0.0353461392223835, distance cost: 0.003180668456479907\n",
      "iteration: 1118, decoding loss: 0.03455677255988121, distance cost: 0.0029038272332400084\n",
      "iteration: 1119, decoding loss: 0.03420482203364372, distance cost: 0.0031249672174453735\n",
      "iteration: 1130, decoding loss: 0.03364032506942749, distance cost: 0.003475443460047245\n",
      "iteration: 1131, decoding loss: 0.03361330181360245, distance cost: 0.003329229075461626\n",
      "iteration: 1132, decoding loss: 0.03251367062330246, distance cost: 0.003174123354256153\n",
      "iteration: 1133, decoding loss: 0.03217295929789543, distance cost: 0.0029743993654847145\n",
      "iteration: 1135, decoding loss: 0.03162701800465584, distance cost: 0.0032121064141392708\n",
      "iteration: 1136, decoding loss: 0.03147994726896286, distance cost: 0.0029692312236875296\n",
      "iteration: 1144, decoding loss: 0.030132316052913666, distance cost: 0.0032763462513685226\n",
      "iteration: 1147, decoding loss: 0.02998999133706093, distance cost: 0.0029067774303257465\n",
      "iteration: 1151, decoding loss: 0.027995387092232704, distance cost: 0.0031405645422637463\n",
      "iteration: 1163, decoding loss: 0.027132408693432808, distance cost: 0.002552119782194495\n",
      "iteration: 1169, decoding loss: 0.02693435363471508, distance cost: 0.0027493825182318687\n",
      "iteration: 1352, decoding loss: 0.027410252019762993, distance cost: 0.0021600080654025078\n",
      "iteration: 1358, decoding loss: 0.026986688375473022, distance cost: 0.0021986414212733507\n",
      "iteration: 1359, decoding loss: 0.026441147550940514, distance cost: 0.002269710646942258\n",
      "iteration: 1361, decoding loss: 0.02600109577178955, distance cost: 0.0020350476261228323\n",
      "iteration: 1362, decoding loss: 0.02501159906387329, distance cost: 0.0020286813378334045\n",
      "iteration: 1365, decoding loss: 0.0245372224599123, distance cost: 0.002013614634051919\n",
      "iteration: 1369, decoding loss: 0.02389994077384472, distance cost: 0.0020512037444859743\n",
      "iteration: 1371, decoding loss: 0.02306182123720646, distance cost: 0.0018953474937006831\n",
      "iteration: 1372, decoding loss: 0.022729530930519104, distance cost: 0.0018995096907019615\n",
      "iteration: 1375, decoding loss: 0.022557150572538376, distance cost: 0.0018768284935504198\n",
      "iteration: 1377, decoding loss: 0.022331558167934418, distance cost: 0.0016525185201317072\n",
      "iteration: 1378, decoding loss: 0.021917928010225296, distance cost: 0.001827284344471991\n",
      "iteration: 1379, decoding loss: 0.02164369449019432, distance cost: 0.001959138549864292\n",
      "iteration: 1380, decoding loss: 0.021469738334417343, distance cost: 0.0017725437646731734\n",
      "iteration: 1643, decoding loss: 0.020910488441586494, distance cost: 0.001584083423949778\n",
      "iteration: 1923, decoding loss: 0.02103906311094761, distance cost: 0.0013670779298990965\n",
      "iteration: 1930, decoding loss: 0.020821021869778633, distance cost: 0.0015141022158786654\n",
      "iteration: 1932, decoding loss: 0.020770564675331116, distance cost: 0.001487156841903925\n",
      "iteration: 1944, decoding loss: 0.02086939476430416, distance cost: 0.001347421552054584\n",
      "iteration: 2239, decoding loss: 0.02026102878153324, distance cost: 0.0014325371012091637\n",
      "iteration: 2241, decoding loss: 0.020208431407809258, distance cost: 0.0013642037520185113\n",
      "iteration: 2243, decoding loss: 0.02008317969739437, distance cost: 0.001415134291164577\n",
      "iteration: 2246, decoding loss: 0.020106572657823563, distance cost: 0.0012578209862113\n",
      "iteration: 2247, decoding loss: 0.01980096474289894, distance cost: 0.0012263102689757943\n",
      "iteration: 2249, decoding loss: 0.018922816962003708, distance cost: 0.0013058240292593837\n",
      "iteration: 2256, decoding loss: 0.018754281103610992, distance cost: 0.0014011209132149816\n",
      "iteration: 2257, decoding loss: 0.01872686855494976, distance cost: 0.0012045574840158224\n",
      "iteration: 2259, decoding loss: 0.017807332798838615, distance cost: 0.0013026646338403225\n",
      "iteration: 2265, decoding loss: 0.017567317932844162, distance cost: 0.001259306911379099\n",
      "iteration: 2272, decoding loss: 0.017390228807926178, distance cost: 0.0012511401437222958\n",
      "iteration: 2274, decoding loss: 0.01716400496661663, distance cost: 0.0013085899408906698\n",
      "iteration: 2285, decoding loss: 0.016841217875480652, distance cost: 0.0013122287346050143\n",
      "iteration: 2295, decoding loss: 0.016879824921488762, distance cost: 0.001170237665064633\n",
      "iteration: 2296, decoding loss: 0.016574297100305557, distance cost: 0.0013859086902812123\n",
      "iteration: 2297, decoding loss: 0.01613197661936283, distance cost: 0.0012385323643684387\n",
      "iteration: 2301, decoding loss: 0.015870895236730576, distance cost: 0.0012958666775375605\n"
     ]
    }
   ],
   "source": [
    "encoder, decoder, _ = generate_1d.train(1, 0, 3, device, n_training_iterations=3000)"
   ],
   "metadata": {
    "collapsed": false
   }
  },
  {
   "cell_type": "code",
   "execution_count": 7,
   "outputs": [],
   "source": [
    "angles = np.arange(start=0, stop=2 * np.pi, step=0.01)\n",
    "with torch.no_grad():\n",
    "    test_embedding = encoder(torch.tensor(np.expand_dims(angles, -1), dtype=torch.get_default_dtype()).to(device))\n",
    "test_embedding = test_embedding.cpu().numpy()"
   ],
   "metadata": {
    "collapsed": false
   }
  },
  {
   "cell_type": "markdown",
   "source": [
    "The shape it generates should be pretty much random, as there is nothing in the loss function we use that encourages a specific shape"
   ],
   "metadata": {
    "collapsed": false
   }
  },
  {
   "cell_type": "code",
   "execution_count": 8,
   "outputs": [
    {
     "data": {
      "text/plain": "<mpl_toolkits.mplot3d.art3d.Path3DCollection at 0x7fc0c065a160>"
     },
     "execution_count": 8,
     "metadata": {},
     "output_type": "execute_result"
    }
   ],
   "source": [
    "%matplotlib tk\n",
    "proj_fig = plt.figure()\n",
    "proj_axs = proj_fig.add_subplot(projection=\"3d\")\n",
    "proj_axs.scatter(test_embedding[:, 0], test_embedding[:, 1], test_embedding[:, 2], cmap=\"hsv\", c=angles)\n"
   ],
   "metadata": {
    "collapsed": false
   }
  },
  {
   "cell_type": "markdown",
   "source": [
    "Now let's generate a higher dimensional ring"
   ],
   "metadata": {
    "collapsed": false
   }
  },
  {
   "cell_type": "code",
   "execution_count": 10,
   "outputs": [
    {
     "name": "stderr",
     "output_type": "stream",
     "text": [
      "/home/trevor/brainvenv/lib/python3.8/site-packages/torch/nn/modules/lazy.py:180: UserWarning: Lazy modules are a new feature under heavy development so changes to the API or functionality can happen at any moment.\n",
      "  warnings.warn('Lazy modules are a new feature under heavy development '\n"
     ]
    },
    {
     "name": "stdout",
     "output_type": "stream",
     "text": [
      "iteration: 0, decoding loss: 1.489019751548767, distance cost: 0.00112432474270463\n",
      "iteration: 2, decoding loss: 1.3833147287368774, distance cost: 0.09350144118070602\n",
      "iteration: 3, decoding loss: 0.838883638381958, distance cost: 0.15744730830192566\n",
      "iteration: 4, decoding loss: 0.7576688528060913, distance cost: 0.16355252265930176\n",
      "iteration: 14, decoding loss: 0.7381740212440491, distance cost: 0.18060605227947235\n",
      "iteration: 18, decoding loss: 0.7165833115577698, distance cost: 0.169908806681633\n",
      "iteration: 19, decoding loss: 0.6743557453155518, distance cost: 0.1631624549627304\n",
      "iteration: 20, decoding loss: 0.642243504524231, distance cost: 0.1731463074684143\n",
      "iteration: 21, decoding loss: 0.6313309073448181, distance cost: 0.15856808423995972\n",
      "iteration: 22, decoding loss: 0.5848531723022461, distance cost: 0.11777205765247345\n",
      "iteration: 23, decoding loss: 0.5595338344573975, distance cost: 0.11306687444448471\n",
      "iteration: 24, decoding loss: 0.535430908203125, distance cost: 0.11643312126398087\n",
      "iteration: 25, decoding loss: 0.4833475947380066, distance cost: 0.11042293161153793\n",
      "iteration: 26, decoding loss: 0.4678078293800354, distance cost: 0.1056458055973053\n",
      "iteration: 60, decoding loss: 0.5444591045379639, distance cost: 0.016724923625588417\n",
      "iteration: 62, decoding loss: 0.5190250277519226, distance cost: 0.01431273203343153\n",
      "iteration: 63, decoding loss: 0.5081811547279358, distance cost: 0.01344041433185339\n",
      "iteration: 65, decoding loss: 0.49624210596084595, distance cost: 0.011855551041662693\n",
      "iteration: 66, decoding loss: 0.481683611869812, distance cost: 0.01199975237250328\n",
      "iteration: 67, decoding loss: 0.4575895071029663, distance cost: 0.012171315029263496\n",
      "iteration: 68, decoding loss: 0.44710487127304077, distance cost: 0.014643175527453423\n",
      "iteration: 69, decoding loss: 0.4125019609928131, distance cost: 0.013430505990982056\n",
      "iteration: 70, decoding loss: 0.397649884223938, distance cost: 0.013150595128536224\n",
      "iteration: 71, decoding loss: 0.3888683617115021, distance cost: 0.015536407940089703\n",
      "iteration: 72, decoding loss: 0.3659821152687073, distance cost: 0.017361901700496674\n",
      "iteration: 73, decoding loss: 0.3450210690498352, distance cost: 0.01509152166545391\n",
      "iteration: 74, decoding loss: 0.3248485028743744, distance cost: 0.020209060981869698\n",
      "iteration: 75, decoding loss: 0.3105527460575104, distance cost: 0.020384468138217926\n",
      "iteration: 76, decoding loss: 0.2893199622631073, distance cost: 0.023823322728276253\n",
      "iteration: 77, decoding loss: 0.2769467234611511, distance cost: 0.027269387617707253\n",
      "iteration: 131, decoding loss: 0.24747106432914734, distance cost: 0.05328183248639107\n",
      "iteration: 132, decoding loss: 0.22175918519496918, distance cost: 0.047066379338502884\n",
      "iteration: 133, decoding loss: 0.19833435118198395, distance cost: 0.05657120794057846\n",
      "iteration: 134, decoding loss: 0.1899281144142151, distance cost: 0.05055356025695801\n",
      "iteration: 135, decoding loss: 0.17870007455348969, distance cost: 0.05457790568470955\n",
      "iteration: 232, decoding loss: 0.2162361592054367, distance cost: 0.010836384259164333\n",
      "iteration: 234, decoding loss: 0.2073976844549179, distance cost: 0.011409271508455276\n",
      "iteration: 235, decoding loss: 0.20257072150707245, distance cost: 0.010602348484098911\n",
      "iteration: 236, decoding loss: 0.19658765196800232, distance cost: 0.01066571194678545\n",
      "iteration: 237, decoding loss: 0.1970125436782837, distance cost: 0.010145996697247028\n",
      "iteration: 238, decoding loss: 0.19306904077529907, distance cost: 0.01024231780320406\n",
      "iteration: 239, decoding loss: 0.1908249706029892, distance cost: 0.009403741918504238\n",
      "iteration: 240, decoding loss: 0.18530091643333435, distance cost: 0.009789125062525272\n",
      "iteration: 241, decoding loss: 0.18377166986465454, distance cost: 0.008585922420024872\n",
      "iteration: 242, decoding loss: 0.17341434955596924, distance cost: 0.009075316600501537\n",
      "iteration: 315, decoding loss: 0.1735347956418991, distance cost: 0.00807808805257082\n",
      "iteration: 316, decoding loss: 0.1676449179649353, distance cost: 0.008128287270665169\n",
      "iteration: 317, decoding loss: 0.1690673828125, distance cost: 0.006386632565408945\n",
      "iteration: 319, decoding loss: 0.16136737167835236, distance cost: 0.007918648421764374\n",
      "iteration: 321, decoding loss: 0.1551559865474701, distance cost: 0.007711728569120169\n",
      "iteration: 322, decoding loss: 0.15155652165412903, distance cost: 0.007497410289943218\n",
      "iteration: 323, decoding loss: 0.1454954594373703, distance cost: 0.006516415625810623\n",
      "iteration: 324, decoding loss: 0.1397397518157959, distance cost: 0.00633309967815876\n",
      "iteration: 325, decoding loss: 0.13785438239574432, distance cost: 0.00749357370659709\n",
      "iteration: 326, decoding loss: 0.13669468462467194, distance cost: 0.006377848330885172\n",
      "iteration: 327, decoding loss: 0.13339275121688843, distance cost: 0.006307685747742653\n",
      "iteration: 328, decoding loss: 0.12905780971050262, distance cost: 0.006173056084662676\n",
      "iteration: 330, decoding loss: 0.1178104355931282, distance cost: 0.006308300420641899\n",
      "iteration: 333, decoding loss: 0.11240219324827194, distance cost: 0.0064787850715219975\n",
      "iteration: 334, decoding loss: 0.10743187367916107, distance cost: 0.0058568911626935005\n",
      "iteration: 337, decoding loss: 0.09895697236061096, distance cost: 0.005638120695948601\n",
      "iteration: 339, decoding loss: 0.09694715589284897, distance cost: 0.006432708818465471\n",
      "iteration: 340, decoding loss: 0.0967438742518425, distance cost: 0.005544045940041542\n",
      "iteration: 512, decoding loss: 0.09822245687246323, distance cost: 0.003066321834921837\n",
      "iteration: 515, decoding loss: 0.09668762981891632, distance cost: 0.0033707148395478725\n",
      "iteration: 517, decoding loss: 0.09252612292766571, distance cost: 0.0035249681677669287\n",
      "iteration: 518, decoding loss: 0.08676602691411972, distance cost: 0.003240313148126006\n",
      "iteration: 523, decoding loss: 0.08564981818199158, distance cost: 0.003912733402103186\n",
      "iteration: 525, decoding loss: 0.08360449224710464, distance cost: 0.003614570712670684\n",
      "iteration: 526, decoding loss: 0.0839558020234108, distance cost: 0.003194973571226001\n",
      "iteration: 527, decoding loss: 0.08296339958906174, distance cost: 0.003573402762413025\n",
      "iteration: 529, decoding loss: 0.07958932965993881, distance cost: 0.0032995629590004683\n",
      "iteration: 531, decoding loss: 0.07698867470026016, distance cost: 0.003280860837548971\n",
      "iteration: 666, decoding loss: 0.07540616393089294, distance cost: 0.003994395490735769\n",
      "iteration: 667, decoding loss: 0.07500758767127991, distance cost: 0.004216252360492945\n",
      "iteration: 671, decoding loss: 0.07245268672704697, distance cost: 0.00398142309859395\n",
      "iteration: 673, decoding loss: 0.07211139053106308, distance cost: 0.004054472781717777\n",
      "iteration: 674, decoding loss: 0.071967214345932, distance cost: 0.004159039352089167\n",
      "iteration: 676, decoding loss: 0.06861873716115952, distance cost: 0.0037938065361231565\n",
      "iteration: 678, decoding loss: 0.06616942584514618, distance cost: 0.003745890688151121\n",
      "iteration: 680, decoding loss: 0.06306130439043045, distance cost: 0.0039641899056732655\n",
      "iteration: 682, decoding loss: 0.06183643266558647, distance cost: 0.003538735443726182\n",
      "iteration: 686, decoding loss: 0.05866563320159912, distance cost: 0.0034327891189604998\n",
      "iteration: 688, decoding loss: 0.05802970379590988, distance cost: 0.003933904692530632\n",
      "iteration: 689, decoding loss: 0.05714772269129753, distance cost: 0.0040140277706086636\n",
      "iteration: 696, decoding loss: 0.056113097816705704, distance cost: 0.004078466445207596\n",
      "iteration: 697, decoding loss: 0.0564383938908577, distance cost: 0.0035323910415172577\n",
      "iteration: 698, decoding loss: 0.055494315922260284, distance cost: 0.0035733955446630716\n",
      "iteration: 763, decoding loss: 0.055953431874513626, distance cost: 0.0028014727868139744\n",
      "iteration: 771, decoding loss: 0.05449749901890755, distance cost: 0.003057648427784443\n",
      "iteration: 773, decoding loss: 0.05385281518101692, distance cost: 0.0029024805407971144\n",
      "iteration: 780, decoding loss: 0.05204764008522034, distance cost: 0.0031440616585314274\n",
      "iteration: 783, decoding loss: 0.05066428706049919, distance cost: 0.0034625036641955376\n",
      "iteration: 786, decoding loss: 0.05025818198919296, distance cost: 0.002973641734570265\n",
      "iteration: 792, decoding loss: 0.04924073815345764, distance cost: 0.0033953117672353983\n",
      "iteration: 957, decoding loss: 0.04799949377775192, distance cost: 0.003717937506735325\n",
      "iteration: 960, decoding loss: 0.047626398503780365, distance cost: 0.0037138659972697496\n",
      "iteration: 961, decoding loss: 0.04742659628391266, distance cost: 0.0034038007725030184\n",
      "iteration: 962, decoding loss: 0.046328067779541016, distance cost: 0.003728501731529832\n",
      "iteration: 963, decoding loss: 0.04381592944264412, distance cost: 0.0035827404353767633\n",
      "iteration: 964, decoding loss: 0.04331532493233681, distance cost: 0.003641223069280386\n",
      "iteration: 965, decoding loss: 0.04290824383497238, distance cost: 0.0035566093865782022\n",
      "iteration: 969, decoding loss: 0.04200347885489464, distance cost: 0.003605219069868326\n",
      "iteration: 976, decoding loss: 0.041958022862672806, distance cost: 0.0032258641440421343\n",
      "iteration: 979, decoding loss: 0.04083582013845444, distance cost: 0.0034269152674824\n",
      "iteration: 980, decoding loss: 0.039699845016002655, distance cost: 0.003131857607513666\n",
      "iteration: 984, decoding loss: 0.039746448397636414, distance cost: 0.0030225468799471855\n",
      "iteration: 1276, decoding loss: 0.03945007175207138, distance cost: 0.003235751762986183\n",
      "iteration: 1283, decoding loss: 0.039266254752874374, distance cost: 0.003383742878213525\n",
      "iteration: 1286, decoding loss: 0.038373447954654694, distance cost: 0.002860258799046278\n",
      "iteration: 1292, decoding loss: 0.03780094534158707, distance cost: 0.002729813102632761\n",
      "iteration: 1314, decoding loss: 0.03793729469180107, distance cost: 0.002491132589057088\n",
      "iteration: 1315, decoding loss: 0.03772077336907387, distance cost: 0.002341127721592784\n",
      "iteration: 1451, decoding loss: 0.038449838757514954, distance cost: 0.0014883074909448624\n",
      "iteration: 1459, decoding loss: 0.037360209971666336, distance cost: 0.001692226273007691\n",
      "iteration: 1461, decoding loss: 0.03659181669354439, distance cost: 0.0018451567739248276\n",
      "iteration: 1464, decoding loss: 0.03630969673395157, distance cost: 0.0017791420686990023\n",
      "iteration: 1467, decoding loss: 0.0360698439180851, distance cost: 0.0016704467125236988\n",
      "iteration: 1471, decoding loss: 0.0361032634973526, distance cost: 0.0016364292241632938\n",
      "iteration: 1476, decoding loss: 0.03568591922521591, distance cost: 0.0019385804189369082\n",
      "iteration: 1495, decoding loss: 0.03526658937335014, distance cost: 0.002012177137658\n",
      "iteration: 1597, decoding loss: 0.03554672375321388, distance cost: 0.0011013492476195097\n",
      "iteration: 1601, decoding loss: 0.03540118411183357, distance cost: 0.0011333310976624489\n",
      "iteration: 1602, decoding loss: 0.03410045802593231, distance cost: 0.0011683040065690875\n",
      "iteration: 1608, decoding loss: 0.03403955325484276, distance cost: 0.0011066342703998089\n",
      "iteration: 1609, decoding loss: 0.03390658274292946, distance cost: 0.001134407240897417\n",
      "iteration: 1610, decoding loss: 0.032894473522901535, distance cost: 0.001096017425879836\n",
      "iteration: 1611, decoding loss: 0.032924432307481766, distance cost: 0.0010388067457824945\n",
      "iteration: 1612, decoding loss: 0.03214116767048836, distance cost: 0.001106124254874885\n",
      "iteration: 1614, decoding loss: 0.03146229311823845, distance cost: 0.001121337991207838\n",
      "iteration: 1617, decoding loss: 0.03124401532113552, distance cost: 0.0011026561260223389\n",
      "iteration: 1619, decoding loss: 0.030883921310305595, distance cost: 0.0010182486148551106\n",
      "iteration: 1621, decoding loss: 0.030117951333522797, distance cost: 0.0010325682815164328\n",
      "iteration: 1625, decoding loss: 0.030007943511009216, distance cost: 0.001026670914143324\n",
      "iteration: 1626, decoding loss: 0.02942301146686077, distance cost: 0.0010423727799206972\n",
      "iteration: 1628, decoding loss: 0.029325691983103752, distance cost: 0.0009278843645006418\n",
      "iteration: 1630, decoding loss: 0.02891901135444641, distance cost: 0.0009903645841404796\n",
      "iteration: 1633, decoding loss: 0.02883088029921055, distance cost: 0.0009343673009425402\n",
      "iteration: 1636, decoding loss: 0.028577759861946106, distance cost: 0.0008609030046500266\n",
      "iteration: 1643, decoding loss: 0.028310071676969528, distance cost: 0.0009120646864175797\n",
      "iteration: 1806, decoding loss: 0.027343502268195152, distance cost: 0.001202291576191783\n",
      "iteration: 1813, decoding loss: 0.026978546753525734, distance cost: 0.0011741413036361337\n",
      "iteration: 1818, decoding loss: 0.026925042271614075, distance cost: 0.001137558720074594\n",
      "iteration: 1819, decoding loss: 0.026488518342375755, distance cost: 0.0012361911358311772\n",
      "iteration: 1825, decoding loss: 0.026459913700819016, distance cost: 0.0010558984940871596\n",
      "iteration: 2014, decoding loss: 0.025334710255265236, distance cost: 0.0012725694105029106\n",
      "iteration: 2025, decoding loss: 0.02498614601790905, distance cost: 0.0013263017171993852\n",
      "iteration: 2395, decoding loss: 0.02417122758924961, distance cost: 0.0020994101651012897\n",
      "iteration: 2403, decoding loss: 0.024235345423221588, distance cost: 0.0019868286326527596\n",
      "iteration: 2404, decoding loss: 0.023214178159832954, distance cost: 0.0017696775030344725\n"
     ]
    }
   ],
   "source": [
    "encoder, decoder, _ = generate_1d.train(1, 0, 24, device, n_training_iterations=3000)"
   ],
   "metadata": {
    "collapsed": false
   }
  },
  {
   "cell_type": "code",
   "execution_count": 11,
   "outputs": [],
   "source": [
    "angles = np.arange(start=0, stop=2 * np.pi, step=0.01)\n",
    "with torch.no_grad():\n",
    "    high_d_generated_ring_data = encoder(torch.tensor(np.expand_dims(angles, -1), dtype=torch.get_default_dtype()).to(device))\n",
    "high_d_generated_ring_data = high_d_generated_ring_data.cpu().numpy()"
   ],
   "metadata": {
    "collapsed": false
   }
  },
  {
   "cell_type": "markdown",
   "source": [
    "And then decode it"
   ],
   "metadata": {
    "collapsed": false
   }
  },
  {
   "cell_type": "code",
   "execution_count": 12,
   "outputs": [],
   "source": [
    "high_d_generated_ring_data = high_d_generated_ring_data/np.mean(np.abs(high_d_generated_ring_data))"
   ],
   "metadata": {
    "collapsed": false
   }
  },
  {
   "cell_type": "code",
   "execution_count": 14,
   "outputs": [
    {
     "name": "stderr",
     "output_type": "stream",
     "text": [
      "/home/trevor/brainvenv/lib/python3.8/site-packages/torch/nn/modules/lazy.py:180: UserWarning: Lazy modules are a new feature under heavy development so changes to the API or functionality can happen at any moment.\n",
      "  warnings.warn('Lazy modules are a new feature under heavy development '\n"
     ]
    },
    {
     "name": "stdout",
     "output_type": "stream",
     "text": [
      "iteration: 0, decoding loss: 1.4003078937530518, distance cost: 0.0012490141671150923, order reduction: 0.07457074522972107\n",
      "iteration: 2, decoding loss: 0.6519466638565063, distance cost: 0.7746526598930359, order reduction: 0.1312858611345291\n",
      "iteration: 5, decoding loss: 0.38960322737693787, distance cost: 0.05581944063305855, order reduction: 0.188451886177063\n",
      "iteration: 6, decoding loss: 0.26946431398391724, distance cost: 0.08049338310956955, order reduction: 0.0034690871834754944\n",
      "iteration: 8, decoding loss: 0.226283460855484, distance cost: 0.0449918732047081, order reduction: 0.039573654532432556\n",
      "iteration: 9, decoding loss: 0.08070217072963715, distance cost: 0.08428743481636047, order reduction: 0.04123597592115402\n",
      "iteration: 13, decoding loss: 0.0787663608789444, distance cost: 0.07723010331392288, order reduction: 0.0023098248057067394\n",
      "iteration: 14, decoding loss: 0.07183147966861725, distance cost: 0.08072684705257416, order reduction: 0.06472364813089371\n",
      "iteration: 17, decoding loss: 0.07521611452102661, distance cost: 0.0232260599732399, order reduction: 0.08038801699876785\n",
      "iteration: 18, decoding loss: 0.07429548352956772, distance cost: 0.02238786220550537, order reduction: 0.04018154367804527\n",
      "iteration: 19, decoding loss: 0.06746292114257812, distance cost: 0.02925257571041584, order reduction: 0.14720022678375244\n",
      "iteration: 20, decoding loss: 0.05260976031422615, distance cost: 0.033501580357551575, order reduction: 0.14713849127292633\n",
      "iteration: 21, decoding loss: 0.034764956682920456, distance cost: 0.032162029296159744, order reduction: 0.003176164347678423\n",
      "iteration: 22, decoding loss: 0.022147977724671364, distance cost: 0.0319952666759491, order reduction: 0.03894132375717163\n",
      "iteration: 23, decoding loss: 0.019291771575808525, distance cost: 0.030910516157746315, order reduction: 0.002909278031438589\n",
      "iteration: 28, decoding loss: 0.016070183366537094, distance cost: 0.008841108530759811, order reduction: 0.07824265956878662\n",
      "iteration: 29, decoding loss: 0.009023061022162437, distance cost: 0.007692083716392517, order reduction: 0.059560537338256836\n",
      "iteration: 35, decoding loss: 0.007148007862269878, distance cost: 0.0044937822967767715, order reduction: 0.13880370557308197\n",
      "iteration: 36, decoding loss: 0.004254363942891359, distance cost: 0.004523947834968567, order reduction: 0.06640011817216873\n",
      "iteration: 44, decoding loss: 0.004501654766499996, distance cost: 0.0017861827509477735, order reduction: 0.03971735015511513\n",
      "iteration: 46, decoding loss: 0.003761196741834283, distance cost: 0.002261423273012042, order reduction: 0.026007136330008507\n",
      "iteration: 49, decoding loss: 0.003517966251820326, distance cost: 0.002794630127027631, order reduction: 0.003139097010716796\n",
      "iteration: 51, decoding loss: 0.0020483676344156265, distance cost: 0.0019735819660127163, order reduction: 0.005890123546123505\n",
      "iteration: 52, decoding loss: 0.0014938551466912031, distance cost: 0.0016579516232013702, order reduction: 0.028966054320335388\n",
      "iteration: 59, decoding loss: 0.001163395238108933, distance cost: 0.0008603986934758723, order reduction: 0.016170484945178032\n",
      "iteration: 65, decoding loss: 0.0009566869703121483, distance cost: 0.0006163649377413094, order reduction: 0.03719170391559601\n",
      "iteration: 70, decoding loss: 0.0009521852480247617, distance cost: 0.00046402920270338655, order reduction: 0.006799877621233463\n",
      "iteration: 78, decoding loss: 0.0006166457897052169, distance cost: 0.000368847802747041, order reduction: 0.039565589278936386\n",
      "iteration: 79, decoding loss: 0.0005646204226650298, distance cost: 0.00030206653173081577, order reduction: 0.040661074221134186\n",
      "iteration: 83, decoding loss: 0.0005991013604216278, distance cost: 0.00027100808802060783, order reduction: 0.0226785559207201\n",
      "iteration: 86, decoding loss: 0.0005690703401342034, distance cost: 0.0002543455339036882, order reduction: 0.004618684761226177\n",
      "iteration: 109, decoding loss: 0.00045304070226848125, distance cost: 0.00016354559920728207, order reduction: 0.004460927098989487\n",
      "iteration: 110, decoding loss: 0.00045784833491779864, distance cost: 0.0001350256206933409, order reduction: 0.003525787964463234\n",
      "iteration: 113, decoding loss: 0.000433658278780058, distance cost: 0.00015431894280482084, order reduction: 0.003455322002992034\n",
      "iteration: 127, decoding loss: 0.000438069982919842, distance cost: 0.0001297002745559439, order reduction: 0.0028647782746702433\n",
      "iteration: 149, decoding loss: 0.0003959137829951942, distance cost: 0.00010161445243284106, order reduction: 0.003491845680400729\n",
      "iteration: 172, decoding loss: 0.0003906790807377547, distance cost: 8.609489304944873e-05, order reduction: 0.00416979705914855\n",
      "iteration: 173, decoding loss: 0.00038456343463622034, distance cost: 9.09958325792104e-05, order reduction: 0.004372133407741785\n",
      "iteration: 175, decoding loss: 0.0003799682017415762, distance cost: 9.184331429423764e-05, order reduction: 0.0027915320824831724\n",
      "iteration: 180, decoding loss: 0.00036549853393808007, distance cost: 9.115374268731102e-05, order reduction: 0.0035851136781275272\n",
      "iteration: 189, decoding loss: 0.000354927935404703, distance cost: 7.727612683083862e-05, order reduction: 0.0036837642546743155\n",
      "iteration: 215, decoding loss: 0.0003531939291860908, distance cost: 9.212308214046061e-05, order reduction: 0.0032839037012308836\n",
      "iteration: 227, decoding loss: 0.00034717770176939666, distance cost: 8.259166497737169e-05, order reduction: 0.0036914574448019266\n",
      "iteration: 229, decoding loss: 0.0003463795583229512, distance cost: 8.492270717397332e-05, order reduction: 0.0034457622095942497\n",
      "iteration: 249, decoding loss: 0.0003438274725340307, distance cost: 6.520761962747201e-05, order reduction: 0.0038028790149837732\n",
      "iteration: 285, decoding loss: 0.0003313751658424735, distance cost: 7.651748455828056e-05, order reduction: 0.0024769636802375317\n",
      "iteration: 345, decoding loss: 0.0003130757249891758, distance cost: 5.7562847359804437e-05, order reduction: 0.003369585843756795\n",
      "iteration: 372, decoding loss: 0.000300882471492514, distance cost: 5.3482111979974434e-05, order reduction: 0.004331620410084724\n",
      "iteration: 385, decoding loss: 0.000295021542115137, distance cost: 5.3473668231163174e-05, order reduction: 0.0036690824199467897\n",
      "iteration: 537, decoding loss: 0.00028901180485263467, distance cost: 3.252489841543138e-05, order reduction: 0.003714911872521043\n",
      "iteration: 600, decoding loss: 0.0002851038007065654, distance cost: 2.6483088731765747e-05, order reduction: 0.004144101403653622\n",
      "iteration: 636, decoding loss: 0.000282689172308892, distance cost: 2.377408236498013e-05, order reduction: 0.0037250134628266096\n",
      "iteration: 637, decoding loss: 0.0002691058034542948, distance cost: 1.982775029318873e-05, order reduction: 0.0038311874959617853\n",
      "iteration: 663, decoding loss: 0.0002679344906937331, distance cost: 1.8162563719670288e-05, order reduction: 0.003780289785936475\n",
      "iteration: 846, decoding loss: 0.0002660270838532597, distance cost: 1.7766471501090564e-05, order reduction: 0.003808170324191451\n",
      "iteration: 989, decoding loss: 0.00024978435249067843, distance cost: 1.4349941920954734e-05, order reduction: 0.0049246083945035934\n",
      "iteration: 1005, decoding loss: 0.00025040615582838655, distance cost: 1.3360974662646186e-05, order reduction: 0.004681027494370937\n",
      "iteration: 1346, decoding loss: 0.0002475011278875172, distance cost: 1.6681442502886057e-05, order reduction: 0.004569018725305796\n",
      "iteration: 1505, decoding loss: 0.00024432953796349466, distance cost: 1.8691194782149978e-05, order reduction: 0.004356194753199816\n",
      "iteration: 1637, decoding loss: 0.00023249824880622327, distance cost: 1.4123285836831201e-05, order reduction: 0.004563361406326294\n",
      "iteration: 1745, decoding loss: 0.00021449987252708524, distance cost: 1.5148139027587604e-05, order reduction: 0.00547924404963851\n",
      "iteration: 1782, decoding loss: 0.00021134215057827532, distance cost: 1.2113598131691106e-05, order reduction: 0.0045393831096589565\n",
      "iteration: 1924, decoding loss: 0.00019760735449381173, distance cost: 9.60906436375808e-06, order reduction: 0.005352815147489309\n",
      "iteration: 2287, decoding loss: 0.00018461000581737608, distance cost: 1.3047111679043155e-05, order reduction: 0.0049987975507974625\n",
      "iteration: 2463, decoding loss: 0.00017310191469732672, distance cost: 7.236653345898958e-06, order reduction: 0.005402055103331804\n",
      "iteration: 2751, decoding loss: 0.0001674105296842754, distance cost: 6.642769221798517e-06, order reduction: 0.005704700015485287\n",
      "iteration: 2800, decoding loss: 0.0001677441323408857, distance cost: 6.648299404332647e-06, order reduction: 0.005553865339607\n",
      "iteration: 2813, decoding loss: 0.00016263226279988885, distance cost: 6.0771471908083186e-06, order reduction: 0.005442901514470577\n"
     ]
    }
   ],
   "source": [
    "encoder, decoder, _ = decode_1d.train(data=high_d_generated_ring_data, n_circular_dimensions=1, n_linear_dimensions=0, device=device,\n",
    "                                                   n_training_iterations=3000, decoder_weight=10, order_red_weight=0.1)\n"
   ],
   "metadata": {
    "collapsed": false
   }
  },
  {
   "cell_type": "code",
   "execution_count": 16,
   "outputs": [],
   "source": [
    "with torch.no_grad():\n",
    "    decoded_angles = decoder(torch.tensor(high_d_generated_ring_data, dtype=torch.get_default_dtype()).to(device))\n",
    "\n",
    "predicted_phases = torch.squeeze(decoded_angles).cpu().numpy()"
   ],
   "metadata": {
    "collapsed": false
   }
  },
  {
   "cell_type": "code",
   "execution_count": 17,
   "outputs": [],
   "source": [
    "def compare_to_ground_truth(predicted_phases, ground_truth_phases, plot_ax):\n",
    "    refd_test_phases = geometry_util.reference_periodic_phases(predicted_phases)\n",
    "    refd_true_phases = geometry_util.reference_periodic_phases(ground_truth_phases)\n",
    "    line = np.arange(start=-np.pi, stop=np.pi, step=0.01)\n",
    "    plot_ax.scatter(refd_true_phases, refd_test_phases)\n",
    "    plot_ax.plot(line, line, color=\"black\", linestyle=\"--\", label=\"y=x\")\n",
    "    plot_ax.set_xlabel(\"True Phase\")\n",
    "    plot_ax.set_ylabel(\"Found Phase\")\n",
    "    return refd_test_phases, refd_true_phases\n"
   ],
   "metadata": {
    "collapsed": false
   }
  },
  {
   "cell_type": "code",
   "execution_count": 18,
   "outputs": [
    {
     "data": {
      "text/plain": "<Figure size 640x480 with 1 Axes>",
      "image/png": "[encoded data removed]"
     },
     "metadata": {},
     "output_type": "display_data"
    }
   ],
   "source": [
    "%matplotlib inline\n",
    "fig, ax = plt.subplots()\n",
    "refd_predicted_phases, refd_true_phases = compare_to_ground_truth(predicted_phases, angles, ax)\n"
   ],
   "metadata": {
    "collapsed": false
   }
  },
  {
   "cell_type": "markdown",
   "source": [
    "Now let's do a harder problem. Let's decode noisy data generated by a dynamic system. First, the dynamics. We will use a typical ring attractor model,"
   ],
   "metadata": {
    "collapsed": false
   }
  },
  {
   "cell_type": "code",
   "execution_count": 19,
   "outputs": [],
   "source": [
    "def conv_circ(signal, ker):\n",
    "    return np.fft.ifft(np.einsum(\"ij, j -> ij\", np.fft.fft(signal, axis=1), np.fft.fft(ker)), axis=1)\n",
    "\n",
    "\n",
    "def cosine_kernel(w_0, w_1, N):\n",
    "    step = 2/(N)\n",
    "    grid = np.arange(start=0, stop=2, step=step) * np.pi\n",
    "    weights = -w_0 + w_1 * np.cos(grid)\n",
    "    return weights\n",
    "\n",
    "\n",
    "def ring_attractor_dynamics(state, kernel, bias_vec, nonlin_fn):\n",
    "    if len(np.shape(state)) == 1:\n",
    "        state = np.expand_dims(state, -1)\n",
    "    state = np.transpose(state)\n",
    "    return np.transpose(-state + nonlin_fn(conv_circ(state, kernel) + bias_vec))\n",
    "\n",
    "\n",
    "def sigmoid(x):\n",
    "    return np.exp(x)/(np.exp(x) + 1)"
   ],
   "metadata": {
    "collapsed": false
   }
  },
  {
   "cell_type": "markdown",
   "source": [
    "Generate some samples of equalibrium states. We will generate around 50, to make things interesting."
   ],
   "metadata": {
    "collapsed": false
   }
  },
  {
   "cell_type": "code",
   "execution_count": 20,
   "outputs": [
    {
     "name": "stderr",
     "output_type": "stream",
     "text": [
      "/tmp/ipykernel_299117/1478060612.py:4: DeprecationWarning: `np.complex` is a deprecated alias for the builtin `complex`. To silence this warning, use `complex` by itself. Doing this will not modify any behavior and is safe. If you specifically wanted the numpy scalar type, use `np.complex128` here.\n",
      "Deprecated in NumPy 1.20; for more details and guidance: https://numpy.org/devdocs/release/1.20.0-notes.html#deprecations\n",
      "  init_conds = np.random.uniform(-1, 1, (n_samples, N)).astype(np.complex)\n"
     ]
    }
   ],
   "source": [
    "N = 2 ** 7\n",
    "n_samples = 50\n",
    "\n",
    "init_conds = np.random.uniform(-1, 1, (n_samples, N)).astype(np.complex)\n",
    "\n",
    "w_0 = 1\n",
    "w_1 = 1\n",
    "kernel = cosine_kernel(w_0, w_1, N)\n",
    "\n",
    "\n",
    "def run_equilibriation(init_conds):\n",
    "    soln = integrate.solve_ivp(lambda _, y: ring_attractor_dynamics(y, kernel, np.zeros(N), sigmoid),\n",
    "                               [0, 20], init_conds, vectorized=True)\n",
    "    return soln.y[:, -1]\n",
    "\n",
    "\n",
    "p = mp.Pool()\n",
    "solns = np.array(p.map(run_equilibriation, init_conds))\n",
    "p.close()\n",
    "p.join()"
   ],
   "metadata": {
    "collapsed": false
   }
  },
  {
   "cell_type": "markdown",
   "source": [
    "Add some noise"
   ],
   "metadata": {
    "collapsed": false
   }
  },
  {
   "cell_type": "code",
   "execution_count": 21,
   "outputs": [],
   "source": [
    "ring_attractor_data = np.real(solns/np.mean(np.abs(solns)))\n",
    "noisy_ring_attractor_data = ring_attractor_data + np.random.normal(0, np.max(ring_attractor_data)/15, np.shape(ring_attractor_data))"
   ],
   "metadata": {
    "collapsed": false
   }
  },
  {
   "cell_type": "markdown",
   "source": [
    "Note down the ground truth phases"
   ],
   "metadata": {
    "collapsed": false
   }
  },
  {
   "cell_type": "code",
   "execution_count": 22,
   "outputs": [],
   "source": [
    "true_ring_att_phases = (np.argmax(ring_attractor_data, axis=1)/N) * 2 * np.pi"
   ],
   "metadata": {
    "collapsed": false
   }
  },
  {
   "cell_type": "code",
   "execution_count": 23,
   "outputs": [
    {
     "data": {
      "text/plain": "Text(0, 0.5, 'Datapoint')"
     },
     "execution_count": 23,
     "metadata": {},
     "output_type": "execute_result"
    },
    {
     "data": {
      "text/plain": "<Figure size 640x480 with 1 Axes>",
      "image/png": "[encoded data removed]"
     },
     "metadata": {},
     "output_type": "display_data"
    }
   ],
   "source": [
    "fig, ax = plt.subplots()\n",
    "ax.imshow(noisy_ring_attractor_data, aspect=\"auto\")\n",
    "ax.set_title(\"Raw activation data\")\n",
    "ax.set_xlabel(\"Neuron Index\")\n",
    "ax.set_ylabel(\"Datapoint\")\n"
   ],
   "metadata": {
    "collapsed": false
   }
  },
  {
   "cell_type": "markdown",
   "source": [
    "Now decode"
   ],
   "metadata": {
    "collapsed": false
   }
  },
  {
   "cell_type": "code",
   "execution_count": 34,
   "outputs": [
    {
     "name": "stdout",
     "output_type": "stream",
     "text": [
      "iteration: 0, decoding loss: 4.244379997253418, distance cost: 0.004394881427288055, order reduction: 0.0010826467769220471\n",
      "iteration: 1, decoding loss: 3.5669138431549072, distance cost: 0.03701339289546013, order reduction: 0.0006176629103720188\n",
      "iteration: 2, decoding loss: 2.9395997524261475, distance cost: 0.03282640874385834, order reduction: 0.0014449910959228873\n",
      "iteration: 3, decoding loss: 2.5661935806274414, distance cost: 0.08209507912397385, order reduction: 0.0025807018391788006\n",
      "iteration: 4, decoding loss: 2.203385591506958, distance cost: 0.1457960158586502, order reduction: 0.00249435193836689\n",
      "iteration: 5, decoding loss: 2.098032236099243, distance cost: 0.13787634670734406, order reduction: 0.0025398836005479097\n",
      "iteration: 6, decoding loss: 1.8499938249588013, distance cost: 0.0608794130384922, order reduction: 0.002463046694174409\n",
      "iteration: 7, decoding loss: 1.665208339691162, distance cost: 0.010696018114686012, order reduction: 0.0024317377246916294\n",
      "iteration: 8, decoding loss: 1.527099609375, distance cost: 0.019472341984510422, order reduction: 0.002351779490709305\n",
      "iteration: 9, decoding loss: 1.4064737558364868, distance cost: 0.04121614620089531, order reduction: 0.0031320934649556875\n",
      "iteration: 10, decoding loss: 1.2894644737243652, distance cost: 0.03354731947183609, order reduction: 0.0030814355704933405\n",
      "iteration: 11, decoding loss: 1.165431261062622, distance cost: 0.02244129776954651, order reduction: 0.0032312499824911356\n",
      "iteration: 12, decoding loss: 1.1028550863265991, distance cost: 0.01867643930017948, order reduction: 0.003303857985883951\n",
      "iteration: 13, decoding loss: 1.0444072484970093, distance cost: 0.01819818839430809, order reduction: 0.00420900946483016\n",
      "iteration: 14, decoding loss: 0.9560814499855042, distance cost: 0.017910858616232872, order reduction: 0.00444060517475009\n",
      "iteration: 15, decoding loss: 0.870820164680481, distance cost: 0.017990579828619957, order reduction: 0.004696113057434559\n",
      "iteration: 16, decoding loss: 0.7899792194366455, distance cost: 0.012913893908262253, order reduction: 0.005198460537940264\n",
      "iteration: 17, decoding loss: 0.7181976437568665, distance cost: 0.013129862025380135, order reduction: 0.005566474050283432\n",
      "iteration: 18, decoding loss: 0.6749657988548279, distance cost: 0.010180063545703888, order reduction: 0.007311197929084301\n",
      "iteration: 19, decoding loss: 0.5846976637840271, distance cost: 0.010825922712683678, order reduction: 0.006694220006465912\n",
      "iteration: 20, decoding loss: 0.5533565878868103, distance cost: 0.015792975202202797, order reduction: 0.007525750435888767\n",
      "iteration: 21, decoding loss: 0.4998879134654999, distance cost: 0.01382231991738081, order reduction: 0.008642641827464104\n",
      "iteration: 22, decoding loss: 0.46120190620422363, distance cost: 0.014661606401205063, order reduction: 0.008843752555549145\n",
      "iteration: 23, decoding loss: 0.4284164607524872, distance cost: 0.01764543540775776, order reduction: 0.008640771731734276\n",
      "iteration: 24, decoding loss: 0.40652358531951904, distance cost: 0.015497935004532337, order reduction: 0.009077288210391998\n",
      "iteration: 25, decoding loss: 0.37491530179977417, distance cost: 0.015728913247585297, order reduction: 0.009058531373739243\n",
      "iteration: 26, decoding loss: 0.34266236424446106, distance cost: 0.016229411587119102, order reduction: 0.009460905566811562\n",
      "iteration: 27, decoding loss: 0.3382473289966583, distance cost: 0.015669604763388634, order reduction: 0.010850057005882263\n",
      "iteration: 28, decoding loss: 0.3190554678440094, distance cost: 0.01349539216607809, order reduction: 0.011819897219538689\n",
      "iteration: 29, decoding loss: 0.29538893699645996, distance cost: 0.01261032186448574, order reduction: 0.011377407237887383\n",
      "iteration: 30, decoding loss: 0.28126266598701477, distance cost: 0.010269097983837128, order reduction: 0.011610647663474083\n",
      "iteration: 31, decoding loss: 0.2667868733406067, distance cost: 0.010687081143260002, order reduction: 0.01270047202706337\n",
      "iteration: 32, decoding loss: 0.25217217206954956, distance cost: 0.011480027809739113, order reduction: 0.013513913378119469\n",
      "iteration: 33, decoding loss: 0.2335251420736313, distance cost: 0.010563354939222336, order reduction: 0.012827495113015175\n",
      "iteration: 34, decoding loss: 0.225035160779953, distance cost: 0.01038668304681778, order reduction: 0.012611555866897106\n",
      "iteration: 35, decoding loss: 0.2168385088443756, distance cost: 0.009232409298419952, order reduction: 0.012040498666465282\n",
      "iteration: 36, decoding loss: 0.20289364457130432, distance cost: 0.007872844114899635, order reduction: 0.013583943247795105\n",
      "iteration: 37, decoding loss: 0.1965494155883789, distance cost: 0.006438383832573891, order reduction: 0.014052520506083965\n",
      "iteration: 38, decoding loss: 0.18751294910907745, distance cost: 0.005634244531393051, order reduction: 0.013643719255924225\n",
      "iteration: 39, decoding loss: 0.18021884560585022, distance cost: 0.004478536546230316, order reduction: 0.01589626632630825\n",
      "iteration: 40, decoding loss: 0.17244894802570343, distance cost: 0.003571406938135624, order reduction: 0.01521974615752697\n",
      "iteration: 41, decoding loss: 0.16575659811496735, distance cost: 0.0032210438512265682, order reduction: 0.01403396762907505\n",
      "iteration: 42, decoding loss: 0.16168171167373657, distance cost: 0.003207180416211486, order reduction: 0.015150295570492744\n",
      "iteration: 43, decoding loss: 0.15628080070018768, distance cost: 0.0032381501514464617, order reduction: 0.014817696996033192\n",
      "iteration: 44, decoding loss: 0.15061573684215546, distance cost: 0.0029781810007989407, order reduction: 0.015074982307851315\n",
      "iteration: 45, decoding loss: 0.14581769704818726, distance cost: 0.002894191537052393, order reduction: 0.0156969353556633\n",
      "iteration: 46, decoding loss: 0.14269493520259857, distance cost: 0.002576286206021905, order reduction: 0.014971970580518246\n",
      "iteration: 47, decoding loss: 0.13865594565868378, distance cost: 0.0027177121955901384, order reduction: 0.016210876405239105\n",
      "iteration: 48, decoding loss: 0.13556495308876038, distance cost: 0.002500913804396987, order reduction: 0.016260163858532906\n",
      "iteration: 49, decoding loss: 0.13168145716190338, distance cost: 0.0025360663421452045, order reduction: 0.015767401084303856\n",
      "iteration: 50, decoding loss: 0.12849317491054535, distance cost: 0.002505940617993474, order reduction: 0.015644924715161324\n",
      "iteration: 51, decoding loss: 0.12589144706726074, distance cost: 0.0023655742406845093, order reduction: 0.015219563618302345\n",
      "iteration: 52, decoding loss: 0.12406567484140396, distance cost: 0.0019004223868250847, order reduction: 0.016126183792948723\n",
      "iteration: 53, decoding loss: 0.12081801146268845, distance cost: 0.002055056393146515, order reduction: 0.016164571046829224\n",
      "iteration: 54, decoding loss: 0.1190309152007103, distance cost: 0.0023398175835609436, order reduction: 0.017178894951939583\n",
      "iteration: 55, decoding loss: 0.11633820086717606, distance cost: 0.0022002318874001503, order reduction: 0.015336252748966217\n",
      "iteration: 56, decoding loss: 0.11494334787130356, distance cost: 0.002262222347781062, order reduction: 0.01560235396027565\n",
      "iteration: 57, decoding loss: 0.11238013207912445, distance cost: 0.0021290937438607216, order reduction: 0.017646843567490578\n",
      "iteration: 58, decoding loss: 0.1117435023188591, distance cost: 0.001933421241119504, order reduction: 0.018926143646240234\n",
      "iteration: 59, decoding loss: 0.1102985143661499, distance cost: 0.0015253648161888123, order reduction: 0.017556238919496536\n",
      "iteration: 60, decoding loss: 0.11024454236030579, distance cost: 0.001622369629330933, order reduction: 0.01603592000901699\n",
      "iteration: 61, decoding loss: 0.10705086588859558, distance cost: 0.0013824156485497952, order reduction: 0.01710139960050583\n",
      "iteration: 62, decoding loss: 0.10717149823904037, distance cost: 0.001473568961955607, order reduction: 0.01617944985628128\n",
      "iteration: 63, decoding loss: 0.1063416376709938, distance cost: 0.0012594826985150576, order reduction: 0.0177574772387743\n",
      "iteration: 64, decoding loss: 0.10397081077098846, distance cost: 0.0013385186903178692, order reduction: 0.017702119424939156\n",
      "iteration: 66, decoding loss: 0.10390117019414902, distance cost: 0.0012873937375843525, order reduction: 0.016767922788858414\n",
      "iteration: 72, decoding loss: 0.10047052800655365, distance cost: 0.0026454846374690533, order reduction: 0.018755216151475906\n",
      "iteration: 77, decoding loss: 0.09988794475793839, distance cost: 0.0031988073606044054, order reduction: 0.01892811246216297\n",
      "iteration: 78, decoding loss: 0.09937283396720886, distance cost: 0.002578526036813855, order reduction: 0.019823217764496803\n",
      "iteration: 80, decoding loss: 0.09700044989585876, distance cost: 0.0028911700937896967, order reduction: 0.018005909398198128\n",
      "iteration: 83, decoding loss: 0.09445016831159592, distance cost: 0.0019348463974893093, order reduction: 0.01870133727788925\n",
      "iteration: 86, decoding loss: 0.09338461607694626, distance cost: 0.0014320388436317444, order reduction: 0.01981121487915516\n",
      "iteration: 88, decoding loss: 0.09154056012630463, distance cost: 0.0010913406731560826, order reduction: 0.01981549896299839\n",
      "iteration: 93, decoding loss: 0.09092286974191666, distance cost: 0.0008758118492551148, order reduction: 0.019713837653398514\n",
      "iteration: 95, decoding loss: 0.09025932848453522, distance cost: 0.0008766603423282504, order reduction: 0.01734182983636856\n",
      "iteration: 100, decoding loss: 0.08931401371955872, distance cost: 0.000749628059566021, order reduction: 0.019042912870645523\n",
      "iteration: 102, decoding loss: 0.08878444880247116, distance cost: 0.0007212803466245532, order reduction: 0.020769773051142693\n",
      "iteration: 103, decoding loss: 0.08823896944522858, distance cost: 0.0007558671059086919, order reduction: 0.02102527767419815\n",
      "iteration: 104, decoding loss: 0.08807521313428879, distance cost: 0.0008137287222780287, order reduction: 0.0207484420388937\n",
      "iteration: 105, decoding loss: 0.08708786219358444, distance cost: 0.0008266009390354156, order reduction: 0.019762475043535233\n",
      "iteration: 107, decoding loss: 0.08654692769050598, distance cost: 0.0006724294507876039, order reduction: 0.02153305895626545\n",
      "iteration: 109, decoding loss: 0.08573386073112488, distance cost: 0.0007748425123281777, order reduction: 0.019609833136200905\n",
      "iteration: 112, decoding loss: 0.085614874958992, distance cost: 0.0006859273998998106, order reduction: 0.019541455432772636\n",
      "iteration: 113, decoding loss: 0.08493567258119583, distance cost: 0.0006933712284080684, order reduction: 0.021295513957738876\n",
      "iteration: 116, decoding loss: 0.08434806019067764, distance cost: 0.0005759778432548046, order reduction: 0.022118818014860153\n",
      "iteration: 118, decoding loss: 0.08359184861183167, distance cost: 0.0006148139364086092, order reduction: 0.020987633615732193\n",
      "iteration: 121, decoding loss: 0.0828588530421257, distance cost: 0.0004675944510381669, order reduction: 0.021976280957460403\n",
      "iteration: 126, decoding loss: 0.0821695402264595, distance cost: 0.0005302326753735542, order reduction: 0.02159181423485279\n",
      "iteration: 127, decoding loss: 0.08141092211008072, distance cost: 0.0005005234852433205, order reduction: 0.022313619032502174\n",
      "iteration: 132, decoding loss: 0.08061209321022034, distance cost: 0.0005600919830612838, order reduction: 0.02302635833621025\n",
      "iteration: 137, decoding loss: 0.08046591281890869, distance cost: 0.0005114738014526665, order reduction: 0.02063007280230522\n",
      "iteration: 138, decoding loss: 0.07974260300397873, distance cost: 0.0005151983932591975, order reduction: 0.02170966938138008\n",
      "iteration: 139, decoding loss: 0.07877650111913681, distance cost: 0.0004710964858531952, order reduction: 0.02395438961684704\n",
      "iteration: 147, decoding loss: 0.07810100167989731, distance cost: 0.0005273353890515864, order reduction: 0.02323162369430065\n",
      "iteration: 149, decoding loss: 0.07762671262025833, distance cost: 0.0004520183429121971, order reduction: 0.024160707369446754\n",
      "iteration: 150, decoding loss: 0.07634381204843521, distance cost: 0.0004531928279902786, order reduction: 0.022966638207435608\n",
      "iteration: 163, decoding loss: 0.07438934594392776, distance cost: 0.0004924891400150955, order reduction: 0.025203034281730652\n",
      "iteration: 173, decoding loss: 0.07349632680416107, distance cost: 0.0004298917774576694, order reduction: 0.025583865121006966\n",
      "iteration: 205, decoding loss: 0.07128608226776123, distance cost: 0.00084698322461918, order reduction: 0.029702313244342804\n",
      "iteration: 215, decoding loss: 0.06920375674962997, distance cost: 0.0006281213136389852, order reduction: 0.03133957087993622\n",
      "iteration: 220, decoding loss: 0.06814047694206238, distance cost: 0.000636918586678803, order reduction: 0.029609140008687973\n",
      "iteration: 232, decoding loss: 0.06670744717121124, distance cost: 0.00047677382826805115, order reduction: 0.031562939286231995\n",
      "iteration: 233, decoding loss: 0.06552822887897491, distance cost: 0.0004932290175929666, order reduction: 0.03270574286580086\n",
      "iteration: 242, decoding loss: 0.0653291642665863, distance cost: 0.0004940256476402283, order reduction: 0.03286030888557434\n",
      "iteration: 244, decoding loss: 0.06387344747781754, distance cost: 0.0005776056204922497, order reduction: 0.032030582427978516\n",
      "iteration: 258, decoding loss: 0.062268923968076706, distance cost: 0.0004493997839745134, order reduction: 0.03671618178486824\n",
      "iteration: 274, decoding loss: 0.06101638451218605, distance cost: 0.000564975431188941, order reduction: 0.036003079265356064\n",
      "iteration: 287, decoding loss: 0.05964193493127823, distance cost: 0.0004931111470796168, order reduction: 0.03811123967170715\n",
      "iteration: 295, decoding loss: 0.05884883180260658, distance cost: 0.00047799499589018524, order reduction: 0.040577296167612076\n",
      "iteration: 307, decoding loss: 0.058414969593286514, distance cost: 0.0004972901660948992, order reduction: 0.03890775889158249\n",
      "iteration: 358, decoding loss: 0.055562812834978104, distance cost: 0.0010692490031942725, order reduction: 0.04923180118203163\n",
      "iteration: 359, decoding loss: 0.05438103899359703, distance cost: 0.0006483184406533837, order reduction: 0.05294445902109146\n",
      "iteration: 360, decoding loss: 0.05427698791027069, distance cost: 0.0009423952433280647, order reduction: 0.04772277921438217\n",
      "iteration: 370, decoding loss: 0.053014326840639114, distance cost: 0.0006633085431531072, order reduction: 0.0511043444275856\n",
      "iteration: 373, decoding loss: 0.05209288373589516, distance cost: 0.0006595083395950496, order reduction: 0.05136451870203018\n",
      "iteration: 379, decoding loss: 0.05208774656057358, distance cost: 0.0007206366281025112, order reduction: 0.051140107214450836\n",
      "iteration: 384, decoding loss: 0.05204001069068909, distance cost: 0.0007138820947147906, order reduction: 0.049747616052627563\n",
      "iteration: 385, decoding loss: 0.05062370002269745, distance cost: 0.0006182867800816894, order reduction: 0.05418379604816437\n",
      "iteration: 387, decoding loss: 0.05101713165640831, distance cost: 0.0005707908421754837, order reduction: 0.050834253430366516\n",
      "iteration: 394, decoding loss: 0.050469812005758286, distance cost: 0.000523165799677372, order reduction: 0.05201473832130432\n",
      "iteration: 410, decoding loss: 0.04785153269767761, distance cost: 0.0005840516532771289, order reduction: 0.05400761216878891\n",
      "iteration: 417, decoding loss: 0.04785443842411041, distance cost: 0.0006283714901655912, order reduction: 0.05375077575445175\n",
      "iteration: 439, decoding loss: 0.046029895544052124, distance cost: 0.000583373534027487, order reduction: 0.05918493866920471\n",
      "iteration: 444, decoding loss: 0.04577828571200371, distance cost: 0.0006418497068807483, order reduction: 0.0569470189511776\n",
      "iteration: 446, decoding loss: 0.04505928233265877, distance cost: 0.0005913549684919417, order reduction: 0.06044323742389679\n",
      "iteration: 462, decoding loss: 0.04411730542778969, distance cost: 0.000519696157425642, order reduction: 0.06361899524927139\n",
      "iteration: 465, decoding loss: 0.04373760521411896, distance cost: 0.0006232777959667146, order reduction: 0.06503090262413025\n",
      "iteration: 475, decoding loss: 0.043232813477516174, distance cost: 0.0006041126325726509, order reduction: 0.06361845880746841\n",
      "iteration: 481, decoding loss: 0.04223565757274628, distance cost: 0.0007630090112797916, order reduction: 0.0660729706287384\n",
      "iteration: 494, decoding loss: 0.04222051054239273, distance cost: 0.0006971657858230174, order reduction: 0.06364204734563828\n",
      "iteration: 564, decoding loss: 0.04006590321660042, distance cost: 0.00094756786711514, order reduction: 0.07139036804437637\n",
      "iteration: 566, decoding loss: 0.03935765102505684, distance cost: 0.0009779896354302764, order reduction: 0.07238464802503586\n",
      "iteration: 570, decoding loss: 0.03898577392101288, distance cost: 0.0009182096109725535, order reduction: 0.072616808116436\n",
      "iteration: 571, decoding loss: 0.0384553000330925, distance cost: 0.0008737992611713707, order reduction: 0.07484754174947739\n",
      "iteration: 585, decoding loss: 0.03901275619864464, distance cost: 0.0009090045932680368, order reduction: 0.07180257141590118\n",
      "iteration: 586, decoding loss: 0.03834397718310356, distance cost: 0.0007476356695406139, order reduction: 0.07488568127155304\n",
      "iteration: 589, decoding loss: 0.037328142672777176, distance cost: 0.0007397121516987681, order reduction: 0.07165469974279404\n",
      "iteration: 593, decoding loss: 0.03576367348432541, distance cost: 0.000726094120182097, order reduction: 0.0794539824128151\n",
      "iteration: 611, decoding loss: 0.0357595756649971, distance cost: 0.0007163154659792781, order reduction: 0.07734793424606323\n",
      "iteration: 656, decoding loss: 0.03400653973221779, distance cost: 0.0005208379589021206, order reduction: 0.08458038419485092\n",
      "iteration: 661, decoding loss: 0.033795639872550964, distance cost: 0.000592462660279125, order reduction: 0.0834588035941124\n",
      "iteration: 669, decoding loss: 0.032389480620622635, distance cost: 0.0005552520742639899, order reduction: 0.08786819875240326\n",
      "iteration: 758, decoding loss: 0.031132692471146584, distance cost: 0.0003843448939733207, order reduction: 0.09081613272428513\n",
      "iteration: 759, decoding loss: 0.0317496620118618, distance cost: 0.00045319137279875576, order reduction: 0.08667565137147903\n",
      "iteration: 763, decoding loss: 0.03188038244843483, distance cost: 0.0003415457031223923, order reduction: 0.08441789448261261\n",
      "iteration: 808, decoding loss: 0.03087545372545719, distance cost: 0.00041210968629457057, order reduction: 0.08722152560949326\n",
      "iteration: 811, decoding loss: 0.029812444001436234, distance cost: 0.00033625238575041294, order reduction: 0.08598364889621735\n",
      "iteration: 958, decoding loss: 0.028412336483597755, distance cost: 0.00022011219698470086, order reduction: 0.09173154085874557\n",
      "iteration: 966, decoding loss: 0.027530748397111893, distance cost: 0.00016583358228672296, order reduction: 0.09539458155632019\n",
      "iteration: 1015, decoding loss: 0.02819901332259178, distance cost: 0.00010885914525715634, order reduction: 0.09173481166362762\n",
      "iteration: 1045, decoding loss: 0.02787473425269127, distance cost: 0.0001116188068408519, order reduction: 0.09062989056110382\n"
     ]
    }
   ],
   "source": [
    "encoder, decoder, _ = decode_1d.train(data=noisy_ring_attractor_data, n_circular_dimensions=1, n_linear_dimensions=0, device=device,\n",
    "                                                   n_training_iterations=3000, decoder_weight=5, order_red_weight=1)\n"
   ],
   "metadata": {
    "collapsed": false
   }
  },
  {
   "cell_type": "code",
   "execution_count": 35,
   "outputs": [],
   "source": [
    "with torch.no_grad():\n",
    "    decoded_angles = decoder(torch.tensor(noisy_ring_attractor_data, dtype=torch.get_default_dtype()).to(device))\n",
    "\n",
    "ring_att_predicted_phases = torch.squeeze(decoded_angles).cpu().numpy()"
   ],
   "metadata": {
    "collapsed": false
   }
  },
  {
   "cell_type": "code",
   "execution_count": 36,
   "outputs": [
    {
     "data": {
      "text/plain": "<Figure size 640x480 with 1 Axes>",
      "image/png": "[encoded data removed]"
     },
     "metadata": {},
     "output_type": "display_data"
    }
   ],
   "source": [
    "%matplotlib inline\n",
    "fig, ax = plt.subplots()\n",
    "refd_ring_att_predicted_phases, refd_ring_att_true_phases = compare_to_ground_truth(ring_att_predicted_phases, true_ring_att_phases, ax)\n"
   ],
   "metadata": {
    "collapsed": false
   }
  }
 ],
 "metadata": {
  "kernelspec": {
   "display_name": "Python 3",
   "language": "python",
   "name": "python3"
  },
  "language_info": {
   "codemirror_mode": {
    "name": "ipython",
    "version": 2
   },
   "file_extension": ".py",
   "mimetype": "text/x-python",
   "name": "python",
   "nbconvert_exporter": "python",
   "pygments_lexer": "ipython2",
   "version": "2.7.6"
  }
 },
 "nbformat": 4,
 "nbformat_minor": 0
}
