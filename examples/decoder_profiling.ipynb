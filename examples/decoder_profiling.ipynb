{
 "cells": [
  {
   "cell_type": "code",
   "execution_count": 8,
   "metadata": {
    "collapsed": true
   },
   "outputs": [],
   "source": [
    "import numpy as np\n",
    "import os\n",
    "import sys\n",
    "import torch\n",
    "from torch.profiler import profile, ProfilerActivity\n",
    "\n",
    "sys.path.append(os.path.join(os.getenv(\"HOME\"), \"RNN_Manifold/\"))\n",
    "import encoder_decoder_core, decode_1d\n"
   ]
  },
  {
   "cell_type": "code",
   "execution_count": 4,
   "outputs": [
    {
     "name": "stdout",
     "output_type": "stream",
     "text": [
      "using cuda\n"
     ]
    }
   ],
   "source": [
    "device = torch.device('cuda' if torch.cuda.is_available() else 'cpu')\n",
    "print(\"using {}\".format(device))"
   ],
   "metadata": {
    "collapsed": false
   }
  },
  {
   "cell_type": "markdown",
   "source": [
    "The purpose of this notebook is to get an idea of the resource use of the main decoder functions to make sure nothing weird is going on."
   ],
   "metadata": {
    "collapsed": false
   }
  },
  {
   "cell_type": "code",
   "execution_count": 5,
   "outputs": [],
   "source": [
    "batch_size = 1000\n",
    "embedded_dim = 20\n",
    "manifold_dim = 1\n",
    "decoder_hidden_size = 1000\n",
    "encoder_hidden_size = int(1.5 * decoder_hidden_size)\n",
    "decoder_n_hidden = 2\n",
    "encoder_n_hidden = decoder_n_hidden\n",
    "\n",
    "fake_data = np.random.uniform(-1, 1, (batch_size, embedded_dim))\n",
    "fake_data_torch = torch.tensor(fake_data, dtype=torch.get_default_dtype()).to(device)"
   ],
   "metadata": {
    "collapsed": false
   }
  },
  {
   "cell_type": "code",
   "execution_count": 6,
   "outputs": [
    {
     "name": "stderr",
     "output_type": "stream",
     "text": [
      "/home/trevor/brainvenv/lib/python3.8/site-packages/torch/nn/modules/lazy.py:180: UserWarning: Lazy modules are a new feature under heavy development so changes to the API or functionality can happen at any moment.\n",
      "  warnings.warn('Lazy modules are a new feature under heavy development '\n"
     ]
    }
   ],
   "source": [
    "encoder_net = encoder_decoder_core.Encoder1D(embedded_dim, manifold_dim, 0, encoder_hidden_size, encoder_n_hidden).to(device)\n",
    "decoder_net = encoder_decoder_core.Decoder1D(embedded_dim, manifold_dim, 0, decoder_hidden_size, decoder_n_hidden).to(device)"
   ],
   "metadata": {
    "collapsed": false
   }
  },
  {
   "cell_type": "code",
   "execution_count": 10,
   "outputs": [
    {
     "name": "stdout",
     "output_type": "stream",
     "text": [
      "-------------------------------------------------------  ------------  ------------  ------------  ------------  ------------  ------------  ------------  ------------  ------------  ------------  ------------  ------------  ------------  ------------  \n",
      "                                                   Name    Self CPU %      Self CPU   CPU total %     CPU total  CPU time avg     Self CUDA   Self CUDA %    CUDA total  CUDA time avg       CPU Mem  Self CPU Mem      CUDA Mem  Self CUDA Mem    # of Calls  \n",
      "-------------------------------------------------------  ------------  ------------  ------------  ------------  ------------  ------------  ------------  ------------  ------------  ------------  ------------  ------------  ------------  ------------  \n",
      "                                             aten::tanh         8.23%     121.000us        31.88%     469.000us      58.625us      67.000us         7.15%      67.000us       8.375us           0 b           0 b      31.86 Mb      31.86 Mb             8  \n",
      "                                            aten::addmm        26.78%     394.000us        38.07%     560.000us      56.000us     846.000us        90.29%     846.000us      84.600us           0 b           0 b      29.59 Mb      19.59 Mb            10  \n",
      "                                            aten::empty         1.97%      29.000us         1.97%      29.000us       2.900us       0.000us         0.00%       0.000us       0.000us           0 b           0 b      10.00 Mb      10.00 Mb            10  \n",
      "                                              aten::sub         1.22%      18.000us         1.63%      24.000us      12.000us       2.000us         0.21%       2.000us       1.000us           0 b           0 b      78.50 Kb      78.50 Kb             2  \n",
      "                                              aten::pow         1.16%      17.000us         1.56%      23.000us      23.000us       2.000us         0.21%       2.000us       2.000us           0 b           0 b      78.50 Kb      78.50 Kb             1  \n",
      "                                              aten::cat         2.31%      34.000us         3.67%      54.000us      18.000us       8.000us         0.85%       8.000us       2.667us           0 b           0 b      20.00 Kb      20.00 Kb             3  \n",
      "                                            aten::atan2         1.09%      16.000us         1.70%      25.000us      25.000us       3.000us         0.32%       3.000us       3.000us           0 b           0 b       4.00 Kb       4.00 Kb             1  \n",
      "                                              aten::cos         0.75%      11.000us         1.22%      18.000us      18.000us       2.000us         0.21%       2.000us       2.000us           0 b           0 b       4.00 Kb       4.00 Kb             1  \n",
      "                                              aten::sin         0.61%       9.000us         1.02%      15.000us      15.000us       2.000us         0.21%       2.000us       2.000us           0 b           0 b       4.00 Kb       4.00 Kb             1  \n",
      "                                             aten::mean         1.43%      21.000us         1.84%      27.000us      27.000us       5.000us         0.53%       5.000us       5.000us           0 b           0 b         512 b         512 b             1  \n",
      "                                           aten::linear         1.97%      29.000us        45.28%     666.000us      66.600us       0.000us         0.00%     846.000us      84.600us           0 b           0 b      29.59 Mb           0 b            10  \n",
      "                                                aten::t         2.86%      42.000us         5.23%      77.000us       7.700us       0.000us         0.00%       0.000us       0.000us           0 b           0 b           0 b           0 b            10  \n",
      "                                        aten::transpose         1.77%      26.000us         2.38%      35.000us       3.500us       0.000us         0.00%       0.000us       0.000us           0 b           0 b           0 b           0 b            10  \n",
      "                                       aten::as_strided         0.68%      10.000us         0.68%      10.000us       0.588us       0.000us         0.00%       0.000us       0.000us           0 b           0 b           0 b           0 b            17  \n",
      "cudaOccupancyMaxActiveBlocksPerMultiprocessorWithFla...         0.82%      12.000us         0.82%      12.000us       0.706us       0.000us         0.00%       0.000us       0.000us           0 b           0 b           0 b           0 b            17  \n",
      "                                       cudaLaunchKernel        13.73%     202.000us        13.73%     202.000us       7.214us       0.000us         0.00%       0.000us       0.000us           0 b           0 b           0 b           0 b            28  \n",
      "                                 ampere_sgemm_32x128_tn         0.00%       0.000us         0.00%       0.000us       0.000us      27.000us         2.88%      27.000us      13.500us           0 b           0 b           0 b           0 b             2  \n",
      "void at::native::vectorized_elementwise_kernel<4, at...         0.00%       0.000us         0.00%       0.000us       0.000us      67.000us         7.15%      67.000us       8.375us           0 b           0 b           0 b           0 b             8  \n",
      "                                        cudaMemsetAsync         2.65%      39.000us         2.65%      39.000us       5.571us       0.000us         0.00%       0.000us       0.000us           0 b           0 b           0 b           0 b             7  \n",
      "                                        Memset (Device)         0.00%       0.000us         0.00%       0.000us       0.000us       1.000us         0.11%       1.000us       0.143us           0 b           0 b           0 b           0 b             7  \n",
      "-------------------------------------------------------  ------------  ------------  ------------  ------------  ------------  ------------  ------------  ------------  ------------  ------------  ------------  ------------  ------------  ------------  \n",
      "Self CPU time total: 1.471ms\n",
      "Self CUDA time total: 937.000us\n",
      "\n"
     ]
    },
    {
     "name": "stderr",
     "output_type": "stream",
     "text": [
      "STAGE:2023-01-19 14:16:26 305722:305722 ActivityProfilerController.cpp:294] Completed Stage: Warm Up\n",
      "STAGE:2023-01-19 14:16:26 305722:305722 ActivityProfilerController.cpp:300] Completed Stage: Collection\n"
     ]
    }
   ],
   "source": [
    "with profile(activities=[\n",
    "        ProfilerActivity.CPU, ProfilerActivity.CUDA], record_shapes=True, profile_memory=True) as prof:\n",
    "    decoded_angles, re_encoded_points, _ = decode_1d.decode_encode_cost(decoder_net, encoder_net, fake_data_torch)\n",
    "\n",
    "print(prof.key_averages().table(sort_by=\"self_cuda_memory_usage\", row_limit=20))\n"
   ],
   "metadata": {
    "collapsed": false
   }
  },
  {
   "cell_type": "code",
   "execution_count": 11,
   "outputs": [
    {
     "name": "stdout",
     "output_type": "stream",
     "text": [
      "-------------------------------------------------------  ------------  ------------  ------------  ------------  ------------  ------------  ------------  ------------  ------------  ------------  ------------  ------------  ------------  ------------  \n",
      "                                                   Name    Self CPU %      Self CPU   CPU total %     CPU total  CPU time avg     Self CUDA   Self CUDA %    CUDA total  CUDA time avg       CPU Mem  Self CPU Mem      CUDA Mem  Self CUDA Mem    # of Calls  \n",
      "-------------------------------------------------------  ------------  ------------  ------------  ------------  ------------  ------------  ------------  ------------  ------------  ------------  ------------  ------------  ------------  ------------  \n",
      "                                             aten::tanh         0.49%      73.000us         3.84%     566.000us     141.500us     887.000us         7.55%     887.000us     221.750us           0 b           0 b     344.10 Mb     344.10 Mb             4  \n",
      "                                            aten::addmm         1.36%     200.000us         5.52%     814.000us     162.800us       9.772ms        83.21%       9.772ms       1.954ms           0 b           0 b     346.44 Mb     341.44 Mb             5  \n",
      "                                            aten::empty         5.23%     772.000us         8.50%       1.254ms      48.231us       0.000us         0.00%       0.000us       0.000us          48 b          48 b     106.93 Mb     106.93 Mb            26  \n",
      "                                              aten::sub         0.98%     145.000us         2.29%     338.000us      28.167us     219.000us         1.86%     219.000us      18.250us           0 b           0 b      59.04 Mb      59.04 Mb            12  \n",
      "                                              aten::pow         0.54%      79.000us         1.53%     226.000us      45.200us      98.000us         0.83%      98.000us      19.600us           0 b           0 b      36.12 Mb      36.12 Mb             5  \n",
      "                                              aten::min         0.38%      56.000us         0.49%      73.000us      36.500us     188.000us         1.60%     188.000us      94.000us           0 b           0 b      11.46 Mb      11.46 Mb             2  \n",
      "                                             aten::sort         0.38%      56.000us         1.08%     159.000us     159.000us      72.000us         0.61%     114.000us     114.000us           0 b           0 b      11.44 Mb      11.44 Mb             1  \n",
      "                                           aten::gather         0.83%     123.000us         1.18%     174.000us      21.750us     135.000us         1.15%     135.000us      16.875us           0 b           0 b       7.73 Mb       7.73 Mb             8  \n",
      "                                              aten::add         0.42%      62.000us         0.62%      92.000us      18.400us      16.000us         0.14%      16.000us       3.200us           0 b           0 b       3.97 Mb       3.97 Mb             5  \n",
      "                                              aten::sum         0.71%     105.000us         0.98%     145.000us      24.167us      35.000us         0.30%      35.000us       5.833us           0 b           0 b       3.90 Mb       3.90 Mb             6  \n",
      "                                             aten::sqrt         0.34%      50.000us         0.50%      74.000us      18.500us      12.000us         0.10%      12.000us       3.000us           0 b           0 b       3.90 Mb       3.90 Mb             4  \n",
      "                                              aten::cat         0.22%      32.000us         0.33%      48.000us      24.000us      14.000us         0.12%      14.000us       7.000us           0 b           0 b     313.00 Kb     313.00 Kb             2  \n",
      "                                              aten::mul         0.13%      19.000us         0.18%      27.000us      27.000us       3.000us         0.03%       3.000us       3.000us           0 b           0 b      78.50 Kb      78.50 Kb             1  \n",
      "                                              aten::cos         0.09%      14.000us         0.16%      23.000us      23.000us       2.000us         0.02%       2.000us       2.000us           0 b           0 b      78.50 Kb      78.50 Kb             1  \n",
      "                                              aten::sin         0.10%      15.000us         0.15%      22.000us      22.000us      12.000us         0.10%      12.000us      12.000us           0 b           0 b      78.50 Kb      78.50 Kb             1  \n",
      "                                          aten::resize_         0.12%      18.000us         0.12%      18.000us       6.000us       0.000us         0.00%       0.000us       0.000us           0 b           0 b      12.50 Kb      12.50 Kb             3  \n",
      "                                              aten::div         0.44%      65.000us         0.61%      90.000us      22.500us       9.000us         0.08%       9.000us       2.250us           0 b           0 b      12.00 Kb      12.00 Kb             4  \n",
      "                                    aten::empty_strided         0.12%      18.000us         0.12%      18.000us       4.500us       0.000us         0.00%       0.000us       0.000us           0 b           0 b       2.00 Kb       2.00 Kb             4  \n",
      "                                             aten::mean         0.39%      57.000us         0.53%      78.000us      19.500us      13.000us         0.11%      13.000us       3.250us           0 b           0 b       2.00 Kb       2.00 Kb             4  \n",
      "                                         aten::swapaxes         0.02%       3.000us         0.22%      32.000us      32.000us       0.000us         0.00%       0.000us       0.000us           0 b           0 b           0 b           0 b             1  \n",
      "-------------------------------------------------------  ------------  ------------  ------------  ------------  ------------  ------------  ------------  ------------  ------------  ------------  ------------  ------------  ------------  ------------  \n",
      "Self CPU time total: 14.755ms\n",
      "Self CUDA time total: 11.744ms\n",
      "\n"
     ]
    },
    {
     "name": "stderr",
     "output_type": "stream",
     "text": [
      "STAGE:2023-01-19 14:16:33 305722:305722 ActivityProfilerController.cpp:294] Completed Stage: Warm Up\n",
      "STAGE:2023-01-19 14:16:33 305722:305722 ActivityProfilerController.cpp:300] Completed Stage: Collection\n"
     ]
    }
   ],
   "source": [
    "with profile(activities=[\n",
    "        ProfilerActivity.CPU, ProfilerActivity.CUDA], record_shapes=True, profile_memory=True) as prof:\n",
    "    _ = decode_1d.distance_costs(encoder_net, re_encoded_points, decoded_angles, 20)\n",
    "\n",
    "print(prof.key_averages().table(sort_by=\"self_cuda_memory_usage\", row_limit=20))\n"
   ],
   "metadata": {
    "collapsed": false
   }
  }
 ],
 "metadata": {
  "kernelspec": {
   "display_name": "Python 3",
   "language": "python",
   "name": "python3"
  },
  "language_info": {
   "codemirror_mode": {
    "name": "ipython",
    "version": 2
   },
   "file_extension": ".py",
   "mimetype": "text/x-python",
   "name": "python",
   "nbconvert_exporter": "python",
   "pygments_lexer": "ipython2",
   "version": "2.7.6"
  }
 },
 "nbformat": 4,
 "nbformat_minor": 0
}
