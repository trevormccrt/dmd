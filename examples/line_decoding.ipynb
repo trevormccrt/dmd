{
 "cells": [
  {
   "cell_type": "code",
   "execution_count": 1,
   "metadata": {
    "collapsed": true
   },
   "outputs": [],
   "source": [
    "import os\n",
    "import sys\n",
    "import matplotlib.pyplot as plt\n",
    "import numpy as np\n",
    "import torch\n",
    "\n",
    "sys.path.append(os.path.join(os.getenv(\"HOME\"), \"RNN_Manifold/\"))\n",
    "import decode_1d, generate_1d, geometry_util"
   ]
  },
  {
   "cell_type": "code",
   "execution_count": 2,
   "outputs": [
    {
     "name": "stdout",
     "output_type": "stream",
     "text": [
      "using device cuda\n"
     ]
    }
   ],
   "source": [
    "device = torch.device('cuda' if torch.cuda.is_available() else 'cpu')\n",
    "print(\"using device {}\".format(device))"
   ],
   "metadata": {
    "collapsed": false
   }
  },
  {
   "cell_type": "code",
   "execution_count": 3,
   "outputs": [
    {
     "name": "stderr",
     "output_type": "stream",
     "text": [
      "/home/trevor/brainvenv/lib/python3.8/site-packages/torch/nn/modules/lazy.py:180: UserWarning: Lazy modules are a new feature under heavy development so changes to the API or functionality can happen at any moment.\n",
      "  warnings.warn('Lazy modules are a new feature under heavy development '\n"
     ]
    },
    {
     "name": "stdout",
     "output_type": "stream",
     "text": [
      "iteration: 0, decoding loss: 1.638447880744934, distance cost: 0.14298561215400696\n",
      "iteration: 1, decoding loss: 0.9216154217720032, distance cost: 0.05341605842113495\n",
      "iteration: 4, decoding loss: 0.7225659489631653, distance cost: 0.07306427508592606\n",
      "iteration: 14, decoding loss: 0.7016632556915283, distance cost: 0.0926901325583458\n",
      "iteration: 15, decoding loss: 0.6650179624557495, distance cost: 0.10048581659793854\n",
      "iteration: 110, decoding loss: 0.6356876492500305, distance cost: 0.10864441096782684\n",
      "iteration: 140, decoding loss: 0.6544821858406067, distance cost: 0.08720234781503677\n",
      "iteration: 142, decoding loss: 0.6592722535133362, distance cost: 0.07828514277935028\n",
      "iteration: 144, decoding loss: 0.6536336541175842, distance cost: 0.07664255052804947\n",
      "iteration: 151, decoding loss: 0.6453155279159546, distance cost: 0.078337162733078\n",
      "iteration: 157, decoding loss: 0.6269674301147461, distance cost: 0.0810437798500061\n",
      "iteration: 158, decoding loss: 0.6083099246025085, distance cost: 0.08151070028543472\n",
      "iteration: 159, decoding loss: 0.5795646905899048, distance cost: 0.08077310025691986\n",
      "iteration: 162, decoding loss: 0.55644690990448, distance cost: 0.08461067825555801\n",
      "iteration: 165, decoding loss: 0.5445178747177124, distance cost: 0.08383390307426453\n",
      "iteration: 166, decoding loss: 0.5396320223808289, distance cost: 0.07961992919445038\n",
      "iteration: 172, decoding loss: 0.5287726521492004, distance cost: 0.0862918421626091\n",
      "iteration: 246, decoding loss: 0.5316894054412842, distance cost: 0.05842261761426926\n",
      "iteration: 250, decoding loss: 0.5249856114387512, distance cost: 0.05634422227740288\n",
      "iteration: 253, decoding loss: 0.5259591341018677, distance cost: 0.05412226542830467\n",
      "iteration: 260, decoding loss: 0.5280213952064514, distance cost: 0.048841800540685654\n",
      "iteration: 264, decoding loss: 0.5206389427185059, distance cost: 0.05074895918369293\n",
      "iteration: 267, decoding loss: 0.510312557220459, distance cost: 0.04036707803606987\n",
      "iteration: 277, decoding loss: 0.5094873905181885, distance cost: 0.035407938063144684\n",
      "iteration: 280, decoding loss: 0.4944182336330414, distance cost: 0.03943585976958275\n",
      "iteration: 282, decoding loss: 0.4795738160610199, distance cost: 0.038790930062532425\n",
      "iteration: 290, decoding loss: 0.47241419553756714, distance cost: 0.036308906972408295\n",
      "iteration: 291, decoding loss: 0.4704456925392151, distance cost: 0.03359803184866905\n",
      "iteration: 296, decoding loss: 0.4670628309249878, distance cost: 0.03330903500318527\n",
      "iteration: 317, decoding loss: 0.45700228214263916, distance cost: 0.0353994145989418\n",
      "iteration: 324, decoding loss: 0.4434106647968292, distance cost: 0.04116359353065491\n",
      "iteration: 327, decoding loss: 0.4420528709888458, distance cost: 0.036811426281929016\n",
      "iteration: 329, decoding loss: 0.42565083503723145, distance cost: 0.04147711396217346\n",
      "iteration: 331, decoding loss: 0.422077476978302, distance cost: 0.040293414145708084\n",
      "iteration: 332, decoding loss: 0.39843544363975525, distance cost: 0.03831181675195694\n",
      "iteration: 336, decoding loss: 0.39754384756088257, distance cost: 0.03678976744413376\n",
      "iteration: 355, decoding loss: 0.38307034969329834, distance cost: 0.041807517409324646\n",
      "iteration: 357, decoding loss: 0.37026888132095337, distance cost: 0.04572705924510956\n",
      "iteration: 358, decoding loss: 0.3690274953842163, distance cost: 0.043065641075372696\n",
      "iteration: 365, decoding loss: 0.35436683893203735, distance cost: 0.045731086283922195\n",
      "iteration: 367, decoding loss: 0.33781003952026367, distance cost: 0.046550408005714417\n",
      "iteration: 368, decoding loss: 0.32489728927612305, distance cost: 0.04164988920092583\n",
      "iteration: 369, decoding loss: 0.32481756806373596, distance cost: 0.04119996353983879\n",
      "iteration: 370, decoding loss: 0.3219369053840637, distance cost: 0.04152583330869675\n",
      "iteration: 371, decoding loss: 0.3121371567249298, distance cost: 0.041141003370285034\n",
      "iteration: 382, decoding loss: 0.3039547801017761, distance cost: 0.048383768647909164\n",
      "iteration: 383, decoding loss: 0.2914736568927765, distance cost: 0.047580786049366\n",
      "iteration: 384, decoding loss: 0.29143720865249634, distance cost: 0.04378565400838852\n",
      "iteration: 385, decoding loss: 0.28975582122802734, distance cost: 0.041406210511922836\n",
      "iteration: 387, decoding loss: 0.2838989496231079, distance cost: 0.04318924993276596\n",
      "iteration: 689, decoding loss: 0.31618815660476685, distance cost: 0.010442522354424\n",
      "iteration: 779, decoding loss: 0.31078779697418213, distance cost: 0.010821512900292873\n",
      "iteration: 782, decoding loss: 0.3085722327232361, distance cost: 0.010848398320376873\n",
      "iteration: 851, decoding loss: 0.30557194352149963, distance cost: 0.013000489212572575\n",
      "iteration: 852, decoding loss: 0.29565784335136414, distance cost: 0.010819603689014912\n",
      "iteration: 860, decoding loss: 0.2809949219226837, distance cost: 0.013083212077617645\n",
      "iteration: 865, decoding loss: 0.27901625633239746, distance cost: 0.011911610141396523\n",
      "iteration: 867, decoding loss: 0.27661406993865967, distance cost: 0.012073374353349209\n",
      "iteration: 872, decoding loss: 0.274230420589447, distance cost: 0.013187207281589508\n",
      "iteration: 875, decoding loss: 0.2706683576107025, distance cost: 0.013476216234266758\n",
      "iteration: 876, decoding loss: 0.26121199131011963, distance cost: 0.012695476412773132\n",
      "iteration: 884, decoding loss: 0.2568837106227875, distance cost: 0.012312107719480991\n",
      "iteration: 889, decoding loss: 0.2555030584335327, distance cost: 0.011991169303655624\n",
      "iteration: 890, decoding loss: 0.25301727652549744, distance cost: 0.0111092459410429\n",
      "iteration: 987, decoding loss: 0.254313200712204, distance cost: 0.00980287790298462\n",
      "iteration: 989, decoding loss: 0.24980783462524414, distance cost: 0.00891741644591093\n",
      "iteration: 991, decoding loss: 0.24394656717777252, distance cost: 0.010949096642434597\n",
      "iteration: 993, decoding loss: 0.2416866570711136, distance cost: 0.010425743646919727\n",
      "iteration: 996, decoding loss: 0.24094872176647186, distance cost: 0.010555699467658997\n",
      "iteration: 999, decoding loss: 0.23369497060775757, distance cost: 0.010642546229064465\n",
      "iteration: 1000, decoding loss: 0.23045210540294647, distance cost: 0.010568499565124512\n",
      "iteration: 1001, decoding loss: 0.22890250384807587, distance cost: 0.010297299362719059\n",
      "iteration: 1003, decoding loss: 0.21788248419761658, distance cost: 0.009733669459819794\n",
      "iteration: 1004, decoding loss: 0.21596397459506989, distance cost: 0.011596094816923141\n",
      "iteration: 1008, decoding loss: 0.21596063673496246, distance cost: 0.010722064413130283\n",
      "iteration: 1009, decoding loss: 0.21011701226234436, distance cost: 0.011491750366985798\n",
      "iteration: 1010, decoding loss: 0.20714637637138367, distance cost: 0.011443317867815495\n",
      "iteration: 1012, decoding loss: 0.20560044050216675, distance cost: 0.011590673588216305\n",
      "iteration: 1013, decoding loss: 0.20132403075695038, distance cost: 0.012233136221766472\n",
      "iteration: 1015, decoding loss: 0.1991935670375824, distance cost: 0.011519737541675568\n",
      "iteration: 1016, decoding loss: 0.19820624589920044, distance cost: 0.011825106106698513\n",
      "iteration: 1018, decoding loss: 0.19532114267349243, distance cost: 0.011289260350167751\n",
      "iteration: 1019, decoding loss: 0.18848930299282074, distance cost: 0.012872539460659027\n",
      "iteration: 1021, decoding loss: 0.18201015889644623, distance cost: 0.012579016387462616\n",
      "iteration: 1022, decoding loss: 0.17865225672721863, distance cost: 0.010803325101733208\n",
      "iteration: 1025, decoding loss: 0.17868080735206604, distance cost: 0.010586348362267017\n",
      "iteration: 1028, decoding loss: 0.17237550020217896, distance cost: 0.01210083905607462\n",
      "iteration: 1032, decoding loss: 0.16911490261554718, distance cost: 0.012738427147269249\n",
      "iteration: 1142, decoding loss: 0.16733424365520477, distance cost: 0.013470110483467579\n",
      "iteration: 1144, decoding loss: 0.15989840030670166, distance cost: 0.014601735398173332\n",
      "iteration: 1148, decoding loss: 0.15615993738174438, distance cost: 0.013980093412101269\n",
      "iteration: 1150, decoding loss: 0.15321508049964905, distance cost: 0.01490108948200941\n",
      "iteration: 1151, decoding loss: 0.15067093074321747, distance cost: 0.013864138163626194\n",
      "iteration: 1153, decoding loss: 0.14446085691452026, distance cost: 0.012872383929789066\n",
      "iteration: 1159, decoding loss: 0.135959193110466, distance cost: 0.01345419604331255\n",
      "iteration: 1161, decoding loss: 0.12984809279441833, distance cost: 0.013690256513655186\n",
      "iteration: 1162, decoding loss: 0.12756676971912384, distance cost: 0.013821256347000599\n",
      "iteration: 1166, decoding loss: 0.1288413107395172, distance cost: 0.012075982056558132\n",
      "iteration: 1168, decoding loss: 0.12048294395208359, distance cost: 0.014230324886739254\n",
      "iteration: 1316, decoding loss: 0.12365030497312546, distance cost: 0.008404108695685863\n",
      "iteration: 1317, decoding loss: 0.1190822646021843, distance cost: 0.009150204248726368\n",
      "iteration: 1319, decoding loss: 0.11581592261791229, distance cost: 0.008642731234431267\n",
      "iteration: 1322, decoding loss: 0.11129617691040039, distance cost: 0.008484222926199436\n",
      "iteration: 1323, decoding loss: 0.11138691753149033, distance cost: 0.008215585723519325\n",
      "iteration: 1325, decoding loss: 0.10926894098520279, distance cost: 0.008200584910809994\n",
      "iteration: 1328, decoding loss: 0.10684305429458618, distance cost: 0.008529908023774624\n",
      "iteration: 1332, decoding loss: 0.10628462582826614, distance cost: 0.008196184411644936\n",
      "iteration: 1333, decoding loss: 0.09849506616592407, distance cost: 0.008232880383729935\n",
      "iteration: 1334, decoding loss: 0.0925259068608284, distance cost: 0.007948603481054306\n",
      "iteration: 1344, decoding loss: 0.08918113261461258, distance cost: 0.007733332924544811\n",
      "iteration: 1346, decoding loss: 0.08524422347545624, distance cost: 0.007749938406050205\n",
      "iteration: 1631, decoding loss: 0.08470026403665543, distance cost: 0.0072602760046720505\n",
      "iteration: 1653, decoding loss: 0.08392764627933502, distance cost: 0.00523834815248847\n",
      "iteration: 1746, decoding loss: 0.08087646961212158, distance cost: 0.005949116311967373\n",
      "iteration: 1748, decoding loss: 0.07879948616027832, distance cost: 0.005930759944021702\n",
      "iteration: 1750, decoding loss: 0.07730208337306976, distance cost: 0.007021103519946337\n",
      "iteration: 1751, decoding loss: 0.07627663761377335, distance cost: 0.006631370633840561\n",
      "iteration: 1756, decoding loss: 0.07568340748548508, distance cost: 0.005548885557800531\n",
      "iteration: 1758, decoding loss: 0.07345231622457504, distance cost: 0.005717338528484106\n",
      "iteration: 1761, decoding loss: 0.07346907258033752, distance cost: 0.005196015350520611\n",
      "iteration: 1765, decoding loss: 0.07167718559503555, distance cost: 0.005132533609867096\n",
      "iteration: 1766, decoding loss: 0.0698893591761589, distance cost: 0.006323212757706642\n",
      "iteration: 1929, decoding loss: 0.0677105262875557, distance cost: 0.005891883745789528\n",
      "iteration: 1932, decoding loss: 0.06444145739078522, distance cost: 0.00629531079903245\n",
      "iteration: 1935, decoding loss: 0.06461963057518005, distance cost: 0.005930355750024319\n",
      "iteration: 1936, decoding loss: 0.06482142210006714, distance cost: 0.005541997961699963\n",
      "iteration: 1939, decoding loss: 0.06315014511346817, distance cost: 0.005133778788149357\n",
      "iteration: 1940, decoding loss: 0.06153929606080055, distance cost: 0.005584161262959242\n",
      "iteration: 2385, decoding loss: 0.06079355254769325, distance cost: 0.00586720323190093\n",
      "iteration: 2386, decoding loss: 0.05991891771554947, distance cost: 0.005365272052586079\n",
      "iteration: 2387, decoding loss: 0.05922497436404228, distance cost: 0.005790431518107653\n",
      "iteration: 2389, decoding loss: 0.05865701287984848, distance cost: 0.006141825579106808\n",
      "iteration: 2390, decoding loss: 0.05757780745625496, distance cost: 0.0058278897777199745\n",
      "iteration: 2391, decoding loss: 0.05633356422185898, distance cost: 0.006301113869994879\n",
      "iteration: 2397, decoding loss: 0.056164056062698364, distance cost: 0.006457822397351265\n",
      "iteration: 2399, decoding loss: 0.052459485828876495, distance cost: 0.005981514696031809\n"
     ]
    }
   ],
   "source": [
    "encoder_2d, decoder_2d, _ = generate_1d.train(0, 1, 2, device, n_training_iterations=7000)"
   ],
   "metadata": {
    "collapsed": false
   }
  },
  {
   "cell_type": "code",
   "execution_count": 4,
   "outputs": [],
   "source": [
    "phases = np.arange(start=-np.pi, stop=np.pi, step=0.01)\n",
    "phases_torch = torch.tensor(np.expand_dims(phases, -1), dtype=torch.get_default_dtype()).to(device)\n",
    "with torch.no_grad():\n",
    "    test_embedding_2d = encoder_2d(phases_torch)\n",
    "test_embedding_2d = test_embedding_2d.cpu().numpy()"
   ],
   "metadata": {
    "collapsed": false
   }
  },
  {
   "cell_type": "code",
   "execution_count": 5,
   "outputs": [
    {
     "data": {
      "text/plain": "<Figure size 640x480 with 1 Axes>",
      "image/png": "[encoded data removed]"
     },
     "metadata": {},
     "output_type": "display_data"
    }
   ],
   "source": [
    "fig, axs = plt.subplots()\n",
    "axs.scatter(test_embedding_2d[:, 0], test_embedding_2d[:, 1], cmap=\"hsv\", c=phases)\n",
    "plt.show()\n"
   ],
   "metadata": {
    "collapsed": false
   }
  },
  {
   "cell_type": "code",
   "execution_count": 6,
   "outputs": [],
   "source": [
    "import importlib\n",
    "importlib.reload(generate_1d)\n",
    "with torch.no_grad():\n",
    "    _, pred_phases, _ = generate_1d.encode_decode_cost(encoder_2d, decoder_2d, phases_torch)\n",
    "pred_phases = pred_phases.cpu().numpy()"
   ],
   "metadata": {
    "collapsed": false
   }
  },
  {
   "cell_type": "code",
   "execution_count": 7,
   "outputs": [
    {
     "data": {
      "text/plain": "<matplotlib.collections.PathCollection at 0x7f9627022c70>"
     },
     "execution_count": 7,
     "metadata": {},
     "output_type": "execute_result"
    },
    {
     "data": {
      "text/plain": "<Figure size 640x480 with 1 Axes>",
      "image/png": "[encoded data removed]"
     },
     "metadata": {},
     "output_type": "display_data"
    }
   ],
   "source": [
    "%matplotlib inline\n",
    "fig, axs = plt.subplots()\n",
    "axs.scatter(phases, pred_phases)"
   ],
   "metadata": {
    "collapsed": false
   }
  },
  {
   "cell_type": "code",
   "execution_count": 8,
   "outputs": [
    {
     "name": "stdout",
     "output_type": "stream",
     "text": [
      "iteration: 0, decoding loss: 1.7482702732086182, distance cost: 0.06908190995454788\n",
      "iteration: 1, decoding loss: 1.1444257497787476, distance cost: 0.0857149213552475\n",
      "iteration: 2, decoding loss: 0.9408801198005676, distance cost: 0.15465888381004333\n",
      "iteration: 3, decoding loss: 0.8725982904434204, distance cost: 0.1761464923620224\n",
      "iteration: 6, decoding loss: 0.7787365317344666, distance cost: 0.22962962090969086\n",
      "iteration: 7, decoding loss: 0.7571316361427307, distance cost: 0.2373473048210144\n",
      "iteration: 97, decoding loss: 0.9422380924224854, distance cost: 0.04853959009051323\n",
      "iteration: 100, decoding loss: 0.9286864399909973, distance cost: 0.05257521942257881\n",
      "iteration: 101, decoding loss: 0.9171245694160461, distance cost: 0.047476716339588165\n",
      "iteration: 102, decoding loss: 0.9013851284980774, distance cost: 0.05250723287463188\n",
      "iteration: 103, decoding loss: 0.8960520625114441, distance cost: 0.04636155441403389\n",
      "iteration: 104, decoding loss: 0.8569048047065735, distance cost: 0.04685348644852638\n",
      "iteration: 105, decoding loss: 0.8472768664360046, distance cost: 0.04611377790570259\n",
      "iteration: 107, decoding loss: 0.8444402813911438, distance cost: 0.04529320076107979\n",
      "iteration: 108, decoding loss: 0.819292426109314, distance cost: 0.04194779694080353\n",
      "iteration: 111, decoding loss: 0.8229472637176514, distance cost: 0.03731602057814598\n",
      "iteration: 112, decoding loss: 0.7932140827178955, distance cost: 0.03648736700415611\n",
      "iteration: 116, decoding loss: 0.7861133813858032, distance cost: 0.03308171406388283\n",
      "iteration: 118, decoding loss: 0.7851483821868896, distance cost: 0.02893948368728161\n",
      "iteration: 124, decoding loss: 0.7686106562614441, distance cost: 0.02415665239095688\n",
      "iteration: 197, decoding loss: 0.7457873821258545, distance cost: 0.03540512174367905\n",
      "iteration: 204, decoding loss: 0.7375390529632568, distance cost: 0.038980867713689804\n",
      "iteration: 207, decoding loss: 0.7169431447982788, distance cost: 0.04169793054461479\n",
      "iteration: 211, decoding loss: 0.7021496295928955, distance cost: 0.03836176544427872\n",
      "iteration: 216, decoding loss: 0.6916646361351013, distance cost: 0.04120070859789848\n",
      "iteration: 218, decoding loss: 0.6918309330940247, distance cost: 0.0405353344976902\n",
      "iteration: 221, decoding loss: 0.6727266311645508, distance cost: 0.037950512021780014\n",
      "iteration: 249, decoding loss: 0.6394966244697571, distance cost: 0.0497145876288414\n",
      "iteration: 254, decoding loss: 0.6431512832641602, distance cost: 0.046055618673563004\n",
      "iteration: 256, decoding loss: 0.6393349170684814, distance cost: 0.049264807254076004\n",
      "iteration: 257, decoding loss: 0.6391666531562805, distance cost: 0.0433279424905777\n",
      "iteration: 268, decoding loss: 0.6218476891517639, distance cost: 0.03889891132712364\n",
      "iteration: 295, decoding loss: 0.5928257703781128, distance cost: 0.037648674100637436\n",
      "iteration: 305, decoding loss: 0.5867964029312134, distance cost: 0.033609628677368164\n",
      "iteration: 307, decoding loss: 0.5820078253746033, distance cost: 0.030053770169615746\n",
      "iteration: 308, decoding loss: 0.573184609413147, distance cost: 0.03610711544752121\n",
      "iteration: 310, decoding loss: 0.5547302961349487, distance cost: 0.029870960861444473\n",
      "iteration: 318, decoding loss: 0.5527967214584351, distance cost: 0.028242750093340874\n",
      "iteration: 323, decoding loss: 0.5354567170143127, distance cost: 0.02488071098923683\n",
      "iteration: 326, decoding loss: 0.521956205368042, distance cost: 0.023695260286331177\n",
      "iteration: 328, decoding loss: 0.5196981430053711, distance cost: 0.023061996325850487\n",
      "iteration: 330, decoding loss: 0.5113164782524109, distance cost: 0.02290312759578228\n",
      "iteration: 334, decoding loss: 0.4870130717754364, distance cost: 0.020334703847765923\n",
      "iteration: 341, decoding loss: 0.48970022797584534, distance cost: 0.015141347423195839\n",
      "iteration: 342, decoding loss: 0.45837751030921936, distance cost: 0.017371434718370438\n",
      "iteration: 348, decoding loss: 0.4527030289173126, distance cost: 0.015658656135201454\n",
      "iteration: 350, decoding loss: 0.4504920244216919, distance cost: 0.01628570631146431\n",
      "iteration: 351, decoding loss: 0.4425436854362488, distance cost: 0.015437882393598557\n",
      "iteration: 352, decoding loss: 0.425445020198822, distance cost: 0.013710803352296352\n",
      "iteration: 360, decoding loss: 0.42608192563056946, distance cost: 0.013073866255581379\n",
      "iteration: 361, decoding loss: 0.412221223115921, distance cost: 0.01235851738601923\n",
      "iteration: 366, decoding loss: 0.39617687463760376, distance cost: 0.01346693467348814\n",
      "iteration: 378, decoding loss: 0.3817107677459717, distance cost: 0.019530747085809708\n",
      "iteration: 382, decoding loss: 0.37588009238243103, distance cost: 0.020666299387812614\n",
      "iteration: 383, decoding loss: 0.364067941904068, distance cost: 0.0191357284784317\n",
      "iteration: 386, decoding loss: 0.3491837978363037, distance cost: 0.0224661435931921\n",
      "iteration: 388, decoding loss: 0.33754682540893555, distance cost: 0.02368602715432644\n",
      "iteration: 415, decoding loss: 0.32032737135887146, distance cost: 0.03692059591412544\n",
      "iteration: 416, decoding loss: 0.3240325450897217, distance cost: 0.03307897970080376\n",
      "iteration: 453, decoding loss: 0.3313041031360626, distance cost: 0.023774728178977966\n",
      "iteration: 454, decoding loss: 0.2955036163330078, distance cost: 0.01975732110440731\n",
      "iteration: 456, decoding loss: 0.2906597852706909, distance cost: 0.02425929345190525\n",
      "iteration: 457, decoding loss: 0.28654444217681885, distance cost: 0.023878982290625572\n",
      "iteration: 506, decoding loss: 0.29297083616256714, distance cost: 0.010150955989956856\n",
      "iteration: 508, decoding loss: 0.2902064025402069, distance cost: 0.00974222831428051\n",
      "iteration: 511, decoding loss: 0.2863224744796753, distance cost: 0.010037372820079327\n",
      "iteration: 568, decoding loss: 0.27866601943969727, distance cost: 0.014208762906491756\n",
      "iteration: 569, decoding loss: 0.2749473750591278, distance cost: 0.013768988661468029\n",
      "iteration: 570, decoding loss: 0.2735781967639923, distance cost: 0.014454467222094536\n",
      "iteration: 571, decoding loss: 0.26903849840164185, distance cost: 0.014640305191278458\n",
      "iteration: 572, decoding loss: 0.2628457248210907, distance cost: 0.015576616860926151\n",
      "iteration: 573, decoding loss: 0.25211527943611145, distance cost: 0.0142595199868083\n",
      "iteration: 574, decoding loss: 0.24847298860549927, distance cost: 0.013687064871191978\n",
      "iteration: 578, decoding loss: 0.2472059577703476, distance cost: 0.014290248043835163\n",
      "iteration: 705, decoding loss: 0.23550748825073242, distance cost: 0.01242432463914156\n",
      "iteration: 711, decoding loss: 0.2285827398300171, distance cost: 0.01129776518791914\n",
      "iteration: 714, decoding loss: 0.22695907950401306, distance cost: 0.0112988892942667\n",
      "iteration: 727, decoding loss: 0.22662873566150665, distance cost: 0.008017828688025475\n",
      "iteration: 770, decoding loss: 0.21869666874408722, distance cost: 0.00655275397002697\n",
      "iteration: 771, decoding loss: 0.2138778120279312, distance cost: 0.006475947797298431\n",
      "iteration: 774, decoding loss: 0.21320371329784393, distance cost: 0.0058245668187737465\n",
      "iteration: 775, decoding loss: 0.20864178240299225, distance cost: 0.006410715635865927\n",
      "iteration: 776, decoding loss: 0.20184703171253204, distance cost: 0.006799912545830011\n",
      "iteration: 778, decoding loss: 0.1997099071741104, distance cost: 0.006355436984449625\n",
      "iteration: 779, decoding loss: 0.19919240474700928, distance cost: 0.006158835254609585\n",
      "iteration: 780, decoding loss: 0.197867289185524, distance cost: 0.0054100449196994305\n",
      "iteration: 782, decoding loss: 0.18390274047851562, distance cost: 0.006720216479152441\n",
      "iteration: 784, decoding loss: 0.18056268990039825, distance cost: 0.006330855190753937\n",
      "iteration: 786, decoding loss: 0.17793631553649902, distance cost: 0.006454060785472393\n",
      "iteration: 788, decoding loss: 0.17648491263389587, distance cost: 0.006211313419044018\n",
      "iteration: 789, decoding loss: 0.17079778015613556, distance cost: 0.00673864409327507\n",
      "iteration: 790, decoding loss: 0.1622106432914734, distance cost: 0.005403807852417231\n",
      "iteration: 880, decoding loss: 0.1563880741596222, distance cost: 0.007143287919461727\n",
      "iteration: 881, decoding loss: 0.15580442547798157, distance cost: 0.006444540806114674\n",
      "iteration: 882, decoding loss: 0.15139710903167725, distance cost: 0.0070313261821866035\n",
      "iteration: 884, decoding loss: 0.1439324915409088, distance cost: 0.007427511736750603\n",
      "iteration: 1009, decoding loss: 0.14106214046478271, distance cost: 0.010014156810939312\n",
      "iteration: 1010, decoding loss: 0.1381206065416336, distance cost: 0.01033850573003292\n",
      "iteration: 1016, decoding loss: 0.1387377828359604, distance cost: 0.009678780101239681\n",
      "iteration: 1017, decoding loss: 0.13695122301578522, distance cost: 0.009664411656558514\n",
      "iteration: 1018, decoding loss: 0.13563717901706696, distance cost: 0.010562077164649963\n",
      "iteration: 1019, decoding loss: 0.13160766661167145, distance cost: 0.009127102792263031\n",
      "iteration: 1250, decoding loss: 0.12900228798389435, distance cost: 0.010241782292723656\n",
      "iteration: 1255, decoding loss: 0.12402414530515671, distance cost: 0.009411676786839962\n",
      "iteration: 1256, decoding loss: 0.120193712413311, distance cost: 0.00930869672447443\n",
      "iteration: 1259, decoding loss: 0.1194763258099556, distance cost: 0.009546616114675999\n",
      "iteration: 1262, decoding loss: 0.11783991008996964, distance cost: 0.00986411701887846\n",
      "iteration: 1264, decoding loss: 0.11822543293237686, distance cost: 0.009091787971556187\n",
      "iteration: 1268, decoding loss: 0.11780155450105667, distance cost: 0.008909638971090317\n",
      "iteration: 1282, decoding loss: 0.11151556670665741, distance cost: 0.008271867409348488\n",
      "iteration: 1367, decoding loss: 0.10913864523172379, distance cost: 0.006116204895079136\n",
      "iteration: 1368, decoding loss: 0.10756854712963104, distance cost: 0.005670035723596811\n",
      "iteration: 1369, decoding loss: 0.10375946015119553, distance cost: 0.005918992683291435\n",
      "iteration: 1372, decoding loss: 0.10169202089309692, distance cost: 0.0054503739811480045\n",
      "iteration: 1375, decoding loss: 0.1012938916683197, distance cost: 0.005383120384067297\n",
      "iteration: 1377, decoding loss: 0.09815706312656403, distance cost: 0.004879399668425322\n",
      "iteration: 1378, decoding loss: 0.09447020292282104, distance cost: 0.006262616720050573\n",
      "iteration: 1379, decoding loss: 0.09160532057285309, distance cost: 0.006318420637398958\n",
      "iteration: 1382, decoding loss: 0.08912007510662079, distance cost: 0.006551049649715424\n",
      "iteration: 1383, decoding loss: 0.08691265434026718, distance cost: 0.006356137804687023\n",
      "iteration: 1386, decoding loss: 0.08596085757017136, distance cost: 0.006220473442226648\n",
      "iteration: 1387, decoding loss: 0.08299167454242706, distance cost: 0.0053992909379303455\n",
      "iteration: 1388, decoding loss: 0.07947435230016708, distance cost: 0.0060494570061564445\n",
      "iteration: 1392, decoding loss: 0.07122499495744705, distance cost: 0.00618297653272748\n",
      "iteration: 2473, decoding loss: 0.07084860652685165, distance cost: 0.003633551299571991\n"
     ]
    }
   ],
   "source": [
    "encoder_3d, decoder_3d, _ = generate_1d.train(0, 1, 3, device, n_training_iterations=5000)\n"
   ],
   "metadata": {
    "collapsed": false
   }
  },
  {
   "cell_type": "code",
   "execution_count": 9,
   "outputs": [],
   "source": [
    "with torch.no_grad():\n",
    "    test_embedding_3d = encoder_3d(phases_torch)\n",
    "test_embedding_3d = test_embedding_3d.cpu().numpy()"
   ],
   "metadata": {
    "collapsed": false
   }
  },
  {
   "cell_type": "code",
   "execution_count": 10,
   "outputs": [],
   "source": [
    "%matplotlib tk\n",
    "proj_fig = plt.figure()\n",
    "proj_axs = proj_fig.add_subplot(projection=\"3d\")\n",
    "proj_axs.scatter(test_embedding_3d[:, 0], test_embedding_3d[:, 1], test_embedding_3d[:, 2], cmap=\"hsv\", c=phases)\n",
    "plt.show()\n"
   ],
   "metadata": {
    "collapsed": false
   }
  },
  {
   "cell_type": "code",
   "execution_count": 12,
   "outputs": [
    {
     "name": "stdout",
     "output_type": "stream",
     "text": [
      "iteration: 0, decoding loss: 1.5026379823684692, distance cost: 0.04319822043180466\n",
      "iteration: 1, decoding loss: 0.8400673270225525, distance cost: 0.010207310318946838\n",
      "iteration: 4, decoding loss: 0.760263204574585, distance cost: 0.05827176570892334\n",
      "iteration: 111, decoding loss: 0.7774231433868408, distance cost: 0.015370788984000683\n",
      "iteration: 117, decoding loss: 0.7717031240463257, distance cost: 0.014128788374364376\n",
      "iteration: 166, decoding loss: 0.7655648589134216, distance cost: 0.012829178012907505\n",
      "iteration: 167, decoding loss: 0.7469984292984009, distance cost: 0.012377060949802399\n",
      "iteration: 168, decoding loss: 0.7345384955406189, distance cost: 0.013775864616036415\n",
      "iteration: 169, decoding loss: 0.7089818716049194, distance cost: 0.014876555651426315\n",
      "iteration: 175, decoding loss: 0.681117594242096, distance cost: 0.016463028267025948\n",
      "iteration: 179, decoding loss: 0.6685774326324463, distance cost: 0.02208329550921917\n",
      "iteration: 183, decoding loss: 0.6608670949935913, distance cost: 0.019806131720542908\n",
      "iteration: 184, decoding loss: 0.6287316083908081, distance cost: 0.021701516583561897\n",
      "iteration: 193, decoding loss: 0.6158857941627502, distance cost: 0.02984694018959999\n",
      "iteration: 194, decoding loss: 0.6093997955322266, distance cost: 0.03231457993388176\n",
      "iteration: 205, decoding loss: 0.6002287864685059, distance cost: 0.03726144880056381\n",
      "iteration: 218, decoding loss: 0.5928651690483093, distance cost: 0.04424673691391945\n",
      "iteration: 222, decoding loss: 0.5661884546279907, distance cost: 0.05623094365000725\n",
      "iteration: 226, decoding loss: 0.5679582953453064, distance cost: 0.04611295834183693\n",
      "iteration: 229, decoding loss: 0.5617278218269348, distance cost: 0.04941160976886749\n",
      "iteration: 230, decoding loss: 0.5363317728042603, distance cost: 0.05012865364551544\n",
      "iteration: 234, decoding loss: 0.520235002040863, distance cost: 0.0480080284178257\n",
      "iteration: 239, decoding loss: 0.5056122541427612, distance cost: 0.04593073949217796\n",
      "iteration: 240, decoding loss: 0.5053574442863464, distance cost: 0.04219071939587593\n",
      "iteration: 269, decoding loss: 0.5162429213523865, distance cost: 0.029875054955482483\n",
      "iteration: 284, decoding loss: 0.5143147706985474, distance cost: 0.029489239677786827\n",
      "iteration: 286, decoding loss: 0.5213875770568848, distance cost: 0.021831544116139412\n",
      "iteration: 289, decoding loss: 0.510710597038269, distance cost: 0.023446638137102127\n",
      "iteration: 293, decoding loss: 0.4926179051399231, distance cost: 0.021346786990761757\n",
      "iteration: 300, decoding loss: 0.4769847095012665, distance cost: 0.021515699103474617\n",
      "iteration: 311, decoding loss: 0.4736398160457611, distance cost: 0.017797579988837242\n",
      "iteration: 312, decoding loss: 0.46728795766830444, distance cost: 0.017309607937932014\n",
      "iteration: 314, decoding loss: 0.4577352702617645, distance cost: 0.018837615847587585\n",
      "iteration: 316, decoding loss: 0.43873727321624756, distance cost: 0.01874568685889244\n",
      "iteration: 323, decoding loss: 0.42030036449432373, distance cost: 0.017357025295495987\n",
      "iteration: 324, decoding loss: 0.4196934998035431, distance cost: 0.01642831414937973\n",
      "iteration: 326, decoding loss: 0.3981272578239441, distance cost: 0.015423188917338848\n",
      "iteration: 331, decoding loss: 0.3837948143482208, distance cost: 0.016060160472989082\n",
      "iteration: 333, decoding loss: 0.38371333479881287, distance cost: 0.015471394173800945\n",
      "iteration: 336, decoding loss: 0.37916913628578186, distance cost: 0.014731778763234615\n",
      "iteration: 346, decoding loss: 0.38067448139190674, distance cost: 0.011870583519339561\n",
      "iteration: 348, decoding loss: 0.3796762228012085, distance cost: 0.011614183895289898\n",
      "iteration: 350, decoding loss: 0.3786206841468811, distance cost: 0.011136147193610668\n",
      "iteration: 351, decoding loss: 0.37783101201057434, distance cost: 0.011668030172586441\n",
      "iteration: 352, decoding loss: 0.360394150018692, distance cost: 0.011714961379766464\n",
      "iteration: 354, decoding loss: 0.3493179678916931, distance cost: 0.0111843915656209\n",
      "iteration: 358, decoding loss: 0.34729036688804626, distance cost: 0.011498880572617054\n",
      "iteration: 359, decoding loss: 0.3445139229297638, distance cost: 0.01000790111720562\n",
      "iteration: 366, decoding loss: 0.3447270691394806, distance cost: 0.008728660643100739\n",
      "iteration: 368, decoding loss: 0.3421679139137268, distance cost: 0.010128369554877281\n",
      "iteration: 370, decoding loss: 0.32464098930358887, distance cost: 0.010324999690055847\n",
      "iteration: 394, decoding loss: 0.31768500804901123, distance cost: 0.011382832191884518\n",
      "iteration: 396, decoding loss: 0.30610981583595276, distance cost: 0.01105431281030178\n",
      "iteration: 398, decoding loss: 0.29823005199432373, distance cost: 0.010744891129434109\n",
      "iteration: 409, decoding loss: 0.2867993414402008, distance cost: 0.013268353417515755\n",
      "iteration: 410, decoding loss: 0.2841695547103882, distance cost: 0.014915219508111477\n",
      "iteration: 448, decoding loss: 0.2618604600429535, distance cost: 0.022627102211117744\n",
      "iteration: 450, decoding loss: 0.24254298210144043, distance cost: 0.023492421954870224\n",
      "iteration: 451, decoding loss: 0.2374185025691986, distance cost: 0.025180790573358536\n",
      "iteration: 452, decoding loss: 0.21734946966171265, distance cost: 0.02506214752793312\n",
      "iteration: 453, decoding loss: 0.20789214968681335, distance cost: 0.026029648259282112\n",
      "iteration: 454, decoding loss: 0.20805589854717255, distance cost: 0.02382122166454792\n",
      "iteration: 1467, decoding loss: 0.20696035027503967, distance cost: 0.024073736742138863\n",
      "iteration: 1468, decoding loss: 0.20463693141937256, distance cost: 0.023157555609941483\n",
      "iteration: 1470, decoding loss: 0.1974244862794876, distance cost: 0.024235546588897705\n",
      "iteration: 1471, decoding loss: 0.18905138969421387, distance cost: 0.022526921704411507\n",
      "iteration: 1473, decoding loss: 0.18258127570152283, distance cost: 0.022481298074126244\n",
      "iteration: 1476, decoding loss: 0.17665839195251465, distance cost: 0.023420853540301323\n",
      "iteration: 1477, decoding loss: 0.1657869964838028, distance cost: 0.024622762575745583\n",
      "iteration: 1487, decoding loss: 0.16306035220623016, distance cost: 0.025334374979138374\n",
      "iteration: 1490, decoding loss: 0.16251739859580994, distance cost: 0.02225150540471077\n",
      "iteration: 1496, decoding loss: 0.15201584994792938, distance cost: 0.02404550276696682\n",
      "iteration: 1499, decoding loss: 0.15255771577358246, distance cost: 0.022951588034629822\n",
      "iteration: 1503, decoding loss: 0.14878632128238678, distance cost: 0.024812981486320496\n",
      "iteration: 1506, decoding loss: 0.1401151865720749, distance cost: 0.021464452147483826\n",
      "iteration: 1508, decoding loss: 0.13481715321540833, distance cost: 0.02127266488969326\n",
      "iteration: 1633, decoding loss: 0.12250365316867828, distance cost: 0.033092234283685684\n",
      "iteration: 1634, decoding loss: 0.1180582195520401, distance cost: 0.031084168702363968\n",
      "iteration: 2117, decoding loss: 0.11723753064870834, distance cost: 0.028902847319841385\n",
      "iteration: 2299, decoding loss: 0.12415824085474014, distance cost: 0.0160713791847229\n",
      "iteration: 2939, decoding loss: 0.1328437179327011, distance cost: 0.006880233995616436\n",
      "iteration: 2944, decoding loss: 0.1283406764268875, distance cost: 0.00724855437874794\n",
      "iteration: 2954, decoding loss: 0.12738840281963348, distance cost: 0.007483887951821089\n",
      "iteration: 2958, decoding loss: 0.12553071975708008, distance cost: 0.007479303516447544\n",
      "iteration: 2963, decoding loss: 0.12356455624103546, distance cost: 0.007157790008932352\n",
      "iteration: 2966, decoding loss: 0.12011859565973282, distance cost: 0.007760143838822842\n",
      "iteration: 3116, decoding loss: 0.11750835180282593, distance cost: 0.005678145680576563\n",
      "iteration: 3119, decoding loss: 0.11572311073541641, distance cost: 0.005309117957949638\n",
      "iteration: 3126, decoding loss: 0.11320412158966064, distance cost: 0.005942102521657944\n",
      "iteration: 3140, decoding loss: 0.11232239007949829, distance cost: 0.005373574327677488\n",
      "iteration: 3146, decoding loss: 0.10927169024944305, distance cost: 0.005777451209723949\n",
      "iteration: 3149, decoding loss: 0.10828212648630142, distance cost: 0.006608038675040007\n",
      "iteration: 3163, decoding loss: 0.1087416410446167, distance cost: 0.0059906961396336555\n",
      "iteration: 3164, decoding loss: 0.10730217397212982, distance cost: 0.006449087522923946\n",
      "iteration: 3175, decoding loss: 0.10436631739139557, distance cost: 0.006254493724554777\n",
      "iteration: 3184, decoding loss: 0.1034000813961029, distance cost: 0.00695780711248517\n",
      "iteration: 3185, decoding loss: 0.10108405351638794, distance cost: 0.007499942556023598\n",
      "iteration: 3193, decoding loss: 0.09989111125469208, distance cost: 0.007628024555742741\n",
      "iteration: 3194, decoding loss: 0.09903968125581741, distance cost: 0.008235365152359009\n"
     ]
    }
   ],
   "source": [
    "encoder_high, decoder_high, _ = generate_1d.train(0, 1, 12, device, n_training_iterations=5000)\n"
   ],
   "metadata": {
    "collapsed": false
   }
  },
  {
   "cell_type": "code",
   "execution_count": 15,
   "outputs": [],
   "source": [
    "with torch.no_grad():\n",
    "    test_embedding_high = encoder_high(phases_torch)\n",
    "test_embedding_high = test_embedding_high.cpu().numpy()\n",
    "test_embedding_high = test_embedding_high/np.mean(np.abs(test_embedding_high))"
   ],
   "metadata": {
    "collapsed": false
   }
  },
  {
   "cell_type": "code",
   "execution_count": 1,
   "outputs": [
    {
     "ename": "NameError",
     "evalue": "name 'decode_1d' is not defined",
     "output_type": "error",
     "traceback": [
      "\u001B[0;31m---------------------------------------------------------------------------\u001B[0m",
      "\u001B[0;31mNameError\u001B[0m                                 Traceback (most recent call last)",
      "Cell \u001B[0;32mIn[1], line 1\u001B[0m\n\u001B[0;32m----> 1\u001B[0m encoder, decoder, _ \u001B[38;5;241m=\u001B[39m \u001B[43mdecode_1d\u001B[49m\u001B[38;5;241m.\u001B[39mtrain(test_embedding_high, \u001B[38;5;241m0\u001B[39m, \u001B[38;5;241m1\u001B[39m, device, integration_resamples\u001B[38;5;241m=\u001B[39m\u001B[38;5;241m15\u001B[39m)\n",
      "\u001B[0;31mNameError\u001B[0m: name 'decode_1d' is not defined"
     ]
    }
   ],
   "source": [
    "encoder, decoder, _ = decode_1d.train(test_embedding_high, 0, 1, device, integration_resamples=15)\n"
   ],
   "metadata": {
    "collapsed": false
   }
  },
  {
   "cell_type": "code",
   "execution_count": null,
   "outputs": [],
   "source": [],
   "metadata": {
    "collapsed": false
   }
  }
 ],
 "metadata": {
  "kernelspec": {
   "display_name": "Python 3",
   "language": "python",
   "name": "python3"
  },
  "language_info": {
   "codemirror_mode": {
    "name": "ipython",
    "version": 2
   },
   "file_extension": ".py",
   "mimetype": "text/x-python",
   "name": "python",
   "nbconvert_exporter": "python",
   "pygments_lexer": "ipython2",
   "version": "2.7.6"
  }
 },
 "nbformat": 4,
 "nbformat_minor": 0
}
