{
 "cells": [
  {
   "cell_type": "code",
   "execution_count": 1,
   "metadata": {
    "collapsed": true
   },
   "outputs": [],
   "source": [
    "import os\n",
    "import sys\n",
    "import matplotlib.pyplot as plt\n",
    "import numpy as np\n",
    "import torch\n",
    "\n",
    "sys.path.append(os.path.join(os.getenv(\"HOME\"), \"RNN_Manifold/\"))\n",
    "import decode_1d, generate_1d, geometry_util"
   ]
  },
  {
   "cell_type": "code",
   "execution_count": 2,
   "outputs": [
    {
     "name": "stdout",
     "output_type": "stream",
     "text": [
      "using device cuda\n"
     ]
    }
   ],
   "source": [
    "device = torch.device('cuda' if torch.cuda.is_available() else 'cpu')\n",
    "print(\"using device {}\".format(device))"
   ],
   "metadata": {
    "collapsed": false
   }
  },
  {
   "cell_type": "code",
   "execution_count": 3,
   "outputs": [
    {
     "name": "stderr",
     "output_type": "stream",
     "text": [
      "/home/trevor/brainvenv/lib/python3.8/site-packages/torch/nn/modules/lazy.py:180: UserWarning: Lazy modules are a new feature under heavy development so changes to the API or functionality can happen at any moment.\n",
      "  warnings.warn('Lazy modules are a new feature under heavy development '\n"
     ]
    },
    {
     "name": "stdout",
     "output_type": "stream",
     "text": [
      "iteration: 0, decoding loss: 1.8036292791366577, distance cost: 0.07744021713733673\n",
      "iteration: 7, decoding loss: 0.9515012502670288, distance cost: 0.11328479647636414\n",
      "iteration: 135, decoding loss: 0.797117292881012, distance cost: 0.2655136287212372\n",
      "iteration: 144, decoding loss: 0.7384085059165955, distance cost: 0.2790839374065399\n",
      "iteration: 146, decoding loss: 0.7255424857139587, distance cost: 0.2599364221096039\n",
      "iteration: 173, decoding loss: 0.7377685904502869, distance cost: 0.24579167366027832\n",
      "iteration: 175, decoding loss: 0.7179972529411316, distance cost: 0.24557048082351685\n",
      "iteration: 217, decoding loss: 0.771249532699585, distance cost: 0.18481257557868958\n",
      "iteration: 231, decoding loss: 0.7593860030174255, distance cost: 0.1937485635280609\n",
      "iteration: 243, decoding loss: 0.7666867971420288, distance cost: 0.18157079815864563\n",
      "iteration: 246, decoding loss: 0.7388070821762085, distance cost: 0.18206441402435303\n",
      "iteration: 264, decoding loss: 0.7220255136489868, distance cost: 0.1772328019142151\n",
      "iteration: 334, decoding loss: 0.7111756801605225, distance cost: 0.18679098784923553\n",
      "iteration: 338, decoding loss: 0.7158978581428528, distance cost: 0.16501986980438232\n",
      "iteration: 350, decoding loss: 0.6962904334068298, distance cost: 0.16829811036586761\n",
      "iteration: 371, decoding loss: 0.7126709818840027, distance cost: 0.1424969881772995\n",
      "iteration: 375, decoding loss: 0.706558883190155, distance cost: 0.13845542073249817\n",
      "iteration: 379, decoding loss: 0.6823440790176392, distance cost: 0.1581069529056549\n",
      "iteration: 380, decoding loss: 0.6818253993988037, distance cost: 0.15855489671230316\n",
      "iteration: 382, decoding loss: 0.66647869348526, distance cost: 0.15175467729568481\n",
      "iteration: 396, decoding loss: 0.687322199344635, distance cost: 0.12843671441078186\n",
      "iteration: 400, decoding loss: 0.6844409108161926, distance cost: 0.12764663994312286\n",
      "iteration: 403, decoding loss: 0.6609356999397278, distance cost: 0.1187238097190857\n",
      "iteration: 415, decoding loss: 0.666154682636261, distance cost: 0.10138668864965439\n",
      "iteration: 422, decoding loss: 0.6385256052017212, distance cost: 0.11404648423194885\n",
      "iteration: 425, decoding loss: 0.6439675688743591, distance cost: 0.10345280915498734\n",
      "iteration: 430, decoding loss: 0.626133918762207, distance cost: 0.09632422775030136\n",
      "iteration: 439, decoding loss: 0.6328209638595581, distance cost: 0.08425857871770859\n",
      "iteration: 442, decoding loss: 0.6342217326164246, distance cost: 0.08102882653474808\n",
      "iteration: 449, decoding loss: 0.6172813177108765, distance cost: 0.07783398777246475\n",
      "iteration: 452, decoding loss: 0.6109099984169006, distance cost: 0.07276364415884018\n",
      "iteration: 453, decoding loss: 0.6001566648483276, distance cost: 0.08249815553426743\n",
      "iteration: 459, decoding loss: 0.5929567217826843, distance cost: 0.06780189275741577\n",
      "iteration: 462, decoding loss: 0.5972080230712891, distance cost: 0.06354504823684692\n",
      "iteration: 468, decoding loss: 0.5996912121772766, distance cost: 0.05620850622653961\n",
      "iteration: 469, decoding loss: 0.577058732509613, distance cost: 0.06672302633523941\n",
      "iteration: 476, decoding loss: 0.5811119675636292, distance cost: 0.05806805565953255\n",
      "iteration: 481, decoding loss: 0.5704889297485352, distance cost: 0.05133524909615517\n",
      "iteration: 491, decoding loss: 0.5646889805793762, distance cost: 0.0516715943813324\n",
      "iteration: 498, decoding loss: 0.5644938945770264, distance cost: 0.046439509838819504\n",
      "iteration: 554, decoding loss: 0.5177714824676514, distance cost: 0.07958105951547623\n",
      "iteration: 559, decoding loss: 0.47116202116012573, distance cost: 0.07972177863121033\n",
      "iteration: 576, decoding loss: 0.44849252700805664, distance cost: 0.08313985168933868\n",
      "iteration: 577, decoding loss: 0.44891443848609924, distance cost: 0.0736827477812767\n",
      "iteration: 578, decoding loss: 0.415082186460495, distance cost: 0.08553679287433624\n",
      "iteration: 580, decoding loss: 0.399865061044693, distance cost: 0.08416511118412018\n",
      "iteration: 581, decoding loss: 0.35625332593917847, distance cost: 0.09173634648323059\n",
      "iteration: 582, decoding loss: 0.3255401849746704, distance cost: 0.08945311605930328\n",
      "iteration: 583, decoding loss: 0.3197230398654938, distance cost: 0.08660855144262314\n",
      "iteration: 584, decoding loss: 0.2916386127471924, distance cost: 0.10114318132400513\n",
      "iteration: 585, decoding loss: 0.3086361885070801, distance cost: 0.08242937177419662\n",
      "iteration: 819, decoding loss: 0.3678714632987976, distance cost: 0.013278933241963387\n",
      "iteration: 820, decoding loss: 0.36239731311798096, distance cost: 0.012721133418381214\n",
      "iteration: 821, decoding loss: 0.3358137309551239, distance cost: 0.014620893634855747\n",
      "iteration: 824, decoding loss: 0.3342413008213043, distance cost: 0.014185324311256409\n",
      "iteration: 825, decoding loss: 0.30806323885917664, distance cost: 0.017625533044338226\n",
      "iteration: 829, decoding loss: 0.29739996790885925, distance cost: 0.020625829696655273\n",
      "iteration: 830, decoding loss: 0.29397639632225037, distance cost: 0.022462449967861176\n",
      "iteration: 831, decoding loss: 0.2924836575984955, distance cost: 0.02366725727915764\n",
      "iteration: 832, decoding loss: 0.29422512650489807, distance cost: 0.021697891876101494\n",
      "iteration: 833, decoding loss: 0.2927395701408386, distance cost: 0.023129446431994438\n",
      "iteration: 834, decoding loss: 0.2883968651294708, distance cost: 0.02570848912000656\n",
      "iteration: 839, decoding loss: 0.28340405225753784, distance cost: 0.02999621257185936\n",
      "iteration: 960, decoding loss: 0.2909729778766632, distance cost: 0.016094425693154335\n",
      "iteration: 962, decoding loss: 0.2780114710330963, distance cost: 0.013271328993141651\n",
      "iteration: 971, decoding loss: 0.2786100208759308, distance cost: 0.012623989023268223\n",
      "iteration: 976, decoding loss: 0.27268698811531067, distance cost: 0.012503332458436489\n",
      "iteration: 979, decoding loss: 0.27172404527664185, distance cost: 0.01293733436614275\n",
      "iteration: 980, decoding loss: 0.2685811221599579, distance cost: 0.010652407072484493\n",
      "iteration: 988, decoding loss: 0.2560005486011505, distance cost: 0.0105594452470541\n",
      "iteration: 989, decoding loss: 0.25510337948799133, distance cost: 0.009290739893913269\n",
      "iteration: 995, decoding loss: 0.2501307725906372, distance cost: 0.009607185609638691\n",
      "iteration: 998, decoding loss: 0.2438056766986847, distance cost: 0.008791811764240265\n",
      "iteration: 1004, decoding loss: 0.23759162425994873, distance cost: 0.007982289418578148\n",
      "iteration: 1013, decoding loss: 0.22238397598266602, distance cost: 0.00815892219543457\n",
      "iteration: 1019, decoding loss: 0.2216198444366455, distance cost: 0.007629292085766792\n",
      "iteration: 1026, decoding loss: 0.20688727498054504, distance cost: 0.006760967895388603\n",
      "iteration: 1031, decoding loss: 0.20243141055107117, distance cost: 0.0073835705406963825\n",
      "iteration: 1036, decoding loss: 0.20164579153060913, distance cost: 0.006447691470384598\n",
      "iteration: 1047, decoding loss: 0.19817030429840088, distance cost: 0.007125376258045435\n",
      "iteration: 1050, decoding loss: 0.19890718162059784, distance cost: 0.006188073195517063\n",
      "iteration: 1056, decoding loss: 0.1968858689069748, distance cost: 0.006556465290486813\n",
      "iteration: 1060, decoding loss: 0.19384047389030457, distance cost: 0.007464296650141478\n",
      "iteration: 1065, decoding loss: 0.17937922477722168, distance cost: 0.006479400675743818\n",
      "iteration: 1074, decoding loss: 0.17647621035575867, distance cost: 0.007841203361749649\n",
      "iteration: 1083, decoding loss: 0.17366856336593628, distance cost: 0.007477407343685627\n",
      "iteration: 1085, decoding loss: 0.1732976734638214, distance cost: 0.006052784621715546\n",
      "iteration: 1086, decoding loss: 0.1596139371395111, distance cost: 0.006560871377587318\n",
      "iteration: 1094, decoding loss: 0.14483851194381714, distance cost: 0.005874195601791143\n",
      "iteration: 1311, decoding loss: 0.13467289507389069, distance cost: 0.01158011145889759\n",
      "iteration: 1315, decoding loss: 0.133176788687706, distance cost: 0.011746997945010662\n",
      "iteration: 1316, decoding loss: 0.1333262175321579, distance cost: 0.0114459078758955\n",
      "iteration: 1318, decoding loss: 0.1314067393541336, distance cost: 0.010884449817240238\n",
      "iteration: 1321, decoding loss: 0.1273890733718872, distance cost: 0.010870574973523617\n",
      "iteration: 1322, decoding loss: 0.12153355777263641, distance cost: 0.011169027537107468\n",
      "iteration: 1327, decoding loss: 0.11536518484354019, distance cost: 0.011179009452462196\n",
      "iteration: 1415, decoding loss: 0.11441444605588913, distance cost: 0.009654859080910683\n",
      "iteration: 1416, decoding loss: 0.11062206327915192, distance cost: 0.010024307295680046\n",
      "iteration: 1417, decoding loss: 0.1092434972524643, distance cost: 0.009951448999345303\n",
      "iteration: 1420, decoding loss: 0.10350171476602554, distance cost: 0.011628747917711735\n",
      "iteration: 1421, decoding loss: 0.10311832278966904, distance cost: 0.01033529732376337\n",
      "iteration: 1425, decoding loss: 0.09564024955034256, distance cost: 0.011941971257328987\n",
      "iteration: 2086, decoding loss: 0.09699554741382599, distance cost: 0.009927375242114067\n",
      "iteration: 2089, decoding loss: 0.09673231095075607, distance cost: 0.00852914247661829\n",
      "iteration: 2092, decoding loss: 0.09412398189306259, distance cost: 0.008593933656811714\n",
      "iteration: 2093, decoding loss: 0.09269684553146362, distance cost: 0.009795370511710644\n",
      "iteration: 2094, decoding loss: 0.09242561459541321, distance cost: 0.008353241719305515\n",
      "iteration: 2106, decoding loss: 0.09168323129415512, distance cost: 0.007536116987466812\n",
      "iteration: 2107, decoding loss: 0.09016520529985428, distance cost: 0.008870855905115604\n",
      "iteration: 2108, decoding loss: 0.08953466266393661, distance cost: 0.009176746942102909\n",
      "iteration: 2114, decoding loss: 0.08972267806529999, distance cost: 0.008395425975322723\n",
      "iteration: 2226, decoding loss: 0.09150040149688721, distance cost: 0.004569458309561014\n",
      "iteration: 2229, decoding loss: 0.09092114865779877, distance cost: 0.00490719685330987\n",
      "iteration: 2231, decoding loss: 0.08915674686431885, distance cost: 0.004515860695391893\n",
      "iteration: 2232, decoding loss: 0.08595804870128632, distance cost: 0.00480996398255229\n",
      "iteration: 2234, decoding loss: 0.0859232097864151, distance cost: 0.004697450902312994\n",
      "iteration: 2235, decoding loss: 0.08010062575340271, distance cost: 0.004593187943100929\n",
      "iteration: 2238, decoding loss: 0.07782646268606186, distance cost: 0.004687384702265263\n",
      "iteration: 2241, decoding loss: 0.0769365131855011, distance cost: 0.004530681762844324\n",
      "iteration: 2242, decoding loss: 0.07645153254270554, distance cost: 0.0047706314362585545\n",
      "iteration: 2244, decoding loss: 0.07519610971212387, distance cost: 0.00453518470749259\n",
      "iteration: 2247, decoding loss: 0.07503949105739594, distance cost: 0.004400449339300394\n",
      "iteration: 2250, decoding loss: 0.07481507211923599, distance cost: 0.004221105016767979\n",
      "iteration: 2254, decoding loss: 0.07212741672992706, distance cost: 0.004808628465980291\n",
      "iteration: 2394, decoding loss: 0.07081490755081177, distance cost: 0.003987419884651899\n",
      "iteration: 2396, decoding loss: 0.06974481791257858, distance cost: 0.004476860165596008\n",
      "iteration: 2550, decoding loss: 0.06612217426300049, distance cost: 0.0066581834107637405\n"
     ]
    }
   ],
   "source": [
    "encoder_2d, decoder_2d, _ = generate_1d.train(0, 1, 2, device, n_training_iterations=7000)"
   ],
   "metadata": {
    "collapsed": false
   }
  },
  {
   "cell_type": "code",
   "execution_count": 4,
   "outputs": [],
   "source": [
    "phases = np.arange(start=-np.pi, stop=np.pi, step=0.01)\n",
    "phases_torch = torch.tensor(np.expand_dims(phases, -1), dtype=torch.get_default_dtype()).to(device)\n",
    "with torch.no_grad():\n",
    "    test_embedding_2d = encoder_2d(phases_torch)\n",
    "test_embedding_2d = test_embedding_2d.cpu().numpy()"
   ],
   "metadata": {
    "collapsed": false
   }
  },
  {
   "cell_type": "code",
   "execution_count": 5,
   "outputs": [
    {
     "data": {
      "text/plain": "<Figure size 640x480 with 1 Axes>",
      "image/png": "[encoded data removed]"
     },
     "metadata": {},
     "output_type": "display_data"
    }
   ],
   "source": [
    "fig, axs = plt.subplots()\n",
    "axs.scatter(test_embedding_2d[:, 0], test_embedding_2d[:, 1], cmap=\"hsv\", c=phases)\n",
    "plt.show()\n"
   ],
   "metadata": {
    "collapsed": false
   }
  },
  {
   "cell_type": "code",
   "execution_count": 6,
   "outputs": [],
   "source": [
    "import importlib\n",
    "importlib.reload(generate_1d)\n",
    "with torch.no_grad():\n",
    "    _, pred_phases, _ = generate_1d.encode_decode_cost(encoder_2d, decoder_2d, phases_torch)\n",
    "pred_phases = pred_phases.cpu().numpy()"
   ],
   "metadata": {
    "collapsed": false
   }
  },
  {
   "cell_type": "code",
   "execution_count": 7,
   "outputs": [
    {
     "data": {
      "text/plain": "<matplotlib.collections.PathCollection at 0x7f5f90681490>"
     },
     "execution_count": 7,
     "metadata": {},
     "output_type": "execute_result"
    },
    {
     "data": {
      "text/plain": "<Figure size 640x480 with 1 Axes>",
      "image/png": "[encoded data removed]"
     },
     "metadata": {},
     "output_type": "display_data"
    }
   ],
   "source": [
    "%matplotlib inline\n",
    "fig, axs = plt.subplots()\n",
    "axs.scatter(phases, pred_phases)"
   ],
   "metadata": {
    "collapsed": false
   }
  },
  {
   "cell_type": "code",
   "execution_count": 8,
   "outputs": [
    {
     "name": "stdout",
     "output_type": "stream",
     "text": [
      "iteration: 0, decoding loss: 2.35183048248291, distance cost: 0.011699464172124863\n",
      "iteration: 6, decoding loss: 0.518445611000061, distance cost: 0.22499282658100128\n",
      "iteration: 148, decoding loss: 0.6567778587341309, distance cost: 0.08202500641345978\n",
      "iteration: 160, decoding loss: 0.643077552318573, distance cost: 0.0784793570637703\n",
      "iteration: 161, decoding loss: 0.6437425017356873, distance cost: 0.07297470420598984\n",
      "iteration: 162, decoding loss: 0.592584490776062, distance cost: 0.06576480716466904\n",
      "iteration: 165, decoding loss: 0.5710580945014954, distance cost: 0.07345328480005264\n",
      "iteration: 166, decoding loss: 0.5533581972122192, distance cost: 0.06795051693916321\n",
      "iteration: 227, decoding loss: 0.5400450825691223, distance cost: 0.0745299831032753\n",
      "iteration: 228, decoding loss: 0.5348102450370789, distance cost: 0.0732940286397934\n",
      "iteration: 230, decoding loss: 0.5335665941238403, distance cost: 0.07260330766439438\n",
      "iteration: 231, decoding loss: 0.5281844735145569, distance cost: 0.07768595963716507\n",
      "iteration: 232, decoding loss: 0.5274636149406433, distance cost: 0.06746893376111984\n",
      "iteration: 233, decoding loss: 0.516735315322876, distance cost: 0.07263979315757751\n",
      "iteration: 242, decoding loss: 0.5078791975975037, distance cost: 0.05770641192793846\n",
      "iteration: 300, decoding loss: 0.5247731804847717, distance cost: 0.03461078181862831\n",
      "iteration: 302, decoding loss: 0.5223829746246338, distance cost: 0.032514285296201706\n",
      "iteration: 304, decoding loss: 0.49972790479660034, distance cost: 0.03672655671834946\n",
      "iteration: 307, decoding loss: 0.4966445565223694, distance cost: 0.03621171787381172\n",
      "iteration: 308, decoding loss: 0.4895068407058716, distance cost: 0.037500955164432526\n",
      "iteration: 312, decoding loss: 0.4889047145843506, distance cost: 0.03600374609231949\n",
      "iteration: 314, decoding loss: 0.48268765211105347, distance cost: 0.03770911693572998\n",
      "iteration: 315, decoding loss: 0.46350711584091187, distance cost: 0.0392024889588356\n",
      "iteration: 317, decoding loss: 0.4626593291759491, distance cost: 0.036762919276952744\n",
      "iteration: 320, decoding loss: 0.44991862773895264, distance cost: 0.04565916210412979\n",
      "iteration: 373, decoding loss: 0.4602664113044739, distance cost: 0.033723536878824234\n",
      "iteration: 374, decoding loss: 0.449790894985199, distance cost: 0.03175927698612213\n",
      "iteration: 379, decoding loss: 0.4504089653491974, distance cost: 0.030503053218126297\n",
      "iteration: 380, decoding loss: 0.4380040764808655, distance cost: 0.027460042387247086\n",
      "iteration: 386, decoding loss: 0.43406805396080017, distance cost: 0.026343315839767456\n",
      "iteration: 387, decoding loss: 0.41245943307876587, distance cost: 0.025746703147888184\n",
      "iteration: 393, decoding loss: 0.4091286063194275, distance cost: 0.02185659296810627\n",
      "iteration: 395, decoding loss: 0.41026875376701355, distance cost: 0.020278168842196465\n",
      "iteration: 397, decoding loss: 0.39410537481307983, distance cost: 0.017598086968064308\n",
      "iteration: 401, decoding loss: 0.3928065896034241, distance cost: 0.015378046780824661\n",
      "iteration: 404, decoding loss: 0.38290342688560486, distance cost: 0.013381502591073513\n",
      "iteration: 412, decoding loss: 0.3756401538848877, distance cost: 0.011473624035716057\n",
      "iteration: 426, decoding loss: 0.35719841718673706, distance cost: 0.011961817741394043\n",
      "iteration: 440, decoding loss: 0.35757535696029663, distance cost: 0.009154527448117733\n",
      "iteration: 441, decoding loss: 0.3497218191623688, distance cost: 0.010293928906321526\n",
      "iteration: 447, decoding loss: 0.34759730100631714, distance cost: 0.010377386584877968\n",
      "iteration: 448, decoding loss: 0.34050360321998596, distance cost: 0.010119999758899212\n",
      "iteration: 449, decoding loss: 0.3386995196342468, distance cost: 0.009816054254770279\n",
      "iteration: 450, decoding loss: 0.3311198353767395, distance cost: 0.008909794501960278\n",
      "iteration: 451, decoding loss: 0.32824715971946716, distance cost: 0.010054603219032288\n",
      "iteration: 455, decoding loss: 0.32248809933662415, distance cost: 0.010422731749713421\n",
      "iteration: 457, decoding loss: 0.3229961097240448, distance cost: 0.009852008894085884\n",
      "iteration: 458, decoding loss: 0.32155725359916687, distance cost: 0.010787970386445522\n",
      "iteration: 459, decoding loss: 0.31136220693588257, distance cost: 0.010700368322432041\n",
      "iteration: 461, decoding loss: 0.29974764585494995, distance cost: 0.01157480850815773\n",
      "iteration: 463, decoding loss: 0.2805604636669159, distance cost: 0.01115769986063242\n",
      "iteration: 464, decoding loss: 0.2742941379547119, distance cost: 0.011507553979754448\n",
      "iteration: 467, decoding loss: 0.26675698161125183, distance cost: 0.011033116839826107\n",
      "iteration: 468, decoding loss: 0.26253390312194824, distance cost: 0.012991695664823055\n",
      "iteration: 469, decoding loss: 0.25638169050216675, distance cost: 0.01207035407423973\n",
      "iteration: 470, decoding loss: 0.25355756282806396, distance cost: 0.013458631932735443\n",
      "iteration: 553, decoding loss: 0.2343999743461609, distance cost: 0.03094111755490303\n",
      "iteration: 554, decoding loss: 0.2209116816520691, distance cost: 0.030875926837325096\n",
      "iteration: 557, decoding loss: 0.21950605511665344, distance cost: 0.030901482328772545\n",
      "iteration: 559, decoding loss: 0.21717050671577454, distance cost: 0.030771594494581223\n",
      "iteration: 652, decoding loss: 0.2127174437046051, distance cost: 0.028649045154452324\n",
      "iteration: 653, decoding loss: 0.21319973468780518, distance cost: 0.028127312660217285\n",
      "iteration: 655, decoding loss: 0.19924770295619965, distance cost: 0.028424089774489403\n",
      "iteration: 659, decoding loss: 0.19630253314971924, distance cost: 0.02818298526108265\n",
      "iteration: 866, decoding loss: 0.202813982963562, distance cost: 0.020611226558685303\n",
      "iteration: 869, decoding loss: 0.19542664289474487, distance cost: 0.022754736244678497\n",
      "iteration: 870, decoding loss: 0.19093437492847443, distance cost: 0.02204386331140995\n",
      "iteration: 879, decoding loss: 0.1909840852022171, distance cost: 0.020323367789387703\n",
      "iteration: 882, decoding loss: 0.1818825751543045, distance cost: 0.02286035194993019\n",
      "iteration: 885, decoding loss: 0.17842936515808105, distance cost: 0.023068299517035484\n",
      "iteration: 886, decoding loss: 0.17622756958007812, distance cost: 0.024202685803174973\n",
      "iteration: 889, decoding loss: 0.17767848074436188, distance cost: 0.02037772536277771\n",
      "iteration: 991, decoding loss: 0.17077775299549103, distance cost: 0.024279652163386345\n",
      "iteration: 992, decoding loss: 0.16707691550254822, distance cost: 0.02609167993068695\n",
      "iteration: 999, decoding loss: 0.1644085943698883, distance cost: 0.02519717998802662\n",
      "iteration: 1017, decoding loss: 0.16583092510700226, distance cost: 0.022574683651328087\n",
      "iteration: 1032, decoding loss: 0.1694106161594391, distance cost: 0.01841862127184868\n",
      "iteration: 1104, decoding loss: 0.1649656444787979, distance cost: 0.021996457129716873\n",
      "iteration: 1105, decoding loss: 0.15912622213363647, distance cost: 0.02318786270916462\n",
      "iteration: 1106, decoding loss: 0.1561511904001236, distance cost: 0.021940674632787704\n",
      "iteration: 1107, decoding loss: 0.146176278591156, distance cost: 0.02109924890100956\n",
      "iteration: 1108, decoding loss: 0.14124514162540436, distance cost: 0.02315266989171505\n",
      "iteration: 1110, decoding loss: 0.1425517052412033, distance cost: 0.018797967582941055\n",
      "iteration: 1770, decoding loss: 0.1435336321592331, distance cost: 0.016668759286403656\n",
      "iteration: 1865, decoding loss: 0.14337879419326782, distance cost: 0.016325069591403008\n",
      "iteration: 1873, decoding loss: 0.14105629920959473, distance cost: 0.017030464485287666\n",
      "iteration: 1882, decoding loss: 0.13742825388908386, distance cost: 0.016580015420913696\n",
      "iteration: 1886, decoding loss: 0.12854818999767303, distance cost: 0.01727130636572838\n",
      "iteration: 1894, decoding loss: 0.12390775233507156, distance cost: 0.016483668237924576\n",
      "iteration: 1895, decoding loss: 0.11933406442403793, distance cost: 0.017168764024972916\n",
      "iteration: 2034, decoding loss: 0.12551210820674896, distance cost: 0.0073618413880467415\n",
      "iteration: 2035, decoding loss: 0.1232190728187561, distance cost: 0.007939942181110382\n",
      "iteration: 2037, decoding loss: 0.1209120899438858, distance cost: 0.00836288370192051\n",
      "iteration: 2043, decoding loss: 0.1190793365240097, distance cost: 0.00834466889500618\n",
      "iteration: 2050, decoding loss: 0.11906971782445908, distance cost: 0.007671679835766554\n",
      "iteration: 2057, decoding loss: 0.11208376288414001, distance cost: 0.008591901510953903\n"
     ]
    }
   ],
   "source": [
    "encoder_3d, decoder_3d, _ = generate_1d.train(0, 1, 3, device, n_training_iterations=5000)\n"
   ],
   "metadata": {
    "collapsed": false
   }
  },
  {
   "cell_type": "code",
   "execution_count": 9,
   "outputs": [],
   "source": [
    "with torch.no_grad():\n",
    "    test_embedding_3d = encoder_3d(phases_torch)\n",
    "test_embedding_3d = test_embedding_3d.cpu().numpy()"
   ],
   "metadata": {
    "collapsed": false
   }
  },
  {
   "cell_type": "code",
   "execution_count": 10,
   "outputs": [],
   "source": [
    "%matplotlib tk\n",
    "proj_fig = plt.figure()\n",
    "proj_axs = proj_fig.add_subplot(projection=\"3d\")\n",
    "proj_axs.scatter(test_embedding_3d[:, 0], test_embedding_3d[:, 1], test_embedding_3d[:, 2], cmap=\"hsv\", c=phases)\n",
    "plt.show()\n"
   ],
   "metadata": {
    "collapsed": false
   }
  },
  {
   "cell_type": "code",
   "execution_count": 12,
   "outputs": [
    {
     "name": "stdout",
     "output_type": "stream",
     "text": [
      "iteration: 0, decoding loss: 1.5026379823684692, distance cost: 0.04319822043180466\n",
      "iteration: 1, decoding loss: 0.8400673270225525, distance cost: 0.010207310318946838\n",
      "iteration: 4, decoding loss: 0.760263204574585, distance cost: 0.05827176570892334\n",
      "iteration: 111, decoding loss: 0.7774231433868408, distance cost: 0.015370788984000683\n",
      "iteration: 117, decoding loss: 0.7717031240463257, distance cost: 0.014128788374364376\n",
      "iteration: 166, decoding loss: 0.7655648589134216, distance cost: 0.012829178012907505\n",
      "iteration: 167, decoding loss: 0.7469984292984009, distance cost: 0.012377060949802399\n",
      "iteration: 168, decoding loss: 0.7345384955406189, distance cost: 0.013775864616036415\n",
      "iteration: 169, decoding loss: 0.7089818716049194, distance cost: 0.014876555651426315\n",
      "iteration: 175, decoding loss: 0.681117594242096, distance cost: 0.016463028267025948\n",
      "iteration: 179, decoding loss: 0.6685774326324463, distance cost: 0.02208329550921917\n",
      "iteration: 183, decoding loss: 0.6608670949935913, distance cost: 0.019806131720542908\n",
      "iteration: 184, decoding loss: 0.6287316083908081, distance cost: 0.021701516583561897\n",
      "iteration: 193, decoding loss: 0.6158857941627502, distance cost: 0.02984694018959999\n",
      "iteration: 194, decoding loss: 0.6093997955322266, distance cost: 0.03231457993388176\n",
      "iteration: 205, decoding loss: 0.6002287864685059, distance cost: 0.03726144880056381\n",
      "iteration: 218, decoding loss: 0.5928651690483093, distance cost: 0.04424673691391945\n",
      "iteration: 222, decoding loss: 0.5661884546279907, distance cost: 0.05623094365000725\n",
      "iteration: 226, decoding loss: 0.5679582953453064, distance cost: 0.04611295834183693\n",
      "iteration: 229, decoding loss: 0.5617278218269348, distance cost: 0.04941160976886749\n",
      "iteration: 230, decoding loss: 0.5363317728042603, distance cost: 0.05012865364551544\n",
      "iteration: 234, decoding loss: 0.520235002040863, distance cost: 0.0480080284178257\n",
      "iteration: 239, decoding loss: 0.5056122541427612, distance cost: 0.04593073949217796\n",
      "iteration: 240, decoding loss: 0.5053574442863464, distance cost: 0.04219071939587593\n",
      "iteration: 269, decoding loss: 0.5162429213523865, distance cost: 0.029875054955482483\n",
      "iteration: 284, decoding loss: 0.5143147706985474, distance cost: 0.029489239677786827\n",
      "iteration: 286, decoding loss: 0.5213875770568848, distance cost: 0.021831544116139412\n",
      "iteration: 289, decoding loss: 0.510710597038269, distance cost: 0.023446638137102127\n",
      "iteration: 293, decoding loss: 0.4926179051399231, distance cost: 0.021346786990761757\n",
      "iteration: 300, decoding loss: 0.4769847095012665, distance cost: 0.021515699103474617\n",
      "iteration: 311, decoding loss: 0.4736398160457611, distance cost: 0.017797579988837242\n",
      "iteration: 312, decoding loss: 0.46728795766830444, distance cost: 0.017309607937932014\n",
      "iteration: 314, decoding loss: 0.4577352702617645, distance cost: 0.018837615847587585\n",
      "iteration: 316, decoding loss: 0.43873727321624756, distance cost: 0.01874568685889244\n",
      "iteration: 323, decoding loss: 0.42030036449432373, distance cost: 0.017357025295495987\n",
      "iteration: 324, decoding loss: 0.4196934998035431, distance cost: 0.01642831414937973\n",
      "iteration: 326, decoding loss: 0.3981272578239441, distance cost: 0.015423188917338848\n",
      "iteration: 331, decoding loss: 0.3837948143482208, distance cost: 0.016060160472989082\n",
      "iteration: 333, decoding loss: 0.38371333479881287, distance cost: 0.015471394173800945\n",
      "iteration: 336, decoding loss: 0.37916913628578186, distance cost: 0.014731778763234615\n",
      "iteration: 346, decoding loss: 0.38067448139190674, distance cost: 0.011870583519339561\n",
      "iteration: 348, decoding loss: 0.3796762228012085, distance cost: 0.011614183895289898\n",
      "iteration: 350, decoding loss: 0.3786206841468811, distance cost: 0.011136147193610668\n",
      "iteration: 351, decoding loss: 0.37783101201057434, distance cost: 0.011668030172586441\n",
      "iteration: 352, decoding loss: 0.360394150018692, distance cost: 0.011714961379766464\n",
      "iteration: 354, decoding loss: 0.3493179678916931, distance cost: 0.0111843915656209\n",
      "iteration: 358, decoding loss: 0.34729036688804626, distance cost: 0.011498880572617054\n",
      "iteration: 359, decoding loss: 0.3445139229297638, distance cost: 0.01000790111720562\n",
      "iteration: 366, decoding loss: 0.3447270691394806, distance cost: 0.008728660643100739\n",
      "iteration: 368, decoding loss: 0.3421679139137268, distance cost: 0.010128369554877281\n",
      "iteration: 370, decoding loss: 0.32464098930358887, distance cost: 0.010324999690055847\n",
      "iteration: 394, decoding loss: 0.31768500804901123, distance cost: 0.011382832191884518\n",
      "iteration: 396, decoding loss: 0.30610981583595276, distance cost: 0.01105431281030178\n",
      "iteration: 398, decoding loss: 0.29823005199432373, distance cost: 0.010744891129434109\n",
      "iteration: 409, decoding loss: 0.2867993414402008, distance cost: 0.013268353417515755\n",
      "iteration: 410, decoding loss: 0.2841695547103882, distance cost: 0.014915219508111477\n",
      "iteration: 448, decoding loss: 0.2618604600429535, distance cost: 0.022627102211117744\n",
      "iteration: 450, decoding loss: 0.24254298210144043, distance cost: 0.023492421954870224\n",
      "iteration: 451, decoding loss: 0.2374185025691986, distance cost: 0.025180790573358536\n",
      "iteration: 452, decoding loss: 0.21734946966171265, distance cost: 0.02506214752793312\n",
      "iteration: 453, decoding loss: 0.20789214968681335, distance cost: 0.026029648259282112\n",
      "iteration: 454, decoding loss: 0.20805589854717255, distance cost: 0.02382122166454792\n",
      "iteration: 1467, decoding loss: 0.20696035027503967, distance cost: 0.024073736742138863\n",
      "iteration: 1468, decoding loss: 0.20463693141937256, distance cost: 0.023157555609941483\n",
      "iteration: 1470, decoding loss: 0.1974244862794876, distance cost: 0.024235546588897705\n",
      "iteration: 1471, decoding loss: 0.18905138969421387, distance cost: 0.022526921704411507\n",
      "iteration: 1473, decoding loss: 0.18258127570152283, distance cost: 0.022481298074126244\n",
      "iteration: 1476, decoding loss: 0.17665839195251465, distance cost: 0.023420853540301323\n",
      "iteration: 1477, decoding loss: 0.1657869964838028, distance cost: 0.024622762575745583\n",
      "iteration: 1487, decoding loss: 0.16306035220623016, distance cost: 0.025334374979138374\n",
      "iteration: 1490, decoding loss: 0.16251739859580994, distance cost: 0.02225150540471077\n",
      "iteration: 1496, decoding loss: 0.15201584994792938, distance cost: 0.02404550276696682\n",
      "iteration: 1499, decoding loss: 0.15255771577358246, distance cost: 0.022951588034629822\n",
      "iteration: 1503, decoding loss: 0.14878632128238678, distance cost: 0.024812981486320496\n",
      "iteration: 1506, decoding loss: 0.1401151865720749, distance cost: 0.021464452147483826\n",
      "iteration: 1508, decoding loss: 0.13481715321540833, distance cost: 0.02127266488969326\n",
      "iteration: 1633, decoding loss: 0.12250365316867828, distance cost: 0.033092234283685684\n",
      "iteration: 1634, decoding loss: 0.1180582195520401, distance cost: 0.031084168702363968\n",
      "iteration: 2117, decoding loss: 0.11723753064870834, distance cost: 0.028902847319841385\n",
      "iteration: 2299, decoding loss: 0.12415824085474014, distance cost: 0.0160713791847229\n",
      "iteration: 2939, decoding loss: 0.1328437179327011, distance cost: 0.006880233995616436\n",
      "iteration: 2944, decoding loss: 0.1283406764268875, distance cost: 0.00724855437874794\n",
      "iteration: 2954, decoding loss: 0.12738840281963348, distance cost: 0.007483887951821089\n",
      "iteration: 2958, decoding loss: 0.12553071975708008, distance cost: 0.007479303516447544\n",
      "iteration: 2963, decoding loss: 0.12356455624103546, distance cost: 0.007157790008932352\n",
      "iteration: 2966, decoding loss: 0.12011859565973282, distance cost: 0.007760143838822842\n",
      "iteration: 3116, decoding loss: 0.11750835180282593, distance cost: 0.005678145680576563\n",
      "iteration: 3119, decoding loss: 0.11572311073541641, distance cost: 0.005309117957949638\n",
      "iteration: 3126, decoding loss: 0.11320412158966064, distance cost: 0.005942102521657944\n",
      "iteration: 3140, decoding loss: 0.11232239007949829, distance cost: 0.005373574327677488\n",
      "iteration: 3146, decoding loss: 0.10927169024944305, distance cost: 0.005777451209723949\n",
      "iteration: 3149, decoding loss: 0.10828212648630142, distance cost: 0.006608038675040007\n",
      "iteration: 3163, decoding loss: 0.1087416410446167, distance cost: 0.0059906961396336555\n",
      "iteration: 3164, decoding loss: 0.10730217397212982, distance cost: 0.006449087522923946\n",
      "iteration: 3175, decoding loss: 0.10436631739139557, distance cost: 0.006254493724554777\n",
      "iteration: 3184, decoding loss: 0.1034000813961029, distance cost: 0.00695780711248517\n",
      "iteration: 3185, decoding loss: 0.10108405351638794, distance cost: 0.007499942556023598\n",
      "iteration: 3193, decoding loss: 0.09989111125469208, distance cost: 0.007628024555742741\n",
      "iteration: 3194, decoding loss: 0.09903968125581741, distance cost: 0.008235365152359009\n"
     ]
    }
   ],
   "source": [
    "encoder_high, decoder_high, _ = generate_1d.train(0, 1, 12, device, n_training_iterations=5000)\n"
   ],
   "metadata": {
    "collapsed": false
   }
  },
  {
   "cell_type": "code",
   "execution_count": 15,
   "outputs": [],
   "source": [
    "with torch.no_grad():\n",
    "    test_embedding_high = encoder_high(phases_torch)\n",
    "test_embedding_high = test_embedding_high.cpu().numpy()\n",
    "test_embedding_high = test_embedding_high/np.mean(np.abs(test_embedding_high))"
   ],
   "metadata": {
    "collapsed": false
   }
  },
  {
   "cell_type": "code",
   "execution_count": 1,
   "outputs": [
    {
     "ename": "NameError",
     "evalue": "name 'decode_1d' is not defined",
     "output_type": "error",
     "traceback": [
      "\u001B[0;31m---------------------------------------------------------------------------\u001B[0m",
      "\u001B[0;31mNameError\u001B[0m                                 Traceback (most recent call last)",
      "Cell \u001B[0;32mIn[1], line 1\u001B[0m\n\u001B[0;32m----> 1\u001B[0m encoder, decoder, _ \u001B[38;5;241m=\u001B[39m \u001B[43mdecode_1d\u001B[49m\u001B[38;5;241m.\u001B[39mtrain(test_embedding_high, \u001B[38;5;241m0\u001B[39m, \u001B[38;5;241m1\u001B[39m, device, integration_resamples\u001B[38;5;241m=\u001B[39m\u001B[38;5;241m15\u001B[39m)\n",
      "\u001B[0;31mNameError\u001B[0m: name 'decode_1d' is not defined"
     ]
    }
   ],
   "source": [
    "encoder, decoder, _ = decode_1d.train(test_embedding_high, 0, 1, device, integration_resamples=15)\n"
   ],
   "metadata": {
    "collapsed": false
   }
  },
  {
   "cell_type": "code",
   "execution_count": null,
   "outputs": [],
   "source": [],
   "metadata": {
    "collapsed": false
   }
  }
 ],
 "metadata": {
  "kernelspec": {
   "display_name": "Python 3",
   "language": "python",
   "name": "python3"
  },
  "language_info": {
   "codemirror_mode": {
    "name": "ipython",
    "version": 2
   },
   "file_extension": ".py",
   "mimetype": "text/x-python",
   "name": "python",
   "nbconvert_exporter": "python",
   "pygments_lexer": "ipython2",
   "version": "2.7.6"
  }
 },
 "nbformat": 4,
 "nbformat_minor": 0
}
