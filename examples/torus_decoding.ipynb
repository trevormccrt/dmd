{
 "cells": [
  {
   "cell_type": "code",
   "execution_count": 1,
   "outputs": [],
   "source": [
    "import os\n",
    "import sys\n",
    "import matplotlib.pyplot as plt\n",
    "import numpy as np\n",
    "import torch\n",
    "\n",
    "sys.path.append(os.path.join(os.getenv(\"HOME\"), \"RNN_Manifold/\"))\n",
    "import s1_direct_product_decoder, s1_direct_product_generator, geometry_util"
   ],
   "metadata": {
    "collapsed": false
   }
  },
  {
   "cell_type": "code",
   "execution_count": 2,
   "outputs": [],
   "source": [
    "device = torch.device('cuda' if torch.cuda.is_available() else 'cpu')"
   ],
   "metadata": {
    "collapsed": false
   }
  },
  {
   "cell_type": "markdown",
   "source": [
    "Generate some ring data"
   ],
   "metadata": {
    "collapsed": false
   }
  },
  {
   "cell_type": "code",
   "execution_count": 3,
   "outputs": [
    {
     "name": "stderr",
     "output_type": "stream",
     "text": [
      "/home/trevor/brainvenv/lib/python3.8/site-packages/torch/nn/modules/lazy.py:180: UserWarning: Lazy modules are a new feature under heavy development so changes to the API or functionality can happen at any moment.\n",
      "  warnings.warn('Lazy modules are a new feature under heavy development '\n"
     ]
    },
    {
     "name": "stdout",
     "output_type": "stream",
     "text": [
      "iteration: 0, decoding loss: 0.9553124904632568, distance cost: 0.009668017737567425\n",
      "iteration: 1, decoding loss: 0.5222339630126953, distance cost: 0.025882022455334663\n",
      "iteration: 2, decoding loss: 0.34629884362220764, distance cost: 0.04498959705233574\n",
      "iteration: 3, decoding loss: 0.22818253934383392, distance cost: 0.06924714893102646\n",
      "iteration: 4, decoding loss: 0.19044853746891022, distance cost: 0.0845930203795433\n",
      "iteration: 5, decoding loss: 0.16612711548805237, distance cost: 0.08098747581243515\n",
      "iteration: 6, decoding loss: 0.11563632637262344, distance cost: 0.060826484113931656\n",
      "iteration: 7, decoding loss: 0.07695960998535156, distance cost: 0.02846253663301468\n",
      "iteration: 8, decoding loss: 0.061283450573682785, distance cost: 0.0062489896081388\n"
     ]
    },
    {
     "ename": "KeyboardInterrupt",
     "evalue": "",
     "output_type": "error",
     "traceback": [
      "\u001B[0;31m---------------------------------------------------------------------------\u001B[0m",
      "\u001B[0;31mKeyboardInterrupt\u001B[0m                         Traceback (most recent call last)",
      "Cell \u001B[0;32mIn[3], line 1\u001B[0m\n\u001B[0;32m----> 1\u001B[0m encoder, decoder \u001B[38;5;241m=\u001B[39m \u001B[43ms1_direct_product_generator\u001B[49m\u001B[38;5;241;43m.\u001B[39;49m\u001B[43mtrain\u001B[49m\u001B[43m(\u001B[49m\u001B[38;5;241;43m1\u001B[39;49m\u001B[43m,\u001B[49m\u001B[43m \u001B[49m\u001B[38;5;241;43m12\u001B[39;49m\u001B[43m,\u001B[49m\u001B[43m \u001B[49m\u001B[43mdevice\u001B[49m\u001B[43m,\u001B[49m\u001B[43m \u001B[49m\u001B[43mn_training_iterations\u001B[49m\u001B[38;5;241;43m=\u001B[39;49m\u001B[38;5;241;43m3000\u001B[39;49m\u001B[43m)\u001B[49m\n\u001B[1;32m      2\u001B[0m angles \u001B[38;5;241m=\u001B[39m np\u001B[38;5;241m.\u001B[39marange(start\u001B[38;5;241m=\u001B[39m\u001B[38;5;241m0\u001B[39m, stop\u001B[38;5;241m=\u001B[39m\u001B[38;5;241m2\u001B[39m \u001B[38;5;241m*\u001B[39m np\u001B[38;5;241m.\u001B[39mpi, step\u001B[38;5;241m=\u001B[39m\u001B[38;5;241m0.01\u001B[39m)\n\u001B[1;32m      3\u001B[0m \u001B[38;5;28;01mwith\u001B[39;00m torch\u001B[38;5;241m.\u001B[39mno_grad():\n",
      "File \u001B[0;32m~/RNN_Manifold/s1_direct_product_generator.py:41\u001B[0m, in \u001B[0;36mtrain\u001B[0;34m(manifold_dimension, embedding_dimension, device, encoder_hidden_dim, encoder_n_hidden, decoder_hidden_dim, decoder_n_hidden, integration_resamples, n_points_compare, batch_size, n_training_iterations, loss_stop_thresh)\u001B[0m\n\u001B[1;32m     38\u001B[0m loss\u001B[38;5;241m.\u001B[39mbackward()\n\u001B[1;32m     39\u001B[0m opt\u001B[38;5;241m.\u001B[39mstep()\n\u001B[0;32m---> 41\u001B[0m \u001B[38;5;28;01mif\u001B[39;00m loss \u001B[38;5;241m<\u001B[39m best_loss:\n\u001B[1;32m     42\u001B[0m     best_loss \u001B[38;5;241m=\u001B[39m loss\n\u001B[1;32m     43\u001B[0m     best_encoder \u001B[38;5;241m=\u001B[39m copy\u001B[38;5;241m.\u001B[39mdeepcopy(encoder_net)\n",
      "\u001B[0;31mKeyboardInterrupt\u001B[0m: "
     ]
    }
   ],
   "source": [
    "encoder, decoder = s1_direct_product_generator.train(1, 12, device, n_training_iterations=3000)\n",
    "angles = np.arange(start=0, stop=2 * np.pi, step=0.01)\n",
    "with torch.no_grad():\n",
    "    points = geometry_util.torch_angles_to_ring(torch.tensor(angles, dtype=torch.get_default_dtype()).to(device))\n",
    "    points = torch.unsqueeze(points, -2)\n",
    "    ring_embedded_points = encoder(points)\n",
    "ring_embedded_points = ring_embedded_points.cpu().numpy()"
   ],
   "metadata": {
    "collapsed": false
   }
  },
  {
   "cell_type": "code",
   "execution_count": null,
   "outputs": [],
   "source": [
    "sample_indicies = np.random.choice(np.shape(ring_embedded_points)[0], 100)\n",
    "test_ring_data = ring_embedded_points[sample_indicies, :]\n",
    "test_ring_phases = angles[sample_indicies]"
   ],
   "metadata": {
    "collapsed": false
   }
  },
  {
   "cell_type": "markdown",
   "source": [
    "Form a simple torus as the product of two rings"
   ],
   "metadata": {
    "collapsed": false
   }
  },
  {
   "cell_type": "code",
   "execution_count": null,
   "outputs": [],
   "source": [
    "possible_samples = np.arange(start=0, stop=np.shape(test_ring_data)[0], step=1)\n",
    "possible_pairs = []\n",
    "for sample_1 in possible_samples:\n",
    "    for sample_2 in possible_samples:\n",
    "        possible_pairs.append([sample_1, sample_2])\n",
    "\n",
    "possible_pairs = np.array(possible_pairs)\n",
    "n_samples = 1000\n",
    "samples = np.random.choice(len(possible_pairs), n_samples)\n",
    "indicies = possible_pairs[samples, :]\n",
    "\n",
    "data_1 = test_ring_data[indicies[:, 0], :]\n",
    "phases_1 = test_ring_phases[indicies[:, 0]]\n",
    "\n",
    "data_2 = test_ring_data[indicies[:, 1], :]\n",
    "phases_2 = test_ring_phases[indicies[:, 1]]\n",
    "\n",
    "product_torus_data = np.concatenate([data_1, data_2], axis=1)\n",
    "product_torus_data = product_torus_data/np.mean(np.abs(product_torus_data))\n",
    "product_torus_phases = np.stack([phases_1, phases_2], axis=-1)"
   ],
   "metadata": {
    "collapsed": false
   }
  },
  {
   "cell_type": "markdown",
   "source": [
    "Decode the product torus"
   ],
   "metadata": {
    "collapsed": false
   }
  },
  {
   "cell_type": "code",
   "execution_count": null,
   "outputs": [],
   "source": [
    "encoder, decoder = s1_direct_product_decoder.train(data=product_torus_data, manifold_dim=2, device=device,\n",
    "                                                   n_training_iterations=3000, decoder_weight=10, order_red_weight=0.1)"
   ],
   "metadata": {
    "collapsed": false
   }
  },
  {
   "cell_type": "code",
   "execution_count": null,
   "outputs": [],
   "source": [
    "with torch.no_grad():\n",
    "    product_predicted_phases = decoder(torch.tensor(product_torus_data, dtype=torch.get_default_dtype()).to(device))[1].cpu().numpy()"
   ],
   "metadata": {
    "collapsed": false
   }
  },
  {
   "cell_type": "code",
   "execution_count": null,
   "outputs": [],
   "source": [
    "def reference_phases(phases):\n",
    "    phases_refd = phases - phases[0]\n",
    "    phases_refd = np.arctan2(np.sin(phases_refd), np.cos(phases_refd))\n",
    "    return phases_refd * np.sign(phases_refd[1])"
   ],
   "metadata": {
    "collapsed": false
   }
  },
  {
   "cell_type": "code",
   "execution_count": null,
   "outputs": [],
   "source": [
    "def compare_to_ground_truth(predicted_phases, ground_truth_phases, plot_axes):\n",
    "    refd_test_phases = reference_phases(predicted_phases)\n",
    "    refd_true_phases = reference_phases(ground_truth_phases)\n",
    "    if np.abs(refd_test_phases[1,1] - refd_true_phases[1, 0]) < np.abs(refd_test_phases[1,1] - refd_true_phases[1, 1]):\n",
    "        refd_test_phases = np.stack([refd_test_phases[:, 1], refd_test_phases[:, 0]], axis=-1)\n",
    "    line = np.arange(start=-np.pi, stop=np.pi, step=0.01)\n",
    "    plot_axes[0].scatter(refd_true_phases[:, 0], refd_test_phases[:, 0])\n",
    "    plot_axes[0].plot(line, line, color=\"black\", linestyle=\"--\", label=\"y=x\")\n",
    "    plot_axes[1].scatter(refd_true_phases[:, 1], refd_test_phases[:, 1])\n",
    "    plot_axes[1].plot(line, line, color=\"black\", linestyle=\"--\", label=\"y=x\")\n",
    "    plot_axes[0].set_xlabel(\"True Phase\")\n",
    "    plot_axes[0].set_title(\"Phase 1\")\n",
    "    plot_axes[1].set_xlabel(\"True Phase\")\n",
    "    plot_axes[1].set_title(\"Phase 2\")\n",
    "    plot_axes[0].set_ylabel(\"Found Phase\")\n",
    "    return refd_test_phases, refd_true_phases"
   ],
   "metadata": {
    "collapsed": false
   }
  },
  {
   "cell_type": "code",
   "execution_count": null,
   "outputs": [],
   "source": [
    "fig, axs = plt.subplots(ncols=2, sharey=True)\n",
    "referenced_product_predicted_phases, referenced_product_true_phases = compare_to_ground_truth(product_predicted_phases, product_torus_phases, axs)"
   ],
   "metadata": {
    "collapsed": false
   }
  },
  {
   "cell_type": "markdown",
   "source": [
    "Make a torus directly using the generative model"
   ],
   "metadata": {
    "collapsed": false
   }
  },
  {
   "cell_type": "code",
   "execution_count": null,
   "outputs": [],
   "source": [
    "encoder, decoder = s1_direct_product_generator.train(2, 24, device, n_training_iterations=5000)\n",
    "\n",
    "torus_phases = np.random.uniform(0, 2 * np.pi, (1000, 2))\n",
    "with torch.no_grad():\n",
    "    points = geometry_util.torch_angles_to_ring(torch.tensor(torus_phases, dtype=torch.get_default_dtype()).to(device))\n",
    "    torus_embedded_points = encoder(points)\n",
    "torus_embedded_points = torus_embedded_points.cpu().numpy()"
   ],
   "metadata": {
    "collapsed": false
   }
  },
  {
   "cell_type": "markdown",
   "source": [
    "Decode the generated torus"
   ],
   "metadata": {
    "collapsed": false
   }
  },
  {
   "cell_type": "code",
   "execution_count": null,
   "outputs": [],
   "source": [
    "normed_torus_embedded_points = torus_embedded_points/np.mean(np.abs(torus_embedded_points))"
   ],
   "metadata": {
    "collapsed": false
   }
  },
  {
   "cell_type": "code",
   "execution_count": null,
   "outputs": [],
   "source": [
    "encoder, decoder = s1_direct_product_decoder.train(data=normed_torus_embedded_points, manifold_dim=2, device=device,\n",
    "                                                   n_training_iterations=3000, decoder_weight=10, order_red_weight=0.1)\n"
   ],
   "metadata": {
    "collapsed": false
   }
  },
  {
   "cell_type": "code",
   "execution_count": null,
   "outputs": [],
   "source": [
    "with torch.no_grad():\n",
    "    gen_predicted_phases = decoder(torch.tensor(normed_torus_embedded_points, dtype=torch.get_default_dtype()).to(device))[1].cpu().numpy()"
   ],
   "metadata": {
    "collapsed": false
   }
  },
  {
   "cell_type": "code",
   "execution_count": null,
   "outputs": [],
   "source": [
    "fig, axs = plt.subplots(ncols=2, sharey=True)\n",
    "referenced_gen_predicted_phases, referenced_gen_true_phases = compare_to_ground_truth(gen_predicted_phases, torus_phases, axs)\n"
   ],
   "metadata": {
    "collapsed": false
   }
  }
 ],
 "metadata": {
  "kernelspec": {
   "display_name": "Python 3",
   "language": "python",
   "name": "python3"
  },
  "language_info": {
   "codemirror_mode": {
    "name": "ipython",
    "version": 2
   },
   "file_extension": ".py",
   "mimetype": "text/x-python",
   "name": "python",
   "nbconvert_exporter": "python",
   "pygments_lexer": "ipython2",
   "version": "2.7.6"
  }
 },
 "nbformat": 4,
 "nbformat_minor": 0
}
