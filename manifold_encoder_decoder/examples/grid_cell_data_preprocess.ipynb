{
 "cells": [
  {
   "cell_type": "code",
   "execution_count": 1,
   "metadata": {
    "collapsed": true
   },
   "outputs": [],
   "source": [
    "import datetime\n",
    "import numpy as np\n",
    "import os\n",
    "from pathos import multiprocessing as mp"
   ]
  },
  {
   "cell_type": "code",
   "execution_count": 2,
   "outputs": [],
   "source": [
    "data_path = \"/home/trevor/Downloads/Toroidal_topology_grid_cell_data/rat_r_day1_grid_modules_1_2_3.npz\""
   ],
   "metadata": {
    "collapsed": false
   }
  },
  {
   "cell_type": "code",
   "execution_count": 3,
   "outputs": [],
   "source": [
    "with np.load(data_path, allow_pickle=True) as data:\n",
    "    module_1_spikes = data['spikes_mod1'][()]\n",
    "    module_2_spikes = data['spikes_mod2'][()]\n",
    "    module_3_spikes = data['spikes_mod3'][()]\n",
    "    x_pos = data['x']\n",
    "    y_pos = data['y']\n",
    "    z_pos = data['z']\n",
    "    times = data['t']"
   ],
   "metadata": {
    "collapsed": false
   }
  },
  {
   "cell_type": "code",
   "execution_count": 4,
   "outputs": [],
   "source": [
    "time_range = [np.min(times), np.max(times)]\n",
    "time_grid = np.linspace(start=np.min(times), stop=np.max(times), num=int(time_range[1] - time_range[0]))"
   ],
   "metadata": {
    "collapsed": false
   }
  },
  {
   "cell_type": "code",
   "execution_count": 5,
   "outputs": [],
   "source": [
    "def sum_of_gaussians(times, centers, sigma):\n",
    "    activation = np.zeros_like(times)\n",
    "    for i, center in enumerate(centers):\n",
    "        activation += np.exp(-(times - center)**2/(2 * sigma**2))\n",
    "    return activation"
   ],
   "metadata": {
    "collapsed": false
   }
  },
  {
   "cell_type": "code",
   "execution_count": 6,
   "outputs": [
    {
     "name": "stderr",
     "output_type": "stream",
     "text": [
      "/tmp/ipykernel_241494/257980028.py:11: VisibleDeprecationWarning: Creating an ndarray from ragged nested sequences (which is a list-or-tuple of lists-or-tuples-or ndarrays with different lengths or shapes) is deprecated. If you meant to do this, you must specify 'dtype=object' when creating the ndarray.\n",
      "  all_rate_data = np.array(all_rate_data)\n"
     ]
    }
   ],
   "source": [
    "all_rate_data = []\n",
    "for module_spikes in [module_1_spikes, module_2_spikes, module_3_spikes]:\n",
    "    all_spike_times = []\n",
    "    for key, value in module_spikes.items():\n",
    "        all_spike_times.append(value)\n",
    "\n",
    "    p = mp.Pool()\n",
    "    rate_data = p.map(lambda d: sum_of_gaussians(time_grid, d, 0.1), all_spike_times)\n",
    "    rate_data = np.array(rate_data)\n",
    "    all_rate_data.append(rate_data)\n",
    "all_rate_data = np.array(all_rate_data)"
   ],
   "metadata": {
    "collapsed": false
   }
  },
  {
   "cell_type": "code",
   "execution_count": 12,
   "outputs": [],
   "source": [
    "output_dir = \"/home/trevor/manifold_test_data/torus/gardner_data/{}\".format(datetime.datetime.now().strftime('%Y-%m-%d-%H-%M-%S'))\n",
    "os.makedirs(output_dir, exist_ok=False)"
   ],
   "metadata": {
    "collapsed": false
   }
  },
  {
   "cell_type": "code",
   "execution_count": 13,
   "outputs": [],
   "source": [
    "np.save(os.path.join(output_dir, \"all_mod_encoded_points.npy\"), all_rate_data)"
   ],
   "metadata": {
    "collapsed": false
   }
  },
  {
   "cell_type": "code",
   "execution_count": 14,
   "outputs": [],
   "source": [
    "positions = np.stack([x_pos, y_pos, z_pos], axis=-1)"
   ],
   "metadata": {
    "collapsed": false
   }
  },
  {
   "cell_type": "code",
   "execution_count": 15,
   "outputs": [],
   "source": [
    "np.save(os.path.join(output_dir, \"positions.npy\"), positions)\n",
    "np.save(os.path.join(output_dir, \"times.npy\"), times)\n"
   ],
   "metadata": {
    "collapsed": false
   }
  },
  {
   "cell_type": "code",
   "execution_count": 16,
   "outputs": [],
   "source": [
    "np.save(os.path.join(output_dir, \"encoded_point_time_bins.npy\"), time_grid)\n"
   ],
   "metadata": {
    "collapsed": false
   }
  }
 ],
 "metadata": {
  "kernelspec": {
   "display_name": "Python 3",
   "language": "python",
   "name": "python3"
  },
  "language_info": {
   "codemirror_mode": {
    "name": "ipython",
    "version": 2
   },
   "file_extension": ".py",
   "mimetype": "text/x-python",
   "name": "python",
   "nbconvert_exporter": "python",
   "pygments_lexer": "ipython2",
   "version": "2.7.6"
  }
 },
 "nbformat": 4,
 "nbformat_minor": 0
}
