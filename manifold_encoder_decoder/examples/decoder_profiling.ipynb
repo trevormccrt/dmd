{
 "cells": [
  {
   "cell_type": "code",
   "execution_count": 1,
   "metadata": {
    "collapsed": true
   },
   "outputs": [],
   "source": [
    "import numpy as np\n",
    "import os\n",
    "import sys\n",
    "import torch\n",
    "from torch.profiler import profile, record_function, ProfilerActivity\n",
    "\n",
    "sys.path.append(os.path.join(os.getenv(\"HOME\"), \"RNN_Manifold/\"))\n",
    "from manifold_encoder_decoder import s1_direct_product_decoder, encoder_decoder_core\n"
   ]
  },
  {
   "cell_type": "code",
   "execution_count": 2,
   "outputs": [
    {
     "name": "stdout",
     "output_type": "stream",
     "text": [
      "using cuda\n"
     ]
    }
   ],
   "source": [
    "device = torch.device('cuda' if torch.cuda.is_available() else 'cpu')\n",
    "print(\"using {}\".format(device))"
   ],
   "metadata": {
    "collapsed": false
   }
  },
  {
   "cell_type": "markdown",
   "source": [
    "The purpose of this notebook is to get an idea of the resource use of the main decoder functions to make sure nothing weird is going on."
   ],
   "metadata": {
    "collapsed": false
   }
  },
  {
   "cell_type": "code",
   "execution_count": 3,
   "outputs": [],
   "source": [
    "batch_size = 1000\n",
    "embedded_dim = 20\n",
    "manifold_dim = 1\n",
    "decoder_hidden_size = 1000\n",
    "encoder_hidden_size = int(1.5 * decoder_hidden_size)\n",
    "decoder_n_hidden = 2\n",
    "encoder_n_hidden = decoder_n_hidden\n",
    "\n",
    "fake_data = np.random.uniform(-1, 1, (batch_size, embedded_dim))\n",
    "fake_data_torch = torch.tensor(fake_data, dtype=torch.get_default_dtype()).to(device)"
   ],
   "metadata": {
    "collapsed": false
   }
  },
  {
   "cell_type": "code",
   "execution_count": 4,
   "outputs": [
    {
     "name": "stderr",
     "output_type": "stream",
     "text": [
      "/home/trevor/brainvenv/lib/python3.8/site-packages/torch/nn/modules/lazy.py:180: UserWarning: Lazy modules are a new feature under heavy development so changes to the API or functionality can happen at any moment.\n",
      "  warnings.warn('Lazy modules are a new feature under heavy development '\n"
     ]
    }
   ],
   "source": [
    "encoder_net = encoder_decoder_core.AllPeriodicEncoder(embedded_dim, manifold_dim, encoder_hidden_size, encoder_n_hidden).to(device)\n",
    "decoder_net = encoder_decoder_core.AllPeriodicDecoder(embedded_dim, manifold_dim, decoder_hidden_size, decoder_n_hidden).to(device)"
   ],
   "metadata": {
    "collapsed": false
   }
  },
  {
   "cell_type": "code",
   "execution_count": 8,
   "outputs": [
    {
     "name": "stdout",
     "output_type": "stream",
     "text": [
      "-------------------------------------------------------  ------------  ------------  ------------  ------------  ------------  ------------  ------------  ------------  ------------  ------------  ------------  ------------  ------------  ------------  \n",
      "                                                   Name    Self CPU %      Self CPU   CPU total %     CPU total  CPU time avg     Self CUDA   Self CUDA %    CUDA total  CUDA time avg       CPU Mem  Self CPU Mem      CUDA Mem  Self CUDA Mem    # of Calls  \n",
      "-------------------------------------------------------  ------------  ------------  ------------  ------------  ------------  ------------  ------------  ------------  ------------  ------------  ------------  ------------  ------------  ------------  \n",
      "                                             aten::tanh         4.25%     122.000us         6.34%     182.000us      22.750us      69.000us         7.24%      69.000us       8.625us           0 b           0 b      30.01 Mb      30.01 Mb             8  \n",
      "                                            aten::addmm        15.01%     431.000us        30.34%     871.000us      87.100us     858.000us        90.03%     858.000us      85.800us           0 b           0 b      28.70 Mb      18.70 Mb            10  \n",
      "                                            aten::empty         1.32%      38.000us         1.32%      38.000us       3.800us       0.000us         0.00%       0.000us       0.000us           0 b           0 b      10.00 Mb      10.00 Mb            10  \n",
      "                                              aten::pow         1.25%      36.000us         1.78%      51.000us      25.500us       4.000us         0.42%       4.000us       2.000us           0 b           0 b      86.50 Kb      86.50 Kb             2  \n",
      "                                              aten::sub         0.52%      15.000us         0.80%      23.000us      23.000us       2.000us         0.21%       2.000us       2.000us           0 b           0 b      78.50 Kb      78.50 Kb             1  \n",
      "                                              aten::mul         1.04%      30.000us         1.64%      47.000us      23.500us       4.000us         0.42%       4.000us       2.000us           0 b           0 b      12.00 Kb      12.00 Kb             2  \n",
      "                                              aten::sum         0.91%      26.000us         1.22%      35.000us      35.000us       4.000us         0.42%       4.000us       4.000us           0 b           0 b       4.00 Kb       4.00 Kb             1  \n",
      "                                             aten::sqrt         0.49%      14.000us         0.73%      21.000us      21.000us       2.000us         0.21%       2.000us       2.000us           0 b           0 b       4.00 Kb       4.00 Kb             1  \n",
      "                                       aten::reciprocal         0.45%      13.000us         0.70%      20.000us      20.000us       2.000us         0.21%       2.000us       2.000us           0 b           0 b       4.00 Kb       4.00 Kb             1  \n",
      "                                            aten::atan2         0.52%      15.000us         0.84%      24.000us      24.000us       3.000us         0.31%       3.000us       3.000us           0 b           0 b       4.00 Kb       4.00 Kb             1  \n",
      "                                             aten::mean         0.77%      22.000us         1.01%      29.000us      29.000us       5.000us         0.52%       5.000us       5.000us           0 b           0 b         512 b         512 b             1  \n",
      "                                           aten::linear         1.15%      33.000us        34.97%       1.004ms     100.400us       0.000us         0.00%     858.000us      85.800us           0 b           0 b      28.70 Mb           0 b            10  \n",
      "                                                aten::t         1.71%      49.000us         3.48%     100.000us      10.000us       0.000us         0.00%       0.000us       0.000us           0 b           0 b           0 b           0 b            10  \n",
      "                                        aten::transpose         1.15%      33.000us         1.78%      51.000us       5.100us       0.000us         0.00%       0.000us       0.000us           0 b           0 b           0 b           0 b            10  \n",
      "                                       aten::as_strided         0.70%      20.000us         0.70%      20.000us       1.176us       0.000us         0.00%       0.000us       0.000us           0 b           0 b           0 b           0 b            17  \n",
      "cudaOccupancyMaxActiveBlocksPerMultiprocessorWithFla...         0.49%      14.000us         0.49%      14.000us       0.824us       0.000us         0.00%       0.000us       0.000us           0 b           0 b           0 b           0 b            17  \n",
      "                                       cudaLaunchKernel        16.75%     481.000us        16.75%     481.000us      16.586us       0.000us         0.00%       0.000us       0.000us           0 b           0 b           0 b           0 b            29  \n",
      "                                        cudaMemsetAsync         1.53%      44.000us         1.53%      44.000us       6.286us       0.000us         0.00%       0.000us       0.000us           0 b           0 b           0 b           0 b             7  \n",
      "                                          aten::reshape         0.49%      14.000us         0.70%      20.000us      10.000us       0.000us         0.00%       0.000us       0.000us           0 b           0 b           0 b           0 b             2  \n",
      "                                   aten::_reshape_alias         0.31%       9.000us         0.31%       9.000us       4.500us       0.000us         0.00%       0.000us       0.000us           0 b           0 b           0 b           0 b             2  \n",
      "-------------------------------------------------------  ------------  ------------  ------------  ------------  ------------  ------------  ------------  ------------  ------------  ------------  ------------  ------------  ------------  ------------  \n",
      "Self CPU time total: 2.871ms\n",
      "Self CUDA time total: 953.000us\n",
      "\n"
     ]
    },
    {
     "name": "stderr",
     "output_type": "stream",
     "text": [
      "STAGE:2023-01-17 16:43:24 76944:76944 ActivityProfilerController.cpp:294] Completed Stage: Warm Up\n",
      "STAGE:2023-01-17 16:43:24 76944:76944 ActivityProfilerController.cpp:300] Completed Stage: Collection\n"
     ]
    }
   ],
   "source": [
    "with profile(activities=[\n",
    "        ProfilerActivity.CPU, ProfilerActivity.CUDA], record_shapes=True, profile_memory=True) as prof:\n",
    "    decoded_points, decoded_angles, re_encoded_points, _ = s1_direct_product_decoder.decode_encode_cost(decoder_net, encoder_net, fake_data_torch)\n",
    "\n",
    "print(prof.key_averages().table(sort_by=\"self_cuda_memory_usage\", row_limit=20))\n"
   ],
   "metadata": {
    "collapsed": false
   }
  },
  {
   "cell_type": "code",
   "execution_count": 10,
   "outputs": [
    {
     "name": "stdout",
     "output_type": "stream",
     "text": [
      "-------------------------------------------------------  ------------  ------------  ------------  ------------  ------------  ------------  ------------  ------------  ------------  ------------  ------------  ------------  ------------  ------------  \n",
      "                                                   Name    Self CPU %      Self CPU   CPU total %     CPU total  CPU time avg     Self CUDA   Self CUDA %    CUDA total  CUDA time avg       CPU Mem  Self CPU Mem      CUDA Mem  Self CUDA Mem    # of Calls  \n",
      "-------------------------------------------------------  ------------  ------------  ------------  ------------  ------------  ------------  ------------  ------------  ------------  ------------  ------------  ------------  ------------  ------------  \n",
      "                                             aten::tanh         0.13%      59.000us         1.21%     564.000us     141.000us       1.972ms         6.87%       1.972ms     493.000us           0 b           0 b     686.65 Mb     686.65 Mb             4  \n",
      "                                            aten::addmm         0.33%     152.000us         1.11%     518.000us     103.600us      25.668ms        89.36%      25.668ms       5.134ms           0 b           0 b     690.46 Mb     685.46 Mb             5  \n",
      "                                            aten::empty         0.38%     178.000us         0.38%     178.000us       6.846us       0.000us         0.00%       0.000us       0.000us          48 b          48 b     107.50 Mb     107.50 Mb            26  \n",
      "                                              aten::sub         0.24%     111.000us         0.73%     339.000us      28.250us     223.000us         0.78%     223.000us      18.583us           0 b           0 b      61.13 Mb      61.13 Mb            12  \n",
      "                                              aten::pow         0.14%      65.000us         0.37%     173.000us      34.600us     102.000us         0.36%     102.000us      20.400us           0 b           0 b      37.42 Mb      37.42 Mb             5  \n",
      "                                             aten::sort         0.05%      25.000us         0.19%      90.000us      90.000us      71.000us         0.25%     115.000us     115.000us           0 b           0 b      12.22 Mb      12.22 Mb             1  \n",
      "                                              aten::min         0.08%      38.000us         0.11%      50.000us      25.000us     188.000us         0.65%     188.000us      94.000us           0 b           0 b      11.46 Mb      11.46 Mb             2  \n",
      "                                           aten::gather         0.18%      82.000us         0.25%     117.000us      14.625us     130.000us         0.45%     130.000us      16.250us           0 b           0 b       7.73 Mb       7.73 Mb             8  \n",
      "                                              aten::add         0.09%      41.000us         0.13%      61.000us      12.200us      15.000us         0.05%      15.000us       3.000us           0 b           0 b       4.12 Mb       4.12 Mb             5  \n",
      "                                              aten::sum         0.15%      69.000us         0.21%      99.000us      16.500us      38.000us         0.13%      38.000us       6.333us           0 b           0 b       3.98 Mb       3.98 Mb             6  \n",
      "                                             aten::sqrt         0.07%      32.000us         0.10%      47.000us      11.750us      13.000us         0.05%      13.000us       3.250us           0 b           0 b       3.97 Mb       3.97 Mb             4  \n",
      "                                              aten::cat         0.02%       9.000us         0.03%      15.000us      15.000us       5.000us         0.02%       5.000us       5.000us           0 b           0 b     312.50 Kb     312.50 Kb             1  \n",
      "                                             aten::tile         0.08%      37.000us        28.95%      13.518ms       1.040ms       0.000us         0.00%     208.000us      16.000us           0 b           0 b      99.44 Mb     156.50 Kb            13  \n",
      "                                              aten::mul         0.02%      10.000us         0.04%      17.000us      17.000us       3.000us         0.01%       3.000us       3.000us           0 b           0 b     156.50 Kb     156.50 Kb             1  \n",
      "                                              aten::cos         0.02%      10.000us         0.04%      17.000us      17.000us       2.000us         0.01%       2.000us       2.000us           0 b           0 b     156.50 Kb     156.50 Kb             1  \n",
      "                                              aten::sin         0.02%       9.000us         0.03%      14.000us      14.000us       2.000us         0.01%       2.000us       2.000us           0 b           0 b     156.50 Kb     156.50 Kb             1  \n",
      "                                          aten::resize_         0.02%       9.000us         0.02%       9.000us       3.000us       0.000us         0.00%       0.000us       0.000us           0 b           0 b      12.50 Kb      12.50 Kb             3  \n",
      "                                              aten::div         0.07%      35.000us         0.12%      54.000us      13.500us       9.000us         0.03%       9.000us       2.250us           0 b           0 b      12.50 Kb      12.50 Kb             4  \n",
      "                                    aten::empty_strided         0.03%      14.000us         0.03%      14.000us       3.500us       0.000us         0.00%       0.000us       0.000us           0 b           0 b       2.00 Kb       2.00 Kb             4  \n",
      "                                             aten::mean         0.09%      44.000us         0.13%      62.000us      15.500us      13.000us         0.05%      13.000us       3.250us           0 b           0 b       2.00 Kb       2.00 Kb             4  \n",
      "-------------------------------------------------------  ------------  ------------  ------------  ------------  ------------  ------------  ------------  ------------  ------------  ------------  ------------  ------------  ------------  ------------  \n",
      "Self CPU time total: 46.697ms\n",
      "Self CUDA time total: 28.724ms\n",
      "\n"
     ]
    },
    {
     "name": "stderr",
     "output_type": "stream",
     "text": [
      "STAGE:2023-01-17 16:44:02 76944:76944 ActivityProfilerController.cpp:294] Completed Stage: Warm Up\n",
      "STAGE:2023-01-17 16:44:02 76944:76944 ActivityProfilerController.cpp:300] Completed Stage: Collection\n"
     ]
    }
   ],
   "source": [
    "with profile(activities=[\n",
    "        ProfilerActivity.CPU, ProfilerActivity.CUDA], record_shapes=True, profile_memory=True) as prof:\n",
    "    _ = s1_direct_product_decoder.distance_costs(encoder_net, re_encoded_points, decoded_angles, 20)\n",
    "\n",
    "print(prof.key_averages().table(sort_by=\"self_cuda_memory_usage\", row_limit=20))\n"
   ],
   "metadata": {
    "collapsed": false
   }
  }
 ],
 "metadata": {
  "kernelspec": {
   "display_name": "Python 3",
   "language": "python",
   "name": "python3"
  },
  "language_info": {
   "codemirror_mode": {
    "name": "ipython",
    "version": 2
   },
   "file_extension": ".py",
   "mimetype": "text/x-python",
   "name": "python",
   "nbconvert_exporter": "python",
   "pygments_lexer": "ipython2",
   "version": "2.7.6"
  }
 },
 "nbformat": 4,
 "nbformat_minor": 0
}
